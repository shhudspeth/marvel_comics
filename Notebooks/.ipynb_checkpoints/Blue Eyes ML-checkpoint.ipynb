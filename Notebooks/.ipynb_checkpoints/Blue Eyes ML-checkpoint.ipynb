{
 "cells": [
  {
   "cell_type": "markdown",
   "metadata": {},
   "source": [
    "## Should this Marvel Character have Blue Eyes?"
   ]
  },
  {
   "cell_type": "code",
   "execution_count": 561,
   "metadata": {},
   "outputs": [],
   "source": [
    "import pandas as pd\n",
    "import seaborn as sns\n",
    "%matplotlib inline\n",
    "import numpy as np\n",
    "import matplotlib.pyplot as plt\n",
    "from sklearn.model_selection import train_test_split\n",
    "from sklearn.model_selection import cross_val_score\n",
    "from sklearn.linear_model import LogisticRegression\n",
    "import sklearn.linear_model as linear_model\n",
    "from sklearn.metrics import mean_squared_error\n",
    "from sklearn.metrics import precision_recall_fscore_support\n"
   ]
  },
  {
   "cell_type": "markdown",
   "metadata": {},
   "source": [
    "### Data Cleaning and Organizing"
   ]
  },
  {
   "cell_type": "code",
   "execution_count": 562,
   "metadata": {},
   "outputs": [
    {
     "data": {
      "text/html": [
       "<div>\n",
       "<style scoped>\n",
       "    .dataframe tbody tr th:only-of-type {\n",
       "        vertical-align: middle;\n",
       "    }\n",
       "\n",
       "    .dataframe tbody tr th {\n",
       "        vertical-align: top;\n",
       "    }\n",
       "\n",
       "    .dataframe thead th {\n",
       "        text-align: right;\n",
       "    }\n",
       "</style>\n",
       "<table border=\"1\" class=\"dataframe\">\n",
       "  <thead>\n",
       "    <tr style=\"text-align: right;\">\n",
       "      <th></th>\n",
       "      <th>id</th>\n",
       "      <th>name</th>\n",
       "      <th>identity</th>\n",
       "      <th>alignment</th>\n",
       "      <th>orientation</th>\n",
       "      <th>status</th>\n",
       "      <th>appearances</th>\n",
       "      <th>introduced</th>\n",
       "      <th>introduced_month</th>\n",
       "      <th>eyes</th>\n",
       "      <th>hair</th>\n",
       "      <th>gender</th>\n",
       "    </tr>\n",
       "  </thead>\n",
       "  <tbody>\n",
       "    <tr>\n",
       "      <td>0</td>\n",
       "      <td>461528</td>\n",
       "      <td>Bardak</td>\n",
       "      <td>single</td>\n",
       "      <td>bad</td>\n",
       "      <td>straight</td>\n",
       "      <td>dead</td>\n",
       "      <td>1.0</td>\n",
       "      <td>1939.0</td>\n",
       "      <td>Dec.</td>\n",
       "      <td>NaN</td>\n",
       "      <td>brown</td>\n",
       "      <td>male</td>\n",
       "    </tr>\n",
       "    <tr>\n",
       "      <td>1</td>\n",
       "      <td>657451</td>\n",
       "      <td>Bends (Masked Raider)</td>\n",
       "      <td>single</td>\n",
       "      <td>bad</td>\n",
       "      <td>straight</td>\n",
       "      <td>dead</td>\n",
       "      <td>1.0</td>\n",
       "      <td>1939.0</td>\n",
       "      <td>Oct.</td>\n",
       "      <td>NaN</td>\n",
       "      <td>NaN</td>\n",
       "      <td>male</td>\n",
       "    </tr>\n",
       "    <tr>\n",
       "      <td>2</td>\n",
       "      <td>437129</td>\n",
       "      <td>Blackie Ross</td>\n",
       "      <td>single</td>\n",
       "      <td>bad</td>\n",
       "      <td>straight</td>\n",
       "      <td>alive</td>\n",
       "      <td>1.0</td>\n",
       "      <td>1939.0</td>\n",
       "      <td>Dec.</td>\n",
       "      <td>NaN</td>\n",
       "      <td>black</td>\n",
       "      <td>male</td>\n",
       "    </tr>\n",
       "    <tr>\n",
       "      <td>3</td>\n",
       "      <td>642971</td>\n",
       "      <td>Bleck</td>\n",
       "      <td>single</td>\n",
       "      <td>neutral</td>\n",
       "      <td>straight</td>\n",
       "      <td>dead</td>\n",
       "      <td>1.0</td>\n",
       "      <td>1939.0</td>\n",
       "      <td>Oct.</td>\n",
       "      <td>NaN</td>\n",
       "      <td>NaN</td>\n",
       "      <td>male</td>\n",
       "    </tr>\n",
       "    <tr>\n",
       "      <td>4</td>\n",
       "      <td>437029</td>\n",
       "      <td>Cal Brunder</td>\n",
       "      <td>single</td>\n",
       "      <td>bad</td>\n",
       "      <td>straight</td>\n",
       "      <td>alive</td>\n",
       "      <td>1.0</td>\n",
       "      <td>1939.0</td>\n",
       "      <td>Oct.</td>\n",
       "      <td>NaN</td>\n",
       "      <td>NaN</td>\n",
       "      <td>male</td>\n",
       "    </tr>\n",
       "  </tbody>\n",
       "</table>\n",
       "</div>"
      ],
      "text/plain": [
       "       id                   name identity alignment orientation status  \\\n",
       "0  461528                 Bardak   single       bad    straight   dead   \n",
       "1  657451  Bends (Masked Raider)   single       bad    straight   dead   \n",
       "2  437129           Blackie Ross   single       bad    straight  alive   \n",
       "3  642971                  Bleck   single   neutral    straight   dead   \n",
       "4  437029            Cal Brunder   single       bad    straight  alive   \n",
       "\n",
       "   appearances  introduced introduced_month eyes   hair gender  \n",
       "0          1.0      1939.0             Dec.  NaN  brown   male  \n",
       "1          1.0      1939.0             Oct.  NaN    NaN   male  \n",
       "2          1.0      1939.0             Dec.  NaN  black   male  \n",
       "3          1.0      1939.0             Oct.  NaN    NaN   male  \n",
       "4          1.0      1939.0             Oct.  NaN    NaN   male  "
      ]
     },
     "execution_count": 562,
     "metadata": {},
     "output_type": "execute_result"
    }
   ],
   "source": [
    "df = pd.read_csv('../input/marvel-comics-character-dataset - marvel-wikia-data.csv')\n",
    "df.head()"
   ]
  },
  {
   "cell_type": "code",
   "execution_count": 563,
   "metadata": {},
   "outputs": [
    {
     "data": {
      "text/html": [
       "<div>\n",
       "<style scoped>\n",
       "    .dataframe tbody tr th:only-of-type {\n",
       "        vertical-align: middle;\n",
       "    }\n",
       "\n",
       "    .dataframe tbody tr th {\n",
       "        vertical-align: top;\n",
       "    }\n",
       "\n",
       "    .dataframe thead th {\n",
       "        text-align: right;\n",
       "    }\n",
       "</style>\n",
       "<table border=\"1\" class=\"dataframe\">\n",
       "  <thead>\n",
       "    <tr style=\"text-align: right;\">\n",
       "      <th></th>\n",
       "      <th>id</th>\n",
       "      <th>name</th>\n",
       "      <th>identity</th>\n",
       "      <th>alignment</th>\n",
       "      <th>orientation</th>\n",
       "      <th>status</th>\n",
       "      <th>appearances</th>\n",
       "      <th>introduced</th>\n",
       "      <th>introduced_month</th>\n",
       "      <th>eyes</th>\n",
       "      <th>hair</th>\n",
       "      <th>gender</th>\n",
       "    </tr>\n",
       "  </thead>\n",
       "  <tbody>\n",
       "    <tr>\n",
       "      <td>76</td>\n",
       "      <td>437867</td>\n",
       "      <td>Diane Carson</td>\n",
       "      <td>public</td>\n",
       "      <td>good</td>\n",
       "      <td>straight</td>\n",
       "      <td>alive</td>\n",
       "      <td>1.0</td>\n",
       "      <td>1940.0</td>\n",
       "      <td>Jan.</td>\n",
       "      <td>blue</td>\n",
       "      <td>blond</td>\n",
       "      <td>female</td>\n",
       "    </tr>\n",
       "    <tr>\n",
       "      <td>727</td>\n",
       "      <td>495227</td>\n",
       "      <td>Hercules (Captain America Past Life)</td>\n",
       "      <td>secret</td>\n",
       "      <td>good</td>\n",
       "      <td>straight</td>\n",
       "      <td>alive</td>\n",
       "      <td>1.0</td>\n",
       "      <td>1944.0</td>\n",
       "      <td>May.</td>\n",
       "      <td>blue</td>\n",
       "      <td>blond</td>\n",
       "      <td>male</td>\n",
       "    </tr>\n",
       "    <tr>\n",
       "      <td>855</td>\n",
       "      <td>708966</td>\n",
       "      <td>Nick Finelli</td>\n",
       "      <td>public</td>\n",
       "      <td>bad</td>\n",
       "      <td>straight</td>\n",
       "      <td>alive</td>\n",
       "      <td>1.0</td>\n",
       "      <td>1945.0</td>\n",
       "      <td>Sep.</td>\n",
       "      <td>blue</td>\n",
       "      <td>black</td>\n",
       "      <td>male</td>\n",
       "    </tr>\n",
       "    <tr>\n",
       "      <td>859</td>\n",
       "      <td>505245</td>\n",
       "      <td>Percy Walker</td>\n",
       "      <td>public</td>\n",
       "      <td>good</td>\n",
       "      <td>straight</td>\n",
       "      <td>alive</td>\n",
       "      <td>1.0</td>\n",
       "      <td>1945.0</td>\n",
       "      <td>Jan.</td>\n",
       "      <td>blue</td>\n",
       "      <td>blond</td>\n",
       "      <td>male</td>\n",
       "    </tr>\n",
       "    <tr>\n",
       "      <td>885</td>\n",
       "      <td>754718</td>\n",
       "      <td>Arch Murdock</td>\n",
       "      <td>single</td>\n",
       "      <td>bad</td>\n",
       "      <td>straight</td>\n",
       "      <td>alive</td>\n",
       "      <td>1.0</td>\n",
       "      <td>1946.0</td>\n",
       "      <td>Dec.</td>\n",
       "      <td>blue</td>\n",
       "      <td>red</td>\n",
       "      <td>male</td>\n",
       "    </tr>\n",
       "  </tbody>\n",
       "</table>\n",
       "</div>"
      ],
      "text/plain": [
       "         id                                  name identity alignment  \\\n",
       "76   437867                          Diane Carson   public      good   \n",
       "727  495227  Hercules (Captain America Past Life)   secret      good   \n",
       "855  708966                          Nick Finelli   public       bad   \n",
       "859  505245                          Percy Walker   public      good   \n",
       "885  754718                          Arch Murdock   single       bad   \n",
       "\n",
       "    orientation status  appearances  introduced introduced_month  eyes   hair  \\\n",
       "76     straight  alive          1.0      1940.0             Jan.  blue  blond   \n",
       "727    straight  alive          1.0      1944.0             May.  blue  blond   \n",
       "855    straight  alive          1.0      1945.0             Sep.  blue  black   \n",
       "859    straight  alive          1.0      1945.0             Jan.  blue  blond   \n",
       "885    straight  alive          1.0      1946.0             Dec.  blue    red   \n",
       "\n",
       "     gender  \n",
       "76   female  \n",
       "727    male  \n",
       "855    male  \n",
       "859    male  \n",
       "885    male  "
      ]
     },
     "execution_count": 563,
     "metadata": {},
     "output_type": "execute_result"
    }
   ],
   "source": [
    "df[df['eyes'] == 'blue'].head()"
   ]
  },
  {
   "cell_type": "code",
   "execution_count": 564,
   "metadata": {},
   "outputs": [
    {
     "data": {
      "text/plain": [
       "9767"
      ]
     },
     "execution_count": 564,
     "metadata": {},
     "output_type": "execute_result"
    }
   ],
   "source": [
    "len(df[df['eyes'].isnull()])"
   ]
  },
  {
   "cell_type": "code",
   "execution_count": 565,
   "metadata": {},
   "outputs": [
    {
     "data": {
      "text/plain": [
       "6609"
      ]
     },
     "execution_count": 565,
     "metadata": {},
     "output_type": "execute_result"
    }
   ],
   "source": [
    "len(df[df['eyes'].notnull()])"
   ]
  },
  {
   "cell_type": "code",
   "execution_count": 566,
   "metadata": {},
   "outputs": [
    {
     "data": {
      "text/plain": [
       "eyes\n",
       "amber                10\n",
       "black               555\n",
       "black eyeballs        3\n",
       "blue               1962\n",
       "brown              1924\n",
       "compound              1\n",
       "gold                 14\n",
       "green               613\n",
       "grey                 95\n",
       "hazel                76\n",
       "magenta               2\n",
       "multiple              7\n",
       "no                    7\n",
       "one eye              21\n",
       "orange               25\n",
       "pink                 21\n",
       "purple               31\n",
       "red                 508\n",
       "silver               12\n",
       "variable             49\n",
       "violet               11\n",
       "white               400\n",
       "yellow              256\n",
       "yellow eyeballs       6\n",
       "Name: id, dtype: int64"
      ]
     },
     "execution_count": 566,
     "metadata": {},
     "output_type": "execute_result"
    }
   ],
   "source": [
    "df.groupby(['eyes'])['id'].count()"
   ]
  },
  {
   "cell_type": "code",
   "execution_count": 567,
   "metadata": {},
   "outputs": [],
   "source": [
    "# code for blue and not blue"
   ]
  },
  {
   "cell_type": "code",
   "execution_count": 568,
   "metadata": {},
   "outputs": [],
   "source": [
    "df['blue_eyes']= df['eyes']"
   ]
  },
  {
   "cell_type": "code",
   "execution_count": 569,
   "metadata": {},
   "outputs": [],
   "source": [
    "df['blue_eyes'] = df['blue_eyes'].where(df['blue_eyes'].notnull(), -1)"
   ]
  },
  {
   "cell_type": "code",
   "execution_count": 570,
   "metadata": {},
   "outputs": [
    {
     "data": {
      "text/html": [
       "<div>\n",
       "<style scoped>\n",
       "    .dataframe tbody tr th:only-of-type {\n",
       "        vertical-align: middle;\n",
       "    }\n",
       "\n",
       "    .dataframe tbody tr th {\n",
       "        vertical-align: top;\n",
       "    }\n",
       "\n",
       "    .dataframe thead th {\n",
       "        text-align: right;\n",
       "    }\n",
       "</style>\n",
       "<table border=\"1\" class=\"dataframe\">\n",
       "  <thead>\n",
       "    <tr style=\"text-align: right;\">\n",
       "      <th></th>\n",
       "      <th>id</th>\n",
       "      <th>name</th>\n",
       "      <th>identity</th>\n",
       "      <th>alignment</th>\n",
       "      <th>orientation</th>\n",
       "      <th>status</th>\n",
       "      <th>appearances</th>\n",
       "      <th>introduced</th>\n",
       "      <th>introduced_month</th>\n",
       "      <th>eyes</th>\n",
       "      <th>hair</th>\n",
       "      <th>gender</th>\n",
       "      <th>blue_eyes</th>\n",
       "    </tr>\n",
       "  </thead>\n",
       "  <tbody>\n",
       "    <tr>\n",
       "      <td>0</td>\n",
       "      <td>461528</td>\n",
       "      <td>Bardak</td>\n",
       "      <td>single</td>\n",
       "      <td>bad</td>\n",
       "      <td>straight</td>\n",
       "      <td>dead</td>\n",
       "      <td>1.0</td>\n",
       "      <td>1939.0</td>\n",
       "      <td>Dec.</td>\n",
       "      <td>NaN</td>\n",
       "      <td>brown</td>\n",
       "      <td>male</td>\n",
       "      <td>-1</td>\n",
       "    </tr>\n",
       "    <tr>\n",
       "      <td>1</td>\n",
       "      <td>657451</td>\n",
       "      <td>Bends (Masked Raider)</td>\n",
       "      <td>single</td>\n",
       "      <td>bad</td>\n",
       "      <td>straight</td>\n",
       "      <td>dead</td>\n",
       "      <td>1.0</td>\n",
       "      <td>1939.0</td>\n",
       "      <td>Oct.</td>\n",
       "      <td>NaN</td>\n",
       "      <td>NaN</td>\n",
       "      <td>male</td>\n",
       "      <td>-1</td>\n",
       "    </tr>\n",
       "    <tr>\n",
       "      <td>2</td>\n",
       "      <td>437129</td>\n",
       "      <td>Blackie Ross</td>\n",
       "      <td>single</td>\n",
       "      <td>bad</td>\n",
       "      <td>straight</td>\n",
       "      <td>alive</td>\n",
       "      <td>1.0</td>\n",
       "      <td>1939.0</td>\n",
       "      <td>Dec.</td>\n",
       "      <td>NaN</td>\n",
       "      <td>black</td>\n",
       "      <td>male</td>\n",
       "      <td>-1</td>\n",
       "    </tr>\n",
       "    <tr>\n",
       "      <td>3</td>\n",
       "      <td>642971</td>\n",
       "      <td>Bleck</td>\n",
       "      <td>single</td>\n",
       "      <td>neutral</td>\n",
       "      <td>straight</td>\n",
       "      <td>dead</td>\n",
       "      <td>1.0</td>\n",
       "      <td>1939.0</td>\n",
       "      <td>Oct.</td>\n",
       "      <td>NaN</td>\n",
       "      <td>NaN</td>\n",
       "      <td>male</td>\n",
       "      <td>-1</td>\n",
       "    </tr>\n",
       "    <tr>\n",
       "      <td>4</td>\n",
       "      <td>437029</td>\n",
       "      <td>Cal Brunder</td>\n",
       "      <td>single</td>\n",
       "      <td>bad</td>\n",
       "      <td>straight</td>\n",
       "      <td>alive</td>\n",
       "      <td>1.0</td>\n",
       "      <td>1939.0</td>\n",
       "      <td>Oct.</td>\n",
       "      <td>NaN</td>\n",
       "      <td>NaN</td>\n",
       "      <td>male</td>\n",
       "      <td>-1</td>\n",
       "    </tr>\n",
       "  </tbody>\n",
       "</table>\n",
       "</div>"
      ],
      "text/plain": [
       "       id                   name identity alignment orientation status  \\\n",
       "0  461528                 Bardak   single       bad    straight   dead   \n",
       "1  657451  Bends (Masked Raider)   single       bad    straight   dead   \n",
       "2  437129           Blackie Ross   single       bad    straight  alive   \n",
       "3  642971                  Bleck   single   neutral    straight   dead   \n",
       "4  437029            Cal Brunder   single       bad    straight  alive   \n",
       "\n",
       "   appearances  introduced introduced_month eyes   hair gender blue_eyes  \n",
       "0          1.0      1939.0             Dec.  NaN  brown   male        -1  \n",
       "1          1.0      1939.0             Oct.  NaN    NaN   male        -1  \n",
       "2          1.0      1939.0             Dec.  NaN  black   male        -1  \n",
       "3          1.0      1939.0             Oct.  NaN    NaN   male        -1  \n",
       "4          1.0      1939.0             Oct.  NaN    NaN   male        -1  "
      ]
     },
     "execution_count": 570,
     "metadata": {},
     "output_type": "execute_result"
    }
   ],
   "source": [
    "prediction_df = df[df['blue_eyes'] == -1].copy()\n",
    "prediction_df.head()"
   ]
  },
  {
   "cell_type": "code",
   "execution_count": 644,
   "metadata": {},
   "outputs": [
    {
     "name": "stdout",
     "output_type": "stream",
     "text": [
      "<class 'pandas.core.frame.DataFrame'>\n",
      "Int64Index: 9767 entries, 0 to 16375\n",
      "Data columns (total 13 columns):\n",
      "id                      9767 non-null int64\n",
      "name                    9767 non-null object\n",
      "appearances             9767 non-null float64\n",
      "introduced              9767 non-null float64\n",
      "eyes                    0 non-null object\n",
      "blue_eyes               9767 non-null object\n",
      "identity_num            9767 non-null int64\n",
      "alignment_num           9767 non-null int64\n",
      "orientation_num         9767 non-null int64\n",
      "status_num              9767 non-null int64\n",
      "introduced_month_num    9767 non-null int64\n",
      "hair_num                9767 non-null int64\n",
      "gender_num              9767 non-null int64\n",
      "dtypes: float64(2), int64(8), object(3)\n",
      "memory usage: 1.0+ MB\n"
     ]
    }
   ],
   "source": [
    "prediction_df.info()"
   ]
  },
  {
   "cell_type": "code",
   "execution_count": 645,
   "metadata": {},
   "outputs": [],
   "source": [
    "prediction_df.drop(columns = ['eyes', 'blue_eyes'], inplace=True)"
   ]
  },
  {
   "cell_type": "code",
   "execution_count": 684,
   "metadata": {},
   "outputs": [],
   "source": [
    "import random\n",
    "id_ = random.sample(set(prediction_df.index),1)[0]\n",
    "data_ = prediction_df.loc[id_]"
   ]
  },
  {
   "cell_type": "code",
   "execution_count": 685,
   "metadata": {},
   "outputs": [
    {
     "data": {
      "text/plain": [
       "1539"
      ]
     },
     "execution_count": 685,
     "metadata": {},
     "output_type": "execute_result"
    }
   ],
   "source": [
    "id_"
   ]
  },
  {
   "cell_type": "code",
   "execution_count": 686,
   "metadata": {},
   "outputs": [
    {
     "data": {
      "text/plain": [
       "{'id': 625243,\n",
       " 'name': 'Taurus (Hyboria)',\n",
       " 'appearances': 1.0,\n",
       " 'introduced': 1971.0,\n",
       " 'identity_num': 2,\n",
       " 'alignment_num': 4,\n",
       " 'orientation_num': 1,\n",
       " 'status_num': 1,\n",
       " 'introduced_month_num': 5,\n",
       " 'hair_num': 2,\n",
       " 'gender_num': 1}"
      ]
     },
     "execution_count": 686,
     "metadata": {},
     "output_type": "execute_result"
    }
   ],
   "source": [
    "data_.to_dict()"
   ]
  },
  {
   "cell_type": "code",
   "execution_count": 687,
   "metadata": {},
   "outputs": [],
   "source": [
    "name = data_.pop('name')"
   ]
  },
  {
   "cell_type": "code",
   "execution_count": 688,
   "metadata": {},
   "outputs": [
    {
     "data": {
      "text/plain": [
       "'Taurus (Hyboria)'"
      ]
     },
     "execution_count": 688,
     "metadata": {},
     "output_type": "execute_result"
    }
   ],
   "source": [
    "name"
   ]
  },
  {
   "cell_type": "code",
   "execution_count": 647,
   "metadata": {},
   "outputs": [
    {
     "data": {
      "text/html": [
       "<div>\n",
       "<style scoped>\n",
       "    .dataframe tbody tr th:only-of-type {\n",
       "        vertical-align: middle;\n",
       "    }\n",
       "\n",
       "    .dataframe tbody tr th {\n",
       "        vertical-align: top;\n",
       "    }\n",
       "\n",
       "    .dataframe thead th {\n",
       "        text-align: right;\n",
       "    }\n",
       "</style>\n",
       "<table border=\"1\" class=\"dataframe\">\n",
       "  <thead>\n",
       "    <tr style=\"text-align: right;\">\n",
       "      <th></th>\n",
       "      <th>id</th>\n",
       "      <th>name</th>\n",
       "      <th>appearances</th>\n",
       "      <th>introduced</th>\n",
       "      <th>identity_num</th>\n",
       "      <th>alignment_num</th>\n",
       "      <th>orientation_num</th>\n",
       "      <th>status_num</th>\n",
       "      <th>introduced_month_num</th>\n",
       "      <th>hair_num</th>\n",
       "      <th>gender_num</th>\n",
       "    </tr>\n",
       "  </thead>\n",
       "  <tbody>\n",
       "    <tr>\n",
       "      <td>0</td>\n",
       "      <td>461528</td>\n",
       "      <td>Bardak</td>\n",
       "      <td>1.0</td>\n",
       "      <td>1939.0</td>\n",
       "      <td>1</td>\n",
       "      <td>1</td>\n",
       "      <td>1</td>\n",
       "      <td>1</td>\n",
       "      <td>1</td>\n",
       "      <td>1</td>\n",
       "      <td>1</td>\n",
       "    </tr>\n",
       "    <tr>\n",
       "      <td>1</td>\n",
       "      <td>657451</td>\n",
       "      <td>Bends (Masked Raider)</td>\n",
       "      <td>1.0</td>\n",
       "      <td>1939.0</td>\n",
       "      <td>1</td>\n",
       "      <td>1</td>\n",
       "      <td>1</td>\n",
       "      <td>1</td>\n",
       "      <td>2</td>\n",
       "      <td>2</td>\n",
       "      <td>1</td>\n",
       "    </tr>\n",
       "    <tr>\n",
       "      <td>2</td>\n",
       "      <td>437129</td>\n",
       "      <td>Blackie Ross</td>\n",
       "      <td>1.0</td>\n",
       "      <td>1939.0</td>\n",
       "      <td>1</td>\n",
       "      <td>1</td>\n",
       "      <td>1</td>\n",
       "      <td>2</td>\n",
       "      <td>1</td>\n",
       "      <td>3</td>\n",
       "      <td>1</td>\n",
       "    </tr>\n",
       "    <tr>\n",
       "      <td>3</td>\n",
       "      <td>642971</td>\n",
       "      <td>Bleck</td>\n",
       "      <td>1.0</td>\n",
       "      <td>1939.0</td>\n",
       "      <td>1</td>\n",
       "      <td>2</td>\n",
       "      <td>1</td>\n",
       "      <td>1</td>\n",
       "      <td>2</td>\n",
       "      <td>2</td>\n",
       "      <td>1</td>\n",
       "    </tr>\n",
       "    <tr>\n",
       "      <td>4</td>\n",
       "      <td>437029</td>\n",
       "      <td>Cal Brunder</td>\n",
       "      <td>1.0</td>\n",
       "      <td>1939.0</td>\n",
       "      <td>1</td>\n",
       "      <td>1</td>\n",
       "      <td>1</td>\n",
       "      <td>2</td>\n",
       "      <td>2</td>\n",
       "      <td>2</td>\n",
       "      <td>1</td>\n",
       "    </tr>\n",
       "  </tbody>\n",
       "</table>\n",
       "</div>"
      ],
      "text/plain": [
       "       id                   name  appearances  introduced  identity_num  \\\n",
       "0  461528                 Bardak          1.0      1939.0             1   \n",
       "1  657451  Bends (Masked Raider)          1.0      1939.0             1   \n",
       "2  437129           Blackie Ross          1.0      1939.0             1   \n",
       "3  642971                  Bleck          1.0      1939.0             1   \n",
       "4  437029            Cal Brunder          1.0      1939.0             1   \n",
       "\n",
       "   alignment_num  orientation_num  status_num  introduced_month_num  hair_num  \\\n",
       "0              1                1           1                     1         1   \n",
       "1              1                1           1                     2         2   \n",
       "2              1                1           2                     1         3   \n",
       "3              2                1           1                     2         2   \n",
       "4              1                1           2                     2         2   \n",
       "\n",
       "   gender_num  \n",
       "0           1  \n",
       "1           1  \n",
       "2           1  \n",
       "3           1  \n",
       "4           1  "
      ]
     },
     "execution_count": 647,
     "metadata": {},
     "output_type": "execute_result"
    }
   ],
   "source": [
    "prediction_df.head()"
   ]
  },
  {
   "cell_type": "code",
   "execution_count": 646,
   "metadata": {},
   "outputs": [],
   "source": [
    "prediction_df.to_csv('prediction_data.csv')"
   ]
  },
  {
   "cell_type": "code",
   "execution_count": 572,
   "metadata": {},
   "outputs": [],
   "source": [
    "df.drop(prediction_df.index, inplace=True)"
   ]
  },
  {
   "cell_type": "code",
   "execution_count": 573,
   "metadata": {},
   "outputs": [
    {
     "name": "stdout",
     "output_type": "stream",
     "text": [
      "<class 'pandas.core.frame.DataFrame'>\n",
      "Int64Index: 6609 entries, 76 to 16373\n",
      "Data columns (total 13 columns):\n",
      "id                  6609 non-null int64\n",
      "name                6609 non-null object\n",
      "identity            5834 non-null object\n",
      "alignment           5801 non-null object\n",
      "orientation         6609 non-null object\n",
      "status              6609 non-null object\n",
      "appearances         6259 non-null float64\n",
      "introduced          6212 non-null float64\n",
      "introduced_month    6212 non-null object\n",
      "eyes                6609 non-null object\n",
      "hair                6298 non-null object\n",
      "gender              6455 non-null object\n",
      "blue_eyes           6609 non-null object\n",
      "dtypes: float64(2), int64(1), object(10)\n",
      "memory usage: 722.9+ KB\n"
     ]
    }
   ],
   "source": [
    "df.info()"
   ]
  },
  {
   "cell_type": "code",
   "execution_count": 574,
   "metadata": {},
   "outputs": [],
   "source": [
    "df['blue_eyes'].where(df['blue_eyes'] == 'blue', 0, inplace=True)"
   ]
  },
  {
   "cell_type": "code",
   "execution_count": 575,
   "metadata": {},
   "outputs": [],
   "source": [
    "df['blue_eyes'].where(df['blue_eyes'] != 'blue', 1, inplace=True)"
   ]
  },
  {
   "cell_type": "code",
   "execution_count": 576,
   "metadata": {},
   "outputs": [
    {
     "data": {
      "text/html": [
       "<div>\n",
       "<style scoped>\n",
       "    .dataframe tbody tr th:only-of-type {\n",
       "        vertical-align: middle;\n",
       "    }\n",
       "\n",
       "    .dataframe tbody tr th {\n",
       "        vertical-align: top;\n",
       "    }\n",
       "\n",
       "    .dataframe thead th {\n",
       "        text-align: right;\n",
       "    }\n",
       "</style>\n",
       "<table border=\"1\" class=\"dataframe\">\n",
       "  <thead>\n",
       "    <tr style=\"text-align: right;\">\n",
       "      <th></th>\n",
       "      <th>id</th>\n",
       "      <th>name</th>\n",
       "      <th>identity</th>\n",
       "      <th>alignment</th>\n",
       "      <th>orientation</th>\n",
       "      <th>status</th>\n",
       "      <th>appearances</th>\n",
       "      <th>introduced</th>\n",
       "      <th>introduced_month</th>\n",
       "      <th>eyes</th>\n",
       "      <th>hair</th>\n",
       "      <th>gender</th>\n",
       "      <th>blue_eyes</th>\n",
       "    </tr>\n",
       "  </thead>\n",
       "  <tbody>\n",
       "    <tr>\n",
       "      <td>76</td>\n",
       "      <td>437867</td>\n",
       "      <td>Diane Carson</td>\n",
       "      <td>public</td>\n",
       "      <td>good</td>\n",
       "      <td>straight</td>\n",
       "      <td>alive</td>\n",
       "      <td>1.0</td>\n",
       "      <td>1940.0</td>\n",
       "      <td>Jan.</td>\n",
       "      <td>blue</td>\n",
       "      <td>blond</td>\n",
       "      <td>female</td>\n",
       "      <td>1</td>\n",
       "    </tr>\n",
       "    <tr>\n",
       "      <td>91</td>\n",
       "      <td>448489</td>\n",
       "      <td>Green Terror (3Xs Foe)</td>\n",
       "      <td>secret</td>\n",
       "      <td>bad</td>\n",
       "      <td>straight</td>\n",
       "      <td>alive</td>\n",
       "      <td>1.0</td>\n",
       "      <td>1940.0</td>\n",
       "      <td>Mar.</td>\n",
       "      <td>green</td>\n",
       "      <td>green</td>\n",
       "      <td>male</td>\n",
       "      <td>0</td>\n",
       "    </tr>\n",
       "    <tr>\n",
       "      <td>164</td>\n",
       "      <td>441633</td>\n",
       "      <td>Zoor</td>\n",
       "      <td>single</td>\n",
       "      <td>bad</td>\n",
       "      <td>straight</td>\n",
       "      <td>alive</td>\n",
       "      <td>1.0</td>\n",
       "      <td>1940.0</td>\n",
       "      <td>Jul.</td>\n",
       "      <td>red</td>\n",
       "      <td>bald</td>\n",
       "      <td>male</td>\n",
       "      <td>0</td>\n",
       "    </tr>\n",
       "    <tr>\n",
       "      <td>165</td>\n",
       "      <td>90942</td>\n",
       "      <td>Ak</td>\n",
       "      <td>single</td>\n",
       "      <td>good</td>\n",
       "      <td>straight</td>\n",
       "      <td>dead</td>\n",
       "      <td>1.0</td>\n",
       "      <td>1941.0</td>\n",
       "      <td>Mar.</td>\n",
       "      <td>one eye</td>\n",
       "      <td>NaN</td>\n",
       "      <td>male</td>\n",
       "      <td>0</td>\n",
       "    </tr>\n",
       "    <tr>\n",
       "      <td>188</td>\n",
       "      <td>468107</td>\n",
       "      <td>Doctor Howard</td>\n",
       "      <td>secret</td>\n",
       "      <td>bad</td>\n",
       "      <td>straight</td>\n",
       "      <td>alive</td>\n",
       "      <td>1.0</td>\n",
       "      <td>1941.0</td>\n",
       "      <td>Dec.</td>\n",
       "      <td>black</td>\n",
       "      <td>NaN</td>\n",
       "      <td>male</td>\n",
       "      <td>0</td>\n",
       "    </tr>\n",
       "  </tbody>\n",
       "</table>\n",
       "</div>"
      ],
      "text/plain": [
       "         id                    name identity alignment orientation status  \\\n",
       "76   437867            Diane Carson   public      good    straight  alive   \n",
       "91   448489  Green Terror (3Xs Foe)   secret       bad    straight  alive   \n",
       "164  441633                    Zoor   single       bad    straight  alive   \n",
       "165   90942                      Ak   single      good    straight   dead   \n",
       "188  468107           Doctor Howard   secret       bad    straight  alive   \n",
       "\n",
       "     appearances  introduced introduced_month     eyes   hair  gender  \\\n",
       "76           1.0      1940.0             Jan.     blue  blond  female   \n",
       "91           1.0      1940.0             Mar.    green  green    male   \n",
       "164          1.0      1940.0             Jul.      red   bald    male   \n",
       "165          1.0      1941.0             Mar.  one eye    NaN    male   \n",
       "188          1.0      1941.0             Dec.    black    NaN    male   \n",
       "\n",
       "    blue_eyes  \n",
       "76          1  \n",
       "91          0  \n",
       "164         0  \n",
       "165         0  \n",
       "188         0  "
      ]
     },
     "execution_count": 576,
     "metadata": {},
     "output_type": "execute_result"
    }
   ],
   "source": [
    "df.head()"
   ]
  },
  {
   "cell_type": "code",
   "execution_count": 577,
   "metadata": {},
   "outputs": [
    {
     "data": {
      "text/html": [
       "<div>\n",
       "<style scoped>\n",
       "    .dataframe tbody tr th:only-of-type {\n",
       "        vertical-align: middle;\n",
       "    }\n",
       "\n",
       "    .dataframe tbody tr th {\n",
       "        vertical-align: top;\n",
       "    }\n",
       "\n",
       "    .dataframe thead th {\n",
       "        text-align: right;\n",
       "    }\n",
       "</style>\n",
       "<table border=\"1\" class=\"dataframe\">\n",
       "  <thead>\n",
       "    <tr style=\"text-align: right;\">\n",
       "      <th></th>\n",
       "      <th>id</th>\n",
       "      <th>name</th>\n",
       "      <th>identity</th>\n",
       "      <th>alignment</th>\n",
       "      <th>orientation</th>\n",
       "      <th>status</th>\n",
       "      <th>appearances</th>\n",
       "      <th>introduced</th>\n",
       "      <th>introduced_month</th>\n",
       "      <th>eyes</th>\n",
       "      <th>hair</th>\n",
       "      <th>gender</th>\n",
       "      <th>blue_eyes</th>\n",
       "    </tr>\n",
       "  </thead>\n",
       "  <tbody>\n",
       "    <tr>\n",
       "      <td>76</td>\n",
       "      <td>437867</td>\n",
       "      <td>Diane Carson</td>\n",
       "      <td>public</td>\n",
       "      <td>good</td>\n",
       "      <td>straight</td>\n",
       "      <td>alive</td>\n",
       "      <td>1.0</td>\n",
       "      <td>1940.0</td>\n",
       "      <td>Jan.</td>\n",
       "      <td>blue</td>\n",
       "      <td>blond</td>\n",
       "      <td>female</td>\n",
       "      <td>1</td>\n",
       "    </tr>\n",
       "    <tr>\n",
       "      <td>727</td>\n",
       "      <td>495227</td>\n",
       "      <td>Hercules (Captain America Past Life)</td>\n",
       "      <td>secret</td>\n",
       "      <td>good</td>\n",
       "      <td>straight</td>\n",
       "      <td>alive</td>\n",
       "      <td>1.0</td>\n",
       "      <td>1944.0</td>\n",
       "      <td>May.</td>\n",
       "      <td>blue</td>\n",
       "      <td>blond</td>\n",
       "      <td>male</td>\n",
       "      <td>1</td>\n",
       "    </tr>\n",
       "    <tr>\n",
       "      <td>855</td>\n",
       "      <td>708966</td>\n",
       "      <td>Nick Finelli</td>\n",
       "      <td>public</td>\n",
       "      <td>bad</td>\n",
       "      <td>straight</td>\n",
       "      <td>alive</td>\n",
       "      <td>1.0</td>\n",
       "      <td>1945.0</td>\n",
       "      <td>Sep.</td>\n",
       "      <td>blue</td>\n",
       "      <td>black</td>\n",
       "      <td>male</td>\n",
       "      <td>1</td>\n",
       "    </tr>\n",
       "    <tr>\n",
       "      <td>859</td>\n",
       "      <td>505245</td>\n",
       "      <td>Percy Walker</td>\n",
       "      <td>public</td>\n",
       "      <td>good</td>\n",
       "      <td>straight</td>\n",
       "      <td>alive</td>\n",
       "      <td>1.0</td>\n",
       "      <td>1945.0</td>\n",
       "      <td>Jan.</td>\n",
       "      <td>blue</td>\n",
       "      <td>blond</td>\n",
       "      <td>male</td>\n",
       "      <td>1</td>\n",
       "    </tr>\n",
       "    <tr>\n",
       "      <td>885</td>\n",
       "      <td>754718</td>\n",
       "      <td>Arch Murdock</td>\n",
       "      <td>single</td>\n",
       "      <td>bad</td>\n",
       "      <td>straight</td>\n",
       "      <td>alive</td>\n",
       "      <td>1.0</td>\n",
       "      <td>1946.0</td>\n",
       "      <td>Dec.</td>\n",
       "      <td>blue</td>\n",
       "      <td>red</td>\n",
       "      <td>male</td>\n",
       "      <td>1</td>\n",
       "    </tr>\n",
       "  </tbody>\n",
       "</table>\n",
       "</div>"
      ],
      "text/plain": [
       "         id                                  name identity alignment  \\\n",
       "76   437867                          Diane Carson   public      good   \n",
       "727  495227  Hercules (Captain America Past Life)   secret      good   \n",
       "855  708966                          Nick Finelli   public       bad   \n",
       "859  505245                          Percy Walker   public      good   \n",
       "885  754718                          Arch Murdock   single       bad   \n",
       "\n",
       "    orientation status  appearances  introduced introduced_month  eyes   hair  \\\n",
       "76     straight  alive          1.0      1940.0             Jan.  blue  blond   \n",
       "727    straight  alive          1.0      1944.0             May.  blue  blond   \n",
       "855    straight  alive          1.0      1945.0             Sep.  blue  black   \n",
       "859    straight  alive          1.0      1945.0             Jan.  blue  blond   \n",
       "885    straight  alive          1.0      1946.0             Dec.  blue    red   \n",
       "\n",
       "     gender blue_eyes  \n",
       "76   female         1  \n",
       "727    male         1  \n",
       "855    male         1  \n",
       "859    male         1  \n",
       "885    male         1  "
      ]
     },
     "execution_count": 577,
     "metadata": {},
     "output_type": "execute_result"
    }
   ],
   "source": [
    "df[df['blue_eyes'] == 1].head()"
   ]
  },
  {
   "cell_type": "code",
   "execution_count": null,
   "metadata": {},
   "outputs": [],
   "source": []
  },
  {
   "cell_type": "code",
   "execution_count": 578,
   "metadata": {},
   "outputs": [],
   "source": [
    "df.drop(columns=['eyes'], inplace=True)"
   ]
  },
  {
   "cell_type": "markdown",
   "metadata": {},
   "source": [
    "#### One Hot encoding of Features"
   ]
  },
  {
   "cell_type": "code",
   "execution_count": 579,
   "metadata": {},
   "outputs": [],
   "source": [
    "# distributions and sampling"
   ]
  },
  {
   "cell_type": "code",
   "execution_count": 580,
   "metadata": {},
   "outputs": [
    {
     "data": {
      "text/plain": [
       "array(['public', 'secret', 'single', nan, 'known to authorities'],\n",
       "      dtype=object)"
      ]
     },
     "execution_count": 580,
     "metadata": {},
     "output_type": "execute_result"
    }
   ],
   "source": [
    "df['identity'].unique()"
   ]
  },
  {
   "cell_type": "code",
   "execution_count": 581,
   "metadata": {},
   "outputs": [
    {
     "data": {
      "text/plain": [
       "Index(['id', 'name', 'identity', 'alignment', 'orientation', 'status',\n",
       "       'appearances', 'introduced', 'introduced_month', 'hair', 'gender',\n",
       "       'blue_eyes'],\n",
       "      dtype='object')"
      ]
     },
     "execution_count": 581,
     "metadata": {},
     "output_type": "execute_result"
    }
   ],
   "source": [
    "df.columns"
   ]
  },
  {
   "cell_type": "code",
   "execution_count": 582,
   "metadata": {},
   "outputs": [],
   "source": [
    "columns_to_encode = ['identity', 'alignment', 'orientation', 'status',\n",
    "        'introduced_month',  'hair',\n",
    "       'gender', ]\n",
    "         "
   ]
  },
  {
   "cell_type": "code",
   "execution_count": 583,
   "metadata": {},
   "outputs": [],
   "source": [
    "def encode_map_dict(names):\n",
    "    counts_map = [(y, x+1) for x, y in enumerate(names) ]\n",
    "    co_maps = dict(counts_map)\n",
    "    return(co_maps)\n",
    "\n",
    "def make_unique_sets_encoding(column, df_f):\n",
    "    list_feature_list=df_f[column].unique()\n",
    "    diction_ = encode_map_dict(list_feature_list)\n",
    "    return encode_map_dict(list_feature_list)\n",
    "\n",
    "def encode_columns(df_f, columns):\n",
    "    for x in columns:\n",
    "        x_name = str(x) + '_num'\n",
    "        dict_x = make_unique_sets_encoding(x, df_f)\n",
    "        df_f[x_name]= df_f[x].map(dict_x);\n",
    "        \n",
    "        \n",
    "encode_columns(df, columns_to_encode)\n"
   ]
  },
  {
   "cell_type": "code",
   "execution_count": 584,
   "metadata": {},
   "outputs": [],
   "source": [
    "# Predictions work flow\n",
    "encode_columns(prediction_df, columns_to_encode)\n",
    "prediction_df.drop(columns=columns_to_encode, inplace=True)"
   ]
  },
  {
   "cell_type": "code",
   "execution_count": 585,
   "metadata": {},
   "outputs": [
    {
     "name": "stdout",
     "output_type": "stream",
     "text": [
      "<class 'pandas.core.frame.DataFrame'>\n",
      "Int64Index: 9767 entries, 0 to 16375\n",
      "Data columns (total 13 columns):\n",
      "id                      9767 non-null int64\n",
      "name                    9767 non-null object\n",
      "appearances             9021 non-null float64\n",
      "introduced              9349 non-null float64\n",
      "eyes                    0 non-null object\n",
      "blue_eyes               9767 non-null object\n",
      "identity_num            9767 non-null int64\n",
      "alignment_num           9767 non-null int64\n",
      "orientation_num         9767 non-null int64\n",
      "status_num              9767 non-null int64\n",
      "introduced_month_num    9767 non-null int64\n",
      "hair_num                9767 non-null int64\n",
      "gender_num              9767 non-null int64\n",
      "dtypes: float64(2), int64(8), object(3)\n",
      "memory usage: 1.0+ MB\n"
     ]
    }
   ],
   "source": [
    "prediction_df.info()"
   ]
  },
  {
   "cell_type": "code",
   "execution_count": 586,
   "metadata": {},
   "outputs": [
    {
     "name": "stdout",
     "output_type": "stream",
     "text": [
      "<class 'pandas.core.frame.DataFrame'>\n",
      "Int64Index: 9767 entries, 0 to 16375\n",
      "Data columns (total 13 columns):\n",
      "id                      9767 non-null int64\n",
      "name                    9767 non-null object\n",
      "appearances             9767 non-null float64\n",
      "introduced              9767 non-null float64\n",
      "eyes                    0 non-null object\n",
      "blue_eyes               9767 non-null object\n",
      "identity_num            9767 non-null int64\n",
      "alignment_num           9767 non-null int64\n",
      "orientation_num         9767 non-null int64\n",
      "status_num              9767 non-null int64\n",
      "introduced_month_num    9767 non-null int64\n",
      "hair_num                9767 non-null int64\n",
      "gender_num              9767 non-null int64\n",
      "dtypes: float64(2), int64(8), object(3)\n",
      "memory usage: 1.0+ MB\n"
     ]
    }
   ],
   "source": [
    "prediction_df['appearances'] = prediction_df['appearances'].where(prediction_df['appearances'].notnull(), -1)\n",
    "prediction_df['introduced'] = prediction_df['introduced'].where(prediction_df['introduced'].notnull(), -1)\n",
    "prediction_df.info()"
   ]
  },
  {
   "cell_type": "code",
   "execution_count": 587,
   "metadata": {},
   "outputs": [],
   "source": [
    "df.drop(columns=columns_to_encode, inplace=True)"
   ]
  },
  {
   "cell_type": "code",
   "execution_count": 588,
   "metadata": {},
   "outputs": [
    {
     "data": {
      "text/html": [
       "<div>\n",
       "<style scoped>\n",
       "    .dataframe tbody tr th:only-of-type {\n",
       "        vertical-align: middle;\n",
       "    }\n",
       "\n",
       "    .dataframe tbody tr th {\n",
       "        vertical-align: top;\n",
       "    }\n",
       "\n",
       "    .dataframe thead th {\n",
       "        text-align: right;\n",
       "    }\n",
       "</style>\n",
       "<table border=\"1\" class=\"dataframe\">\n",
       "  <thead>\n",
       "    <tr style=\"text-align: right;\">\n",
       "      <th></th>\n",
       "      <th>id</th>\n",
       "      <th>name</th>\n",
       "      <th>appearances</th>\n",
       "      <th>introduced</th>\n",
       "      <th>blue_eyes</th>\n",
       "      <th>identity_num</th>\n",
       "      <th>alignment_num</th>\n",
       "      <th>orientation_num</th>\n",
       "      <th>status_num</th>\n",
       "      <th>introduced_month_num</th>\n",
       "      <th>hair_num</th>\n",
       "      <th>gender_num</th>\n",
       "    </tr>\n",
       "  </thead>\n",
       "  <tbody>\n",
       "    <tr>\n",
       "      <td>76</td>\n",
       "      <td>437867</td>\n",
       "      <td>Diane Carson</td>\n",
       "      <td>1.0</td>\n",
       "      <td>1940.0</td>\n",
       "      <td>1</td>\n",
       "      <td>1</td>\n",
       "      <td>1</td>\n",
       "      <td>1</td>\n",
       "      <td>1</td>\n",
       "      <td>1</td>\n",
       "      <td>1</td>\n",
       "      <td>1</td>\n",
       "    </tr>\n",
       "    <tr>\n",
       "      <td>91</td>\n",
       "      <td>448489</td>\n",
       "      <td>Green Terror (3Xs Foe)</td>\n",
       "      <td>1.0</td>\n",
       "      <td>1940.0</td>\n",
       "      <td>0</td>\n",
       "      <td>2</td>\n",
       "      <td>2</td>\n",
       "      <td>1</td>\n",
       "      <td>1</td>\n",
       "      <td>2</td>\n",
       "      <td>2</td>\n",
       "      <td>2</td>\n",
       "    </tr>\n",
       "    <tr>\n",
       "      <td>164</td>\n",
       "      <td>441633</td>\n",
       "      <td>Zoor</td>\n",
       "      <td>1.0</td>\n",
       "      <td>1940.0</td>\n",
       "      <td>0</td>\n",
       "      <td>3</td>\n",
       "      <td>2</td>\n",
       "      <td>1</td>\n",
       "      <td>1</td>\n",
       "      <td>3</td>\n",
       "      <td>3</td>\n",
       "      <td>2</td>\n",
       "    </tr>\n",
       "    <tr>\n",
       "      <td>165</td>\n",
       "      <td>90942</td>\n",
       "      <td>Ak</td>\n",
       "      <td>1.0</td>\n",
       "      <td>1941.0</td>\n",
       "      <td>0</td>\n",
       "      <td>3</td>\n",
       "      <td>1</td>\n",
       "      <td>1</td>\n",
       "      <td>2</td>\n",
       "      <td>2</td>\n",
       "      <td>4</td>\n",
       "      <td>2</td>\n",
       "    </tr>\n",
       "    <tr>\n",
       "      <td>188</td>\n",
       "      <td>468107</td>\n",
       "      <td>Doctor Howard</td>\n",
       "      <td>1.0</td>\n",
       "      <td>1941.0</td>\n",
       "      <td>0</td>\n",
       "      <td>2</td>\n",
       "      <td>2</td>\n",
       "      <td>1</td>\n",
       "      <td>1</td>\n",
       "      <td>4</td>\n",
       "      <td>4</td>\n",
       "      <td>2</td>\n",
       "    </tr>\n",
       "  </tbody>\n",
       "</table>\n",
       "</div>"
      ],
      "text/plain": [
       "         id                    name  appearances  introduced blue_eyes  \\\n",
       "76   437867            Diane Carson          1.0      1940.0         1   \n",
       "91   448489  Green Terror (3Xs Foe)          1.0      1940.0         0   \n",
       "164  441633                    Zoor          1.0      1940.0         0   \n",
       "165   90942                      Ak          1.0      1941.0         0   \n",
       "188  468107           Doctor Howard          1.0      1941.0         0   \n",
       "\n",
       "     identity_num  alignment_num  orientation_num  status_num  \\\n",
       "76              1              1                1           1   \n",
       "91              2              2                1           1   \n",
       "164             3              2                1           1   \n",
       "165             3              1                1           2   \n",
       "188             2              2                1           1   \n",
       "\n",
       "     introduced_month_num  hair_num  gender_num  \n",
       "76                      1         1           1  \n",
       "91                      2         2           2  \n",
       "164                     3         3           2  \n",
       "165                     2         4           2  \n",
       "188                     4         4           2  "
      ]
     },
     "execution_count": 588,
     "metadata": {},
     "output_type": "execute_result"
    }
   ],
   "source": [
    "df.head()"
   ]
  },
  {
   "cell_type": "code",
   "execution_count": 589,
   "metadata": {},
   "outputs": [
    {
     "data": {
      "text/plain": [
       "6608"
      ]
     },
     "execution_count": 589,
     "metadata": {},
     "output_type": "execute_result"
    }
   ],
   "source": [
    "len(set(df['name']))"
   ]
  },
  {
   "cell_type": "code",
   "execution_count": 590,
   "metadata": {},
   "outputs": [
    {
     "data": {
      "text/html": [
       "<div>\n",
       "<style scoped>\n",
       "    .dataframe tbody tr th:only-of-type {\n",
       "        vertical-align: middle;\n",
       "    }\n",
       "\n",
       "    .dataframe tbody tr th {\n",
       "        vertical-align: top;\n",
       "    }\n",
       "\n",
       "    .dataframe thead th {\n",
       "        text-align: right;\n",
       "    }\n",
       "</style>\n",
       "<table border=\"1\" class=\"dataframe\">\n",
       "  <thead>\n",
       "    <tr style=\"text-align: right;\">\n",
       "      <th></th>\n",
       "      <th>id</th>\n",
       "      <th>appearances</th>\n",
       "      <th>introduced</th>\n",
       "      <th>identity_num</th>\n",
       "      <th>alignment_num</th>\n",
       "      <th>orientation_num</th>\n",
       "      <th>status_num</th>\n",
       "      <th>introduced_month_num</th>\n",
       "      <th>hair_num</th>\n",
       "      <th>gender_num</th>\n",
       "    </tr>\n",
       "  </thead>\n",
       "  <tbody>\n",
       "    <tr>\n",
       "      <td>count</td>\n",
       "      <td>6609.000000</td>\n",
       "      <td>6259.000000</td>\n",
       "      <td>6212.000000</td>\n",
       "      <td>6609.000000</td>\n",
       "      <td>6609.000000</td>\n",
       "      <td>6609.000000</td>\n",
       "      <td>6609.000000</td>\n",
       "      <td>6609.000000</td>\n",
       "      <td>6609.000000</td>\n",
       "      <td>6609.000000</td>\n",
       "    </tr>\n",
       "    <tr>\n",
       "      <td>mean</td>\n",
       "      <td>244882.017249</td>\n",
       "      <td>35.046174</td>\n",
       "      <td>1989.934321</td>\n",
       "      <td>2.082917</td>\n",
       "      <td>2.057497</td>\n",
       "      <td>1.017854</td>\n",
       "      <td>1.257679</td>\n",
       "      <td>6.796338</td>\n",
       "      <td>5.145408</td>\n",
       "      <td>1.760781</td>\n",
       "    </tr>\n",
       "    <tr>\n",
       "      <td>std</td>\n",
       "      <td>255472.488726</td>\n",
       "      <td>148.299852</td>\n",
       "      <td>16.816747</td>\n",
       "      <td>0.940300</td>\n",
       "      <td>0.996373</td>\n",
       "      <td>0.197554</td>\n",
       "      <td>0.437389</td>\n",
       "      <td>3.685295</td>\n",
       "      <td>3.108589</td>\n",
       "      <td>0.579199</td>\n",
       "    </tr>\n",
       "    <tr>\n",
       "      <td>min</td>\n",
       "      <td>1025.000000</td>\n",
       "      <td>1.000000</td>\n",
       "      <td>1939.000000</td>\n",
       "      <td>1.000000</td>\n",
       "      <td>1.000000</td>\n",
       "      <td>1.000000</td>\n",
       "      <td>1.000000</td>\n",
       "      <td>1.000000</td>\n",
       "      <td>1.000000</td>\n",
       "      <td>1.000000</td>\n",
       "    </tr>\n",
       "    <tr>\n",
       "      <td>25%</td>\n",
       "      <td>16052.000000</td>\n",
       "      <td>2.000000</td>\n",
       "      <td>1978.000000</td>\n",
       "      <td>1.000000</td>\n",
       "      <td>1.000000</td>\n",
       "      <td>1.000000</td>\n",
       "      <td>1.000000</td>\n",
       "      <td>4.000000</td>\n",
       "      <td>3.000000</td>\n",
       "      <td>1.000000</td>\n",
       "    </tr>\n",
       "    <tr>\n",
       "      <td>50%</td>\n",
       "      <td>116225.000000</td>\n",
       "      <td>6.000000</td>\n",
       "      <td>1993.000000</td>\n",
       "      <td>2.000000</td>\n",
       "      <td>2.000000</td>\n",
       "      <td>1.000000</td>\n",
       "      <td>1.000000</td>\n",
       "      <td>7.000000</td>\n",
       "      <td>5.000000</td>\n",
       "      <td>2.000000</td>\n",
       "    </tr>\n",
       "    <tr>\n",
       "      <td>75%</td>\n",
       "      <td>488902.000000</td>\n",
       "      <td>19.000000</td>\n",
       "      <td>2004.000000</td>\n",
       "      <td>2.000000</td>\n",
       "      <td>3.000000</td>\n",
       "      <td>1.000000</td>\n",
       "      <td>2.000000</td>\n",
       "      <td>10.000000</td>\n",
       "      <td>6.000000</td>\n",
       "      <td>2.000000</td>\n",
       "    </tr>\n",
       "    <tr>\n",
       "      <td>max</td>\n",
       "      <td>755108.000000</td>\n",
       "      <td>4043.000000</td>\n",
       "      <td>2013.000000</td>\n",
       "      <td>5.000000</td>\n",
       "      <td>4.000000</td>\n",
       "      <td>6.000000</td>\n",
       "      <td>2.000000</td>\n",
       "      <td>13.000000</td>\n",
       "      <td>22.000000</td>\n",
       "      <td>5.000000</td>\n",
       "    </tr>\n",
       "  </tbody>\n",
       "</table>\n",
       "</div>"
      ],
      "text/plain": [
       "                  id  appearances   introduced  identity_num  alignment_num  \\\n",
       "count    6609.000000  6259.000000  6212.000000   6609.000000    6609.000000   \n",
       "mean   244882.017249    35.046174  1989.934321      2.082917       2.057497   \n",
       "std    255472.488726   148.299852    16.816747      0.940300       0.996373   \n",
       "min      1025.000000     1.000000  1939.000000      1.000000       1.000000   \n",
       "25%     16052.000000     2.000000  1978.000000      1.000000       1.000000   \n",
       "50%    116225.000000     6.000000  1993.000000      2.000000       2.000000   \n",
       "75%    488902.000000    19.000000  2004.000000      2.000000       3.000000   \n",
       "max    755108.000000  4043.000000  2013.000000      5.000000       4.000000   \n",
       "\n",
       "       orientation_num   status_num  introduced_month_num     hair_num  \\\n",
       "count      6609.000000  6609.000000           6609.000000  6609.000000   \n",
       "mean          1.017854     1.257679              6.796338     5.145408   \n",
       "std           0.197554     0.437389              3.685295     3.108589   \n",
       "min           1.000000     1.000000              1.000000     1.000000   \n",
       "25%           1.000000     1.000000              4.000000     3.000000   \n",
       "50%           1.000000     1.000000              7.000000     5.000000   \n",
       "75%           1.000000     2.000000             10.000000     6.000000   \n",
       "max           6.000000     2.000000             13.000000    22.000000   \n",
       "\n",
       "        gender_num  \n",
       "count  6609.000000  \n",
       "mean      1.760781  \n",
       "std       0.579199  \n",
       "min       1.000000  \n",
       "25%       1.000000  \n",
       "50%       2.000000  \n",
       "75%       2.000000  \n",
       "max       5.000000  "
      ]
     },
     "execution_count": 590,
     "metadata": {},
     "output_type": "execute_result"
    }
   ],
   "source": [
    "df.describe()"
   ]
  },
  {
   "cell_type": "code",
   "execution_count": 591,
   "metadata": {},
   "outputs": [
    {
     "name": "stdout",
     "output_type": "stream",
     "text": [
      "<class 'pandas.core.frame.DataFrame'>\n",
      "Int64Index: 6609 entries, 76 to 16373\n",
      "Data columns (total 12 columns):\n",
      "id                      6609 non-null int64\n",
      "name                    6609 non-null object\n",
      "appearances             6259 non-null float64\n",
      "introduced              6212 non-null float64\n",
      "blue_eyes               6609 non-null object\n",
      "identity_num            6609 non-null int64\n",
      "alignment_num           6609 non-null int64\n",
      "orientation_num         6609 non-null int64\n",
      "status_num              6609 non-null int64\n",
      "introduced_month_num    6609 non-null int64\n",
      "hair_num                6609 non-null int64\n",
      "gender_num              6609 non-null int64\n",
      "dtypes: float64(2), int64(8), object(2)\n",
      "memory usage: 671.2+ KB\n"
     ]
    }
   ],
   "source": [
    "df.info()"
   ]
  },
  {
   "cell_type": "code",
   "execution_count": 592,
   "metadata": {},
   "outputs": [],
   "source": [
    "### Getting rid of null values"
   ]
  },
  {
   "cell_type": "code",
   "execution_count": 593,
   "metadata": {},
   "outputs": [],
   "source": [
    "df['appearances'] = df['appearances'].where(df['appearances'].notnull(), -1)"
   ]
  },
  {
   "cell_type": "code",
   "execution_count": 594,
   "metadata": {},
   "outputs": [],
   "source": [
    "df['introduced'] = df['introduced'].where(df['introduced'].notnull(), -1)"
   ]
  },
  {
   "cell_type": "code",
   "execution_count": 595,
   "metadata": {},
   "outputs": [
    {
     "name": "stdout",
     "output_type": "stream",
     "text": [
      "<class 'pandas.core.frame.DataFrame'>\n",
      "Int64Index: 6609 entries, 76 to 16373\n",
      "Data columns (total 12 columns):\n",
      "id                      6609 non-null int64\n",
      "name                    6609 non-null object\n",
      "appearances             6609 non-null float64\n",
      "introduced              6609 non-null float64\n",
      "blue_eyes               6609 non-null object\n",
      "identity_num            6609 non-null int64\n",
      "alignment_num           6609 non-null int64\n",
      "orientation_num         6609 non-null int64\n",
      "status_num              6609 non-null int64\n",
      "introduced_month_num    6609 non-null int64\n",
      "hair_num                6609 non-null int64\n",
      "gender_num              6609 non-null int64\n",
      "dtypes: float64(2), int64(8), object(2)\n",
      "memory usage: 671.2+ KB\n"
     ]
    }
   ],
   "source": [
    "df.info()"
   ]
  },
  {
   "cell_type": "code",
   "execution_count": 596,
   "metadata": {},
   "outputs": [],
   "source": [
    "names_comics = df['name']\n",
    "df.drop(columns=['name'], inplace=True)"
   ]
  },
  {
   "cell_type": "code",
   "execution_count": 641,
   "metadata": {},
   "outputs": [],
   "source": [
    "df.to_csv('blue_eyes_data.csv')"
   ]
  },
  {
   "cell_type": "markdown",
   "metadata": {},
   "source": [
    "## Training and Testing"
   ]
  },
  {
   "cell_type": "code",
   "execution_count": 597,
   "metadata": {},
   "outputs": [],
   "source": [
    "# correlation matrices"
   ]
  },
  {
   "cell_type": "code",
   "execution_count": 598,
   "metadata": {},
   "outputs": [
    {
     "data": {
      "image/png": "[encoded data removed]",
      "text/plain": [
       "<Figure size 360x288 with 2 Axes>"
      ]
     },
     "metadata": {
      "needs_background": "light"
     },
     "output_type": "display_data"
    }
   ],
   "source": [
    "fig1, ax = plt.subplots(1,1, figsize=(5,4))\n",
    "corr = df.corr().round(2)\n",
    "ax = sns.heatmap(corr, annot=True,cmap='Reds',\n",
    "            xticklabels=corr.columns.values,\n",
    "            yticklabels=corr.columns.values,ax = ax )\n",
    "\n",
    "plt.savefig('correlationMatrix')"
   ]
  },
  {
   "cell_type": "code",
   "execution_count": 599,
   "metadata": {},
   "outputs": [],
   "source": [
    "#split into training, test, validation sets"
   ]
  },
  {
   "cell_type": "code",
   "execution_count": 600,
   "metadata": {},
   "outputs": [],
   "source": [
    "target_variable = df['blue_eyes']\n",
    "df.drop(columns=['blue_eyes'], inplace=True)"
   ]
  },
  {
   "cell_type": "code",
   "execution_count": 601,
   "metadata": {},
   "outputs": [],
   "source": [
    "feat_X_train, X_test, feat_y_train,y_test = train_test_split(df, target_variable, \n",
    "                                                             test_size=0.33, random_state=42)"
   ]
  },
  {
   "cell_type": "code",
   "execution_count": 285,
   "metadata": {},
   "outputs": [],
   "source": [
    "import random\n",
    "random.seed(42)"
   ]
  },
  {
   "cell_type": "code",
   "execution_count": null,
   "metadata": {},
   "outputs": [],
   "source": [
    "# pick 1962 random samples from NON-Blue entries"
   ]
  },
  {
   "cell_type": "code",
   "execution_count": 291,
   "metadata": {},
   "outputs": [],
   "source": [
    "random_index = random.sample(set(df[df['blue_eyes']==0].index), 1962)"
   ]
  },
  {
   "cell_type": "code",
   "execution_count": 295,
   "metadata": {},
   "outputs": [],
   "source": [
    "blue_eyes_index = df[df['blue_eyes']==1].index"
   ]
  },
  {
   "cell_type": "code",
   "execution_count": 305,
   "metadata": {},
   "outputs": [],
   "source": [
    "training_data = df.loc[random_index].append(df.loc[blue_eyes_index])"
   ]
  },
  {
   "cell_type": "code",
   "execution_count": 306,
   "metadata": {},
   "outputs": [],
   "source": [
    "target_variable = training_data['blue_eyes']\n",
    "training_data.drop(columns=['blue_eyes'], inplace=True)"
   ]
  },
  {
   "cell_type": "code",
   "execution_count": 501,
   "metadata": {},
   "outputs": [],
   "source": [
    "feat_X_train, X_test, feat_y_train,y_test = train_test_split(training_data, target_variable, \n",
    "                                                             test_size=0.33, random_state=42)"
   ]
  },
  {
   "cell_type": "code",
   "execution_count": 504,
   "metadata": {},
   "outputs": [],
   "source": [
    "# baseline ML algorithm"
   ]
  },
  {
   "cell_type": "code",
   "execution_count": 606,
   "metadata": {},
   "outputs": [],
   "source": [
    "blues_base = y_test.copy()"
   ]
  },
  {
   "cell_type": "code",
   "execution_count": 607,
   "metadata": {},
   "outputs": [],
   "source": [
    "# supposedly only 17% of people in the world have blue eyes, so we random say %17 of testing has blue eyes\n",
    "blues_test = random.sample(set(y_test.index), int(len(y_test)*.17))"
   ]
  },
  {
   "cell_type": "code",
   "execution_count": 613,
   "metadata": {},
   "outputs": [],
   "source": [
    "blues_base.loc[blues_test] = 1"
   ]
  },
  {
   "cell_type": "code",
   "execution_count": 609,
   "metadata": {},
   "outputs": [],
   "source": [
    "blues_base.loc[~blues_base.isin(blues_test)] = 0"
   ]
  },
  {
   "cell_type": "code",
   "execution_count": 614,
   "metadata": {},
   "outputs": [
    {
     "data": {
      "text/plain": [
       "0.3558000917010546"
      ]
     },
     "execution_count": 614,
     "metadata": {},
     "output_type": "execute_result"
    }
   ],
   "source": [
    "mean_squared_error( y_test, blues_base,)"
   ]
  },
  {
   "cell_type": "code",
   "execution_count": 615,
   "metadata": {},
   "outputs": [
    {
     "data": {
      "text/plain": [
       "0.4888030888030888"
      ]
     },
     "execution_count": 615,
     "metadata": {},
     "output_type": "execute_result"
    }
   ],
   "source": [
    "mean_sq_er_base"
   ]
  },
  {
   "cell_type": "code",
   "execution_count": 616,
   "metadata": {},
   "outputs": [
    {
     "data": {
      "text/plain": [
       "array([0, 1])"
      ]
     },
     "execution_count": 616,
     "metadata": {},
     "output_type": "execute_result"
    }
   ],
   "source": [
    "blues_base.unique()"
   ]
  },
  {
   "cell_type": "code",
   "execution_count": 617,
   "metadata": {},
   "outputs": [],
   "source": [
    "y_test = y_test.astype(int)"
   ]
  },
  {
   "cell_type": "code",
   "execution_count": 618,
   "metadata": {},
   "outputs": [
    {
     "data": {
      "text/plain": [
       "(array([0.713418  , 0.30540541]),\n",
       " array([0.83408651, 0.17879747]),\n",
       " array([0.76904762, 0.2255489 ]),\n",
       " array([1549,  632]))"
      ]
     },
     "execution_count": 618,
     "metadata": {},
     "output_type": "execute_result"
    }
   ],
   "source": [
    "precision_recall_fscore_support(y_test,blues_base)"
   ]
  },
  {
   "cell_type": "code",
   "execution_count": 619,
   "metadata": {},
   "outputs": [
    {
     "data": {
      "text/plain": [
       "0.6441999082989455"
      ]
     },
     "execution_count": 619,
     "metadata": {},
     "output_type": "execute_result"
    }
   ],
   "source": [
    "len(blues_base[blues_base == y_test])/(len(blues_base))"
   ]
  },
  {
   "cell_type": "code",
   "execution_count": 620,
   "metadata": {},
   "outputs": [
    {
     "data": {
      "text/plain": [
       "0.6441999082989455"
      ]
     },
     "execution_count": 620,
     "metadata": {},
     "output_type": "execute_result"
    }
   ],
   "source": [
    "len(y_test[blues_base == y_test])/(len(y_test))"
   ]
  },
  {
   "cell_type": "markdown",
   "metadata": {},
   "source": [
    "### Logistic Regression"
   ]
  },
  {
   "cell_type": "code",
   "execution_count": 621,
   "metadata": {},
   "outputs": [
    {
     "name": "stderr",
     "output_type": "stream",
     "text": [
      "/Users/shhudspeth/open_CV_env/lib/python3.7/site-packages/scipy/optimize/linesearch.py:466: LineSearchWarning: The line search algorithm did not converge\n",
      "  warn('The line search algorithm did not converge', LineSearchWarning)\n",
      "/Users/shhudspeth/open_CV_env/lib/python3.7/site-packages/scipy/optimize/linesearch.py:314: LineSearchWarning: The line search algorithm did not converge\n",
      "  warn('The line search algorithm did not converge', LineSearchWarning)\n",
      "/Users/shhudspeth/open_CV_env/lib/python3.7/site-packages/scipy/optimize/linesearch.py:466: LineSearchWarning: The line search algorithm did not converge\n",
      "  warn('The line search algorithm did not converge', LineSearchWarning)\n",
      "/Users/shhudspeth/open_CV_env/lib/python3.7/site-packages/scipy/optimize/linesearch.py:314: LineSearchWarning: The line search algorithm did not converge\n",
      "  warn('The line search algorithm did not converge', LineSearchWarning)\n",
      "/Users/shhudspeth/open_CV_env/lib/python3.7/site-packages/scipy/optimize/linesearch.py:466: LineSearchWarning: The line search algorithm did not converge\n",
      "  warn('The line search algorithm did not converge', LineSearchWarning)\n",
      "/Users/shhudspeth/open_CV_env/lib/python3.7/site-packages/scipy/optimize/linesearch.py:314: LineSearchWarning: The line search algorithm did not converge\n",
      "  warn('The line search algorithm did not converge', LineSearchWarning)\n",
      "/Users/shhudspeth/open_CV_env/lib/python3.7/site-packages/scipy/optimize/linesearch.py:426: LineSearchWarning: Rounding errors prevent the line search from converging\n",
      "  warn(msg, LineSearchWarning)\n",
      "/Users/shhudspeth/open_CV_env/lib/python3.7/site-packages/scipy/optimize/linesearch.py:314: LineSearchWarning: The line search algorithm did not converge\n",
      "  warn('The line search algorithm did not converge', LineSearchWarning)\n",
      "/Users/shhudspeth/open_CV_env/lib/python3.7/site-packages/sklearn/utils/optimize.py:195: UserWarning: Line Search failed\n",
      "  warnings.warn('Line Search failed')\n"
     ]
    }
   ],
   "source": [
    "feat_y_train = feat_y_train.astype(int)\n",
    "clf = LogisticRegression(random_state=0, solver='newton-cg').fit(feat_X_train, feat_y_train);\n"
   ]
  },
  {
   "cell_type": "code",
   "execution_count": 622,
   "metadata": {},
   "outputs": [],
   "source": [
    "blue_pred = clf.predict(X_test);"
   ]
  },
  {
   "cell_type": "code",
   "execution_count": 623,
   "metadata": {},
   "outputs": [
    {
     "data": {
      "text/plain": [
       "0.7216872994039432"
      ]
     },
     "execution_count": 623,
     "metadata": {},
     "output_type": "execute_result"
    }
   ],
   "source": [
    "len(blue_pred[blue_pred==y_test])/len(blue_pred)"
   ]
  },
  {
   "cell_type": "code",
   "execution_count": 624,
   "metadata": {},
   "outputs": [
    {
     "data": {
      "text/plain": [
       "0.27831270059605684"
      ]
     },
     "execution_count": 624,
     "metadata": {},
     "output_type": "execute_result"
    }
   ],
   "source": [
    "mean_squared_error(blue_pred, y_test)"
   ]
  },
  {
   "cell_type": "code",
   "execution_count": 625,
   "metadata": {},
   "outputs": [
    {
     "data": {
      "text/plain": [
       "0.27831270059605684"
      ]
     },
     "execution_count": 625,
     "metadata": {},
     "output_type": "execute_result"
    }
   ],
   "source": [
    "mean_squared_error(y_test, blue_pred)"
   ]
  },
  {
   "cell_type": "code",
   "execution_count": 626,
   "metadata": {},
   "outputs": [
    {
     "data": {
      "text/plain": [
       "(array([0.72301136, 0.68115942]),\n",
       " array([0.98579729, 0.07436709]),\n",
       " array([0.83419831, 0.13409415]),\n",
       " array([1549,  632]))"
      ]
     },
     "execution_count": 626,
     "metadata": {},
     "output_type": "execute_result"
    }
   ],
   "source": [
    "precision_recall_fscore_support(y_test, blue_pred)"
   ]
  },
  {
   "cell_type": "code",
   "execution_count": 627,
   "metadata": {},
   "outputs": [
    {
     "data": {
      "text/plain": [
       "0.7216872994039432"
      ]
     },
     "execution_count": 627,
     "metadata": {},
     "output_type": "execute_result"
    }
   ],
   "source": [
    "clf.score(X_test, y_test)"
   ]
  },
  {
   "cell_type": "markdown",
   "metadata": {},
   "source": [
    "## Naive Bayes"
   ]
  },
  {
   "cell_type": "code",
   "execution_count": 629,
   "metadata": {},
   "outputs": [
    {
     "data": {
      "text/plain": [
       "(array([0.71530418, 0.42857143]),\n",
       " array([0.97159458, 0.05221519]),\n",
       " array([0.82398029, 0.09308886]),\n",
       " array([1549,  632]))"
      ]
     },
     "execution_count": 629,
     "metadata": {},
     "output_type": "execute_result"
    }
   ],
   "source": [
    "from sklearn.naive_bayes import GaussianNB\n",
    "gnb = GaussianNB()\n",
    "\n",
    "gnb.fit(feat_X_train, feat_y_train)\n",
    "\n",
    "blue_pred_gnb = gnb.predict(X_test)\n",
    "\n",
    "precision_recall_fscore_support(y_test, blue_pred_gnb)"
   ]
  },
  {
   "cell_type": "code",
   "execution_count": 630,
   "metadata": {},
   "outputs": [
    {
     "data": {
      "text/plain": [
       "0.2948188904172398"
      ]
     },
     "execution_count": 630,
     "metadata": {},
     "output_type": "execute_result"
    }
   ],
   "source": [
    "mean_squared_error(blue_pred_gnb, y_test)"
   ]
  },
  {
   "cell_type": "code",
   "execution_count": 631,
   "metadata": {},
   "outputs": [
    {
     "data": {
      "text/plain": [
       "0.7051811095827603"
      ]
     },
     "execution_count": 631,
     "metadata": {},
     "output_type": "execute_result"
    }
   ],
   "source": [
    "len(blue_pred_gnb[blue_pred_gnb == y_test])/(len(blue_pred_gnb))"
   ]
  },
  {
   "cell_type": "markdown",
   "metadata": {},
   "source": [
    "## RandomForest"
   ]
  },
  {
   "cell_type": "code",
   "execution_count": 637,
   "metadata": {},
   "outputs": [],
   "source": [
    "from sklearn.ensemble import RandomForestClassifier"
   ]
  },
  {
   "cell_type": "code",
   "execution_count": 638,
   "metadata": {},
   "outputs": [],
   "source": [
    "model = RandomForestClassifier(n_estimators=100, max_depth=3,\n",
    "                             random_state=0)\n",
    "model.fit(feat_X_train, feat_y_train)  \n",
    "blue_pred = clf.predict(X_test);"
   ]
  },
  {
   "cell_type": "code",
   "execution_count": 639,
   "metadata": {},
   "outputs": [
    {
     "data": {
      "text/plain": [
       "(array([0.71530418, 0.42857143]),\n",
       " array([0.97159458, 0.05221519]),\n",
       " array([0.82398029, 0.09308886]),\n",
       " array([1549,  632]))"
      ]
     },
     "execution_count": 639,
     "metadata": {},
     "output_type": "execute_result"
    }
   ],
   "source": [
    "precision_recall_fscore_support(y_test, blue_pred_gnb)"
   ]
  },
  {
   "cell_type": "code",
   "execution_count": 635,
   "metadata": {},
   "outputs": [
    {
     "data": {
      "text/plain": [
       "0.22741861531407612"
      ]
     },
     "execution_count": 635,
     "metadata": {},
     "output_type": "execute_result"
    }
   ],
   "source": [
    "mean_squared_error(blue_pred, y_test)"
   ]
  },
  {
   "cell_type": "code",
   "execution_count": 636,
   "metadata": {},
   "outputs": [
    {
     "data": {
      "text/plain": [
       "0.7725813846859239"
      ]
     },
     "execution_count": 636,
     "metadata": {},
     "output_type": "execute_result"
    }
   ],
   "source": [
    "len(blue_pred[blue_pred == y_test])/(len(blue_pred))"
   ]
  },
  {
   "cell_type": "code",
   "execution_count": null,
   "metadata": {},
   "outputs": [],
   "source": []
  },
  {
   "cell_type": "code",
   "execution_count": 460,
   "metadata": {},
   "outputs": [],
   "source": [
    "# test various ML for best RSME or ROC_AUC "
   ]
  },
  {
   "cell_type": "markdown",
   "metadata": {},
   "source": [
    "# pickle the model"
   ]
  },
  {
   "cell_type": "code",
   "execution_count": 640,
   "metadata": {},
   "outputs": [],
   "source": [
    "# Random Forest model\n",
    "import pickle\n",
    "\n",
    "filename = 'finalized_model.sav'\n",
    "pickle.dump(model, open(filename, 'wb'))"
   ]
  },
  {
   "cell_type": "code",
   "execution_count": null,
   "metadata": {},
   "outputs": [],
   "source": [
    "# pick best ML algorithm and code for deployment"
   ]
  },
  {
   "cell_type": "code",
   "execution_count": null,
   "metadata": {},
   "outputs": [],
   "source": [
    "# flask and dockerize code for a fun web app or combine with other code for a fun API"
   ]
  }
 ],
 "metadata": {
  "kernelspec": {
   "display_name": "Python 3",
   "language": "python",
   "name": "python3"
  },
  "language_info": {
   "codemirror_mode": {
    "name": "ipython",
    "version": 3
   },
   "file_extension": ".py",
   "mimetype": "text/x-python",
   "name": "python",
   "nbconvert_exporter": "python",
   "pygments_lexer": "ipython3",
   "version": "3.7.3"
  }
 },
 "nbformat": 4,
 "nbformat_minor": 2
}
