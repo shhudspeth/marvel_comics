{
 "cells": [
  {
   "cell_type": "markdown",
   "metadata": {},
   "source": [
    "## Should this Marvel Character have Blue Eyes?"
   ]
  },
  {
   "cell_type": "code",
   "execution_count": 1,
   "metadata": {},
   "outputs": [],
   "source": [
    "import pandas as pd"
   ]
  },
  {
   "cell_type": "code",
   "execution_count": 2,
   "metadata": {},
   "outputs": [
    {
     "data": {
      "text/html": [
       "<div>\n",
       "<style scoped>\n",
       "    .dataframe tbody tr th:only-of-type {\n",
       "        vertical-align: middle;\n",
       "    }\n",
       "\n",
       "    .dataframe tbody tr th {\n",
       "        vertical-align: top;\n",
       "    }\n",
       "\n",
       "    .dataframe thead th {\n",
       "        text-align: right;\n",
       "    }\n",
       "</style>\n",
       "<table border=\"1\" class=\"dataframe\">\n",
       "  <thead>\n",
       "    <tr style=\"text-align: right;\">\n",
       "      <th></th>\n",
       "      <th>id</th>\n",
       "      <th>name</th>\n",
       "      <th>identity</th>\n",
       "      <th>alignment</th>\n",
       "      <th>orientation</th>\n",
       "      <th>status</th>\n",
       "      <th>appearances</th>\n",
       "      <th>introduced</th>\n",
       "      <th>introduced_month</th>\n",
       "      <th>eyes</th>\n",
       "      <th>hair</th>\n",
       "      <th>gender</th>\n",
       "    </tr>\n",
       "  </thead>\n",
       "  <tbody>\n",
       "    <tr>\n",
       "      <th>0</th>\n",
       "      <td>461528</td>\n",
       "      <td>Bardak</td>\n",
       "      <td>single</td>\n",
       "      <td>bad</td>\n",
       "      <td>straight</td>\n",
       "      <td>dead</td>\n",
       "      <td>1.0</td>\n",
       "      <td>1939.0</td>\n",
       "      <td>Dec.</td>\n",
       "      <td>NaN</td>\n",
       "      <td>brown</td>\n",
       "      <td>male</td>\n",
       "    </tr>\n",
       "    <tr>\n",
       "      <th>1</th>\n",
       "      <td>657451</td>\n",
       "      <td>Bends (Masked Raider)</td>\n",
       "      <td>single</td>\n",
       "      <td>bad</td>\n",
       "      <td>straight</td>\n",
       "      <td>dead</td>\n",
       "      <td>1.0</td>\n",
       "      <td>1939.0</td>\n",
       "      <td>Oct.</td>\n",
       "      <td>NaN</td>\n",
       "      <td>NaN</td>\n",
       "      <td>male</td>\n",
       "    </tr>\n",
       "    <tr>\n",
       "      <th>2</th>\n",
       "      <td>437129</td>\n",
       "      <td>Blackie Ross</td>\n",
       "      <td>single</td>\n",
       "      <td>bad</td>\n",
       "      <td>straight</td>\n",
       "      <td>alive</td>\n",
       "      <td>1.0</td>\n",
       "      <td>1939.0</td>\n",
       "      <td>Dec.</td>\n",
       "      <td>NaN</td>\n",
       "      <td>black</td>\n",
       "      <td>male</td>\n",
       "    </tr>\n",
       "    <tr>\n",
       "      <th>3</th>\n",
       "      <td>642971</td>\n",
       "      <td>Bleck</td>\n",
       "      <td>single</td>\n",
       "      <td>neutral</td>\n",
       "      <td>straight</td>\n",
       "      <td>dead</td>\n",
       "      <td>1.0</td>\n",
       "      <td>1939.0</td>\n",
       "      <td>Oct.</td>\n",
       "      <td>NaN</td>\n",
       "      <td>NaN</td>\n",
       "      <td>male</td>\n",
       "    </tr>\n",
       "    <tr>\n",
       "      <th>4</th>\n",
       "      <td>437029</td>\n",
       "      <td>Cal Brunder</td>\n",
       "      <td>single</td>\n",
       "      <td>bad</td>\n",
       "      <td>straight</td>\n",
       "      <td>alive</td>\n",
       "      <td>1.0</td>\n",
       "      <td>1939.0</td>\n",
       "      <td>Oct.</td>\n",
       "      <td>NaN</td>\n",
       "      <td>NaN</td>\n",
       "      <td>male</td>\n",
       "    </tr>\n",
       "  </tbody>\n",
       "</table>\n",
       "</div>"
      ],
      "text/plain": [
       "       id                   name identity alignment orientation status  \\\n",
       "0  461528                 Bardak   single       bad    straight   dead   \n",
       "1  657451  Bends (Masked Raider)   single       bad    straight   dead   \n",
       "2  437129           Blackie Ross   single       bad    straight  alive   \n",
       "3  642971                  Bleck   single   neutral    straight   dead   \n",
       "4  437029            Cal Brunder   single       bad    straight  alive   \n",
       "\n",
       "   appearances  introduced introduced_month eyes   hair gender  \n",
       "0          1.0      1939.0             Dec.  NaN  brown   male  \n",
       "1          1.0      1939.0             Oct.  NaN    NaN   male  \n",
       "2          1.0      1939.0             Dec.  NaN  black   male  \n",
       "3          1.0      1939.0             Oct.  NaN    NaN   male  \n",
       "4          1.0      1939.0             Oct.  NaN    NaN   male  "
      ]
     },
     "execution_count": 2,
     "metadata": {},
     "output_type": "execute_result"
    }
   ],
   "source": [
    "df = pd.read_csv('../input/marvel-comics-character-dataset - marvel-wikia-data.csv')\n",
    "df.head()"
   ]
  },
  {
   "cell_type": "code",
   "execution_count": 3,
   "metadata": {},
   "outputs": [
    {
     "data": {
      "text/html": [
       "<div>\n",
       "<style scoped>\n",
       "    .dataframe tbody tr th:only-of-type {\n",
       "        vertical-align: middle;\n",
       "    }\n",
       "\n",
       "    .dataframe tbody tr th {\n",
       "        vertical-align: top;\n",
       "    }\n",
       "\n",
       "    .dataframe thead th {\n",
       "        text-align: right;\n",
       "    }\n",
       "</style>\n",
       "<table border=\"1\" class=\"dataframe\">\n",
       "  <thead>\n",
       "    <tr style=\"text-align: right;\">\n",
       "      <th></th>\n",
       "      <th>id</th>\n",
       "      <th>name</th>\n",
       "      <th>identity</th>\n",
       "      <th>alignment</th>\n",
       "      <th>orientation</th>\n",
       "      <th>status</th>\n",
       "      <th>appearances</th>\n",
       "      <th>introduced</th>\n",
       "      <th>introduced_month</th>\n",
       "      <th>eyes</th>\n",
       "      <th>hair</th>\n",
       "      <th>gender</th>\n",
       "    </tr>\n",
       "  </thead>\n",
       "  <tbody>\n",
       "    <tr>\n",
       "      <th>76</th>\n",
       "      <td>437867</td>\n",
       "      <td>Diane Carson</td>\n",
       "      <td>public</td>\n",
       "      <td>good</td>\n",
       "      <td>straight</td>\n",
       "      <td>alive</td>\n",
       "      <td>1.0</td>\n",
       "      <td>1940.0</td>\n",
       "      <td>Jan.</td>\n",
       "      <td>blue</td>\n",
       "      <td>blond</td>\n",
       "      <td>female</td>\n",
       "    </tr>\n",
       "    <tr>\n",
       "      <th>727</th>\n",
       "      <td>495227</td>\n",
       "      <td>Hercules (Captain America Past Life)</td>\n",
       "      <td>secret</td>\n",
       "      <td>good</td>\n",
       "      <td>straight</td>\n",
       "      <td>alive</td>\n",
       "      <td>1.0</td>\n",
       "      <td>1944.0</td>\n",
       "      <td>May.</td>\n",
       "      <td>blue</td>\n",
       "      <td>blond</td>\n",
       "      <td>male</td>\n",
       "    </tr>\n",
       "    <tr>\n",
       "      <th>855</th>\n",
       "      <td>708966</td>\n",
       "      <td>Nick Finelli</td>\n",
       "      <td>public</td>\n",
       "      <td>bad</td>\n",
       "      <td>straight</td>\n",
       "      <td>alive</td>\n",
       "      <td>1.0</td>\n",
       "      <td>1945.0</td>\n",
       "      <td>Sep.</td>\n",
       "      <td>blue</td>\n",
       "      <td>black</td>\n",
       "      <td>male</td>\n",
       "    </tr>\n",
       "    <tr>\n",
       "      <th>859</th>\n",
       "      <td>505245</td>\n",
       "      <td>Percy Walker</td>\n",
       "      <td>public</td>\n",
       "      <td>good</td>\n",
       "      <td>straight</td>\n",
       "      <td>alive</td>\n",
       "      <td>1.0</td>\n",
       "      <td>1945.0</td>\n",
       "      <td>Jan.</td>\n",
       "      <td>blue</td>\n",
       "      <td>blond</td>\n",
       "      <td>male</td>\n",
       "    </tr>\n",
       "    <tr>\n",
       "      <th>885</th>\n",
       "      <td>754718</td>\n",
       "      <td>Arch Murdock</td>\n",
       "      <td>single</td>\n",
       "      <td>bad</td>\n",
       "      <td>straight</td>\n",
       "      <td>alive</td>\n",
       "      <td>1.0</td>\n",
       "      <td>1946.0</td>\n",
       "      <td>Dec.</td>\n",
       "      <td>blue</td>\n",
       "      <td>red</td>\n",
       "      <td>male</td>\n",
       "    </tr>\n",
       "  </tbody>\n",
       "</table>\n",
       "</div>"
      ],
      "text/plain": [
       "         id                                  name identity alignment  \\\n",
       "76   437867                          Diane Carson   public      good   \n",
       "727  495227  Hercules (Captain America Past Life)   secret      good   \n",
       "855  708966                          Nick Finelli   public       bad   \n",
       "859  505245                          Percy Walker   public      good   \n",
       "885  754718                          Arch Murdock   single       bad   \n",
       "\n",
       "    orientation status  appearances  introduced introduced_month  eyes   hair  \\\n",
       "76     straight  alive          1.0      1940.0             Jan.  blue  blond   \n",
       "727    straight  alive          1.0      1944.0             May.  blue  blond   \n",
       "855    straight  alive          1.0      1945.0             Sep.  blue  black   \n",
       "859    straight  alive          1.0      1945.0             Jan.  blue  blond   \n",
       "885    straight  alive          1.0      1946.0             Dec.  blue    red   \n",
       "\n",
       "     gender  \n",
       "76   female  \n",
       "727    male  \n",
       "855    male  \n",
       "859    male  \n",
       "885    male  "
      ]
     },
     "execution_count": 3,
     "metadata": {},
     "output_type": "execute_result"
    }
   ],
   "source": [
    "df[df['eyes'] == 'blue'].head()"
   ]
  },
  {
   "cell_type": "code",
   "execution_count": 8,
   "metadata": {},
   "outputs": [
    {
     "data": {
      "text/plain": [
       "9767"
      ]
     },
     "execution_count": 8,
     "metadata": {},
     "output_type": "execute_result"
    }
   ],
   "source": [
    "len(df[df['eyes'].isnull()])"
   ]
  },
  {
   "cell_type": "code",
   "execution_count": 9,
   "metadata": {},
   "outputs": [
    {
     "data": {
      "text/plain": [
       "6609"
      ]
     },
     "execution_count": 9,
     "metadata": {},
     "output_type": "execute_result"
    }
   ],
   "source": [
    "len(df[df['eyes'].notnull()])"
   ]
  },
  {
   "cell_type": "code",
   "execution_count": 7,
   "metadata": {},
   "outputs": [
    {
     "data": {
      "text/plain": [
       "eyes\n",
       "amber                10\n",
       "black               555\n",
       "black eyeballs        3\n",
       "blue               1962\n",
       "brown              1924\n",
       "compound              1\n",
       "gold                 14\n",
       "green               613\n",
       "grey                 95\n",
       "hazel                76\n",
       "magenta               2\n",
       "multiple              7\n",
       "no                    7\n",
       "one eye              21\n",
       "orange               25\n",
       "pink                 21\n",
       "purple               31\n",
       "red                 508\n",
       "silver               12\n",
       "variable             49\n",
       "violet               11\n",
       "white               400\n",
       "yellow              256\n",
       "yellow eyeballs       6\n",
       "Name: id, dtype: int64"
      ]
     },
     "execution_count": 7,
     "metadata": {},
     "output_type": "execute_result"
    }
   ],
   "source": [
    "df.groupby(['eyes'])['id'].count()"
   ]
  },
  {
   "cell_type": "code",
   "execution_count": null,
   "metadata": {},
   "outputs": [],
   "source": [
    "# code for blue and not blue"
   ]
  },
  {
   "cell_type": "code",
   "execution_count": null,
   "metadata": {},
   "outputs": [],
   "source": [
    "# distributions and sampling"
   ]
  },
  {
   "cell_type": "code",
   "execution_count": null,
   "metadata": {},
   "outputs": [],
   "source": [
    "# correlation matrices"
   ]
  },
  {
   "cell_type": "code",
   "execution_count": null,
   "metadata": {},
   "outputs": [],
   "source": [
    "# feature engineering"
   ]
  },
  {
   "cell_type": "code",
   "execution_count": null,
   "metadata": {},
   "outputs": [],
   "source": [
    "#split into training, test, validation sets"
   ]
  },
  {
   "cell_type": "code",
   "execution_count": null,
   "metadata": {},
   "outputs": [],
   "source": [
    "# baseline ML algorithm"
   ]
  },
  {
   "cell_type": "code",
   "execution_count": null,
   "metadata": {},
   "outputs": [],
   "source": [
    "# test various ML for best RSME or ROC_AUC "
   ]
  },
  {
   "cell_type": "code",
   "execution_count": null,
   "metadata": {},
   "outputs": [],
   "source": [
    "# pick best ML algorithm and code for deployment"
   ]
  },
  {
   "cell_type": "code",
   "execution_count": null,
   "metadata": {},
   "outputs": [],
   "source": [
    "# flask and dockerize code for a fun web app or combine with other code for a fun API"
   ]
  }
 ],
 "metadata": {
  "kernelspec": {
   "display_name": "Python 3",
   "language": "python",
   "name": "python3"
  },
  "language_info": {
   "codemirror_mode": {
    "name": "ipython",
    "version": 3
   },
   "file_extension": ".py",
   "mimetype": "text/x-python",
   "name": "python",
   "nbconvert_exporter": "python",
   "pygments_lexer": "ipython3",
   "version": "3.7.3"
  }
 },
 "nbformat": 4,
 "nbformat_minor": 2
}
