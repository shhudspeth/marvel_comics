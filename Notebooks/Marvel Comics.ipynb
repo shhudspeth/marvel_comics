{
 "cells": [
  {
   "cell_type": "markdown",
   "metadata": {},
   "source": [
    "## EDA of Marvel Comic's Data Set"
   ]
  },
  {
   "cell_type": "markdown",
   "metadata": {},
   "source": [
    "### import libraries and load data"
   ]
  },
  {
   "cell_type": "code",
   "execution_count": 2,
   "metadata": {},
   "outputs": [],
   "source": [
    "import pandas as pd\n",
    "import matplotlib.pyplot as plt\n",
    "# import seaborn as sns\n",
    "from collections import defaultdict"
   ]
  },
  {
   "cell_type": "code",
   "execution_count": 3,
   "metadata": {},
   "outputs": [],
   "source": [
    "df = pd.read_csv('../input/marvel-comics-character-dataset - marvel-wikia-data.csv')"
   ]
  },
  {
   "cell_type": "code",
   "execution_count": 4,
   "metadata": {},
   "outputs": [
    {
     "data": {
      "text/html": [
       "<div>\n",
       "<style scoped>\n",
       "    .dataframe tbody tr th:only-of-type {\n",
       "        vertical-align: middle;\n",
       "    }\n",
       "\n",
       "    .dataframe tbody tr th {\n",
       "        vertical-align: top;\n",
       "    }\n",
       "\n",
       "    .dataframe thead th {\n",
       "        text-align: right;\n",
       "    }\n",
       "</style>\n",
       "<table border=\"1\" class=\"dataframe\">\n",
       "  <thead>\n",
       "    <tr style=\"text-align: right;\">\n",
       "      <th></th>\n",
       "      <th>id</th>\n",
       "      <th>name</th>\n",
       "      <th>identity</th>\n",
       "      <th>alignment</th>\n",
       "      <th>orientation</th>\n",
       "      <th>status</th>\n",
       "      <th>appearances</th>\n",
       "      <th>introduced</th>\n",
       "      <th>introduced_month</th>\n",
       "      <th>eyes</th>\n",
       "      <th>hair</th>\n",
       "      <th>gender</th>\n",
       "    </tr>\n",
       "  </thead>\n",
       "  <tbody>\n",
       "    <tr>\n",
       "      <td>0</td>\n",
       "      <td>461528</td>\n",
       "      <td>Bardak</td>\n",
       "      <td>single</td>\n",
       "      <td>bad</td>\n",
       "      <td>straight</td>\n",
       "      <td>dead</td>\n",
       "      <td>1.0</td>\n",
       "      <td>1939.0</td>\n",
       "      <td>Dec.</td>\n",
       "      <td>NaN</td>\n",
       "      <td>brown</td>\n",
       "      <td>male</td>\n",
       "    </tr>\n",
       "    <tr>\n",
       "      <td>1</td>\n",
       "      <td>657451</td>\n",
       "      <td>Bends (Masked Raider)</td>\n",
       "      <td>single</td>\n",
       "      <td>bad</td>\n",
       "      <td>straight</td>\n",
       "      <td>dead</td>\n",
       "      <td>1.0</td>\n",
       "      <td>1939.0</td>\n",
       "      <td>Oct.</td>\n",
       "      <td>NaN</td>\n",
       "      <td>NaN</td>\n",
       "      <td>male</td>\n",
       "    </tr>\n",
       "    <tr>\n",
       "      <td>2</td>\n",
       "      <td>437129</td>\n",
       "      <td>Blackie Ross</td>\n",
       "      <td>single</td>\n",
       "      <td>bad</td>\n",
       "      <td>straight</td>\n",
       "      <td>alive</td>\n",
       "      <td>1.0</td>\n",
       "      <td>1939.0</td>\n",
       "      <td>Dec.</td>\n",
       "      <td>NaN</td>\n",
       "      <td>black</td>\n",
       "      <td>male</td>\n",
       "    </tr>\n",
       "    <tr>\n",
       "      <td>3</td>\n",
       "      <td>642971</td>\n",
       "      <td>Bleck</td>\n",
       "      <td>single</td>\n",
       "      <td>neutral</td>\n",
       "      <td>straight</td>\n",
       "      <td>dead</td>\n",
       "      <td>1.0</td>\n",
       "      <td>1939.0</td>\n",
       "      <td>Oct.</td>\n",
       "      <td>NaN</td>\n",
       "      <td>NaN</td>\n",
       "      <td>male</td>\n",
       "    </tr>\n",
       "    <tr>\n",
       "      <td>4</td>\n",
       "      <td>437029</td>\n",
       "      <td>Cal Brunder</td>\n",
       "      <td>single</td>\n",
       "      <td>bad</td>\n",
       "      <td>straight</td>\n",
       "      <td>alive</td>\n",
       "      <td>1.0</td>\n",
       "      <td>1939.0</td>\n",
       "      <td>Oct.</td>\n",
       "      <td>NaN</td>\n",
       "      <td>NaN</td>\n",
       "      <td>male</td>\n",
       "    </tr>\n",
       "    <tr>\n",
       "      <td>5</td>\n",
       "      <td>437037</td>\n",
       "      <td>Constance Rand</td>\n",
       "      <td>single</td>\n",
       "      <td>good</td>\n",
       "      <td>straight</td>\n",
       "      <td>dead</td>\n",
       "      <td>1.0</td>\n",
       "      <td>1939.0</td>\n",
       "      <td>Oct.</td>\n",
       "      <td>NaN</td>\n",
       "      <td>blond</td>\n",
       "      <td>female</td>\n",
       "    </tr>\n",
       "    <tr>\n",
       "      <td>6</td>\n",
       "      <td>727089</td>\n",
       "      <td>Dead Shot (Masked Raider)</td>\n",
       "      <td>NaN</td>\n",
       "      <td>bad</td>\n",
       "      <td>straight</td>\n",
       "      <td>alive</td>\n",
       "      <td>1.0</td>\n",
       "      <td>1939.0</td>\n",
       "      <td>Dec.</td>\n",
       "      <td>NaN</td>\n",
       "      <td>NaN</td>\n",
       "      <td>male</td>\n",
       "    </tr>\n",
       "    <tr>\n",
       "      <td>7</td>\n",
       "      <td>642926</td>\n",
       "      <td>Dr. Lang (The Big Boss)</td>\n",
       "      <td>secret</td>\n",
       "      <td>bad</td>\n",
       "      <td>straight</td>\n",
       "      <td>alive</td>\n",
       "      <td>1.0</td>\n",
       "      <td>1939.0</td>\n",
       "      <td>Oct.</td>\n",
       "      <td>NaN</td>\n",
       "      <td>brown</td>\n",
       "      <td>male</td>\n",
       "    </tr>\n",
       "    <tr>\n",
       "      <td>8</td>\n",
       "      <td>642226</td>\n",
       "      <td>Dutch Hansen</td>\n",
       "      <td>single</td>\n",
       "      <td>bad</td>\n",
       "      <td>straight</td>\n",
       "      <td>dead</td>\n",
       "      <td>1.0</td>\n",
       "      <td>1939.0</td>\n",
       "      <td>Oct.</td>\n",
       "      <td>NaN</td>\n",
       "      <td>NaN</td>\n",
       "      <td>male</td>\n",
       "    </tr>\n",
       "    <tr>\n",
       "      <td>9</td>\n",
       "      <td>641961</td>\n",
       "      <td>Ganya</td>\n",
       "      <td>single</td>\n",
       "      <td>neutral</td>\n",
       "      <td>straight</td>\n",
       "      <td>alive</td>\n",
       "      <td>1.0</td>\n",
       "      <td>1939.0</td>\n",
       "      <td>Dec.</td>\n",
       "      <td>NaN</td>\n",
       "      <td>NaN</td>\n",
       "      <td>female</td>\n",
       "    </tr>\n",
       "  </tbody>\n",
       "</table>\n",
       "</div>"
      ],
      "text/plain": [
       "       id                       name identity alignment orientation status  \\\n",
       "0  461528                     Bardak   single       bad    straight   dead   \n",
       "1  657451      Bends (Masked Raider)   single       bad    straight   dead   \n",
       "2  437129               Blackie Ross   single       bad    straight  alive   \n",
       "3  642971                      Bleck   single   neutral    straight   dead   \n",
       "4  437029                Cal Brunder   single       bad    straight  alive   \n",
       "5  437037             Constance Rand   single      good    straight   dead   \n",
       "6  727089  Dead Shot (Masked Raider)      NaN       bad    straight  alive   \n",
       "7  642926    Dr. Lang (The Big Boss)   secret       bad    straight  alive   \n",
       "8  642226               Dutch Hansen   single       bad    straight   dead   \n",
       "9  641961                      Ganya   single   neutral    straight  alive   \n",
       "\n",
       "   appearances  introduced introduced_month eyes   hair  gender  \n",
       "0          1.0      1939.0             Dec.  NaN  brown    male  \n",
       "1          1.0      1939.0             Oct.  NaN    NaN    male  \n",
       "2          1.0      1939.0             Dec.  NaN  black    male  \n",
       "3          1.0      1939.0             Oct.  NaN    NaN    male  \n",
       "4          1.0      1939.0             Oct.  NaN    NaN    male  \n",
       "5          1.0      1939.0             Oct.  NaN  blond  female  \n",
       "6          1.0      1939.0             Dec.  NaN    NaN    male  \n",
       "7          1.0      1939.0             Oct.  NaN  brown    male  \n",
       "8          1.0      1939.0             Oct.  NaN    NaN    male  \n",
       "9          1.0      1939.0             Dec.  NaN    NaN  female  "
      ]
     },
     "execution_count": 4,
     "metadata": {},
     "output_type": "execute_result"
    }
   ],
   "source": [
    "df.head(10)"
   ]
  },
  {
   "cell_type": "markdown",
   "metadata": {},
   "source": [
    "### Some Summary Data"
   ]
  },
  {
   "cell_type": "code",
   "execution_count": 9,
   "metadata": {},
   "outputs": [
    {
     "data": {
      "text/html": [
       "<div>\n",
       "<style scoped>\n",
       "    .dataframe tbody tr th:only-of-type {\n",
       "        vertical-align: middle;\n",
       "    }\n",
       "\n",
       "    .dataframe tbody tr th {\n",
       "        vertical-align: top;\n",
       "    }\n",
       "\n",
       "    .dataframe thead th {\n",
       "        text-align: right;\n",
       "    }\n",
       "</style>\n",
       "<table border=\"1\" class=\"dataframe\">\n",
       "  <thead>\n",
       "    <tr style=\"text-align: right;\">\n",
       "      <th></th>\n",
       "      <th>id</th>\n",
       "      <th>name</th>\n",
       "      <th>identity</th>\n",
       "      <th>alignment</th>\n",
       "      <th>orientation</th>\n",
       "      <th>status</th>\n",
       "      <th>appearances</th>\n",
       "      <th>introduced</th>\n",
       "      <th>introduced_month</th>\n",
       "      <th>eyes</th>\n",
       "      <th>hair</th>\n",
       "      <th>gender</th>\n",
       "    </tr>\n",
       "  </thead>\n",
       "  <tbody>\n",
       "    <tr>\n",
       "      <td>9216</td>\n",
       "      <td>117498</td>\n",
       "      <td>Spinner</td>\n",
       "      <td>known to authorities</td>\n",
       "      <td>good</td>\n",
       "      <td>straight</td>\n",
       "      <td>alive</td>\n",
       "      <td>4.0</td>\n",
       "      <td>2008.0</td>\n",
       "      <td>Jun.</td>\n",
       "      <td>NaN</td>\n",
       "      <td>blond</td>\n",
       "      <td>female</td>\n",
       "    </tr>\n",
       "    <tr>\n",
       "      <td>16031</td>\n",
       "      <td>322600</td>\n",
       "      <td>Spinner</td>\n",
       "      <td>secret</td>\n",
       "      <td>good</td>\n",
       "      <td>straight</td>\n",
       "      <td>alive</td>\n",
       "      <td>NaN</td>\n",
       "      <td>2007.0</td>\n",
       "      <td>Nov.</td>\n",
       "      <td>NaN</td>\n",
       "      <td>NaN</td>\n",
       "      <td>male</td>\n",
       "    </tr>\n",
       "  </tbody>\n",
       "</table>\n",
       "</div>"
      ],
      "text/plain": [
       "           id     name              identity alignment orientation status  \\\n",
       "9216   117498  Spinner  known to authorities      good    straight  alive   \n",
       "16031  322600  Spinner                secret      good    straight  alive   \n",
       "\n",
       "       appearances  introduced introduced_month eyes   hair  gender  \n",
       "9216           4.0      2008.0             Jun.  NaN  blond  female  \n",
       "16031          NaN      2007.0             Nov.  NaN    NaN    male  "
      ]
     },
     "execution_count": 9,
     "metadata": {},
     "output_type": "execute_result"
    }
   ],
   "source": [
    "df[df['name']=='Spinner']"
   ]
  },
  {
   "cell_type": "code",
   "execution_count": 4,
   "metadata": {},
   "outputs": [
    {
     "name": "stdout",
     "output_type": "stream",
     "text": [
      "<class 'pandas.core.frame.DataFrame'>\n",
      "RangeIndex: 16376 entries, 0 to 16375\n",
      "Data columns (total 12 columns):\n",
      "id                  16376 non-null int64\n",
      "name                16376 non-null object\n",
      "identity            12606 non-null object\n",
      "alignment           13564 non-null object\n",
      "orientation         16376 non-null object\n",
      "status              16373 non-null object\n",
      "appearances         15280 non-null float64\n",
      "introduced          15561 non-null float64\n",
      "introduced_month    15561 non-null object\n",
      "eyes                6609 non-null object\n",
      "hair                12112 non-null object\n",
      "gender              15522 non-null object\n",
      "dtypes: float64(2), int64(1), object(9)\n",
      "memory usage: 1.5+ MB\n"
     ]
    }
   ],
   "source": [
    "df.info()"
   ]
  },
  {
   "cell_type": "markdown",
   "metadata": {},
   "source": [
    "### Finding Null Values of the year Queer Marvel Comics were Introduced"
   ]
  },
  {
   "cell_type": "code",
   "execution_count": 5,
   "metadata": {},
   "outputs": [
    {
     "data": {
      "text/html": [
       "<div>\n",
       "<style scoped>\n",
       "    .dataframe tbody tr th:only-of-type {\n",
       "        vertical-align: middle;\n",
       "    }\n",
       "\n",
       "    .dataframe tbody tr th {\n",
       "        vertical-align: top;\n",
       "    }\n",
       "\n",
       "    .dataframe thead th {\n",
       "        text-align: right;\n",
       "    }\n",
       "</style>\n",
       "<table border=\"1\" class=\"dataframe\">\n",
       "  <thead>\n",
       "    <tr style=\"text-align: right;\">\n",
       "      <th></th>\n",
       "      <th>id</th>\n",
       "      <th>name</th>\n",
       "      <th>identity</th>\n",
       "      <th>alignment</th>\n",
       "      <th>orientation</th>\n",
       "      <th>status</th>\n",
       "      <th>appearances</th>\n",
       "      <th>introduced</th>\n",
       "      <th>introduced_month</th>\n",
       "      <th>eyes</th>\n",
       "      <th>hair</th>\n",
       "      <th>gender</th>\n",
       "    </tr>\n",
       "  </thead>\n",
       "  <tbody>\n",
       "    <tr>\n",
       "      <th>8293</th>\n",
       "      <td>667458</td>\n",
       "      <td>Ren Kimura</td>\n",
       "      <td>public</td>\n",
       "      <td>good</td>\n",
       "      <td>gay</td>\n",
       "      <td>alive</td>\n",
       "      <td>3.0</td>\n",
       "      <td>NaN</td>\n",
       "      <td>NaN</td>\n",
       "      <td>green</td>\n",
       "      <td>black</td>\n",
       "      <td>female</td>\n",
       "    </tr>\n",
       "    <tr>\n",
       "      <th>9378</th>\n",
       "      <td>733576</td>\n",
       "      <td>Ja Kyee Lrurt</td>\n",
       "      <td>single</td>\n",
       "      <td>good</td>\n",
       "      <td>gay</td>\n",
       "      <td>alive</td>\n",
       "      <td>4.0</td>\n",
       "      <td>NaN</td>\n",
       "      <td>NaN</td>\n",
       "      <td>green</td>\n",
       "      <td>black</td>\n",
       "      <td>female</td>\n",
       "    </tr>\n",
       "    <tr>\n",
       "      <th>10168</th>\n",
       "      <td>19642</td>\n",
       "      <td>Perry Webb</td>\n",
       "      <td>single</td>\n",
       "      <td>good</td>\n",
       "      <td>gay</td>\n",
       "      <td>alive</td>\n",
       "      <td>5.0</td>\n",
       "      <td>NaN</td>\n",
       "      <td>NaN</td>\n",
       "      <td>brown</td>\n",
       "      <td>black</td>\n",
       "      <td>male</td>\n",
       "    </tr>\n",
       "    <tr>\n",
       "      <th>16363</th>\n",
       "      <td>694577</td>\n",
       "      <td>Finch (Kate Bishop's neighbor)</td>\n",
       "      <td>public</td>\n",
       "      <td>good</td>\n",
       "      <td>gay</td>\n",
       "      <td>alive</td>\n",
       "      <td>NaN</td>\n",
       "      <td>NaN</td>\n",
       "      <td>NaN</td>\n",
       "      <td>black</td>\n",
       "      <td>bald</td>\n",
       "      <td>male</td>\n",
       "    </tr>\n",
       "    <tr>\n",
       "      <th>16367</th>\n",
       "      <td>694583</td>\n",
       "      <td>Marcus (Kate Bishop's neighbor)</td>\n",
       "      <td>public</td>\n",
       "      <td>good</td>\n",
       "      <td>gay</td>\n",
       "      <td>alive</td>\n",
       "      <td>NaN</td>\n",
       "      <td>NaN</td>\n",
       "      <td>NaN</td>\n",
       "      <td>hazel</td>\n",
       "      <td>bald</td>\n",
       "      <td>male</td>\n",
       "    </tr>\n",
       "  </tbody>\n",
       "</table>\n",
       "</div>"
      ],
      "text/plain": [
       "           id                             name identity alignment orientation  \\\n",
       "8293   667458                       Ren Kimura   public      good         gay   \n",
       "9378   733576                    Ja Kyee Lrurt   single      good         gay   \n",
       "10168   19642                       Perry Webb   single      good         gay   \n",
       "16363  694577   Finch (Kate Bishop's neighbor)   public      good         gay   \n",
       "16367  694583  Marcus (Kate Bishop's neighbor)   public      good         gay   \n",
       "\n",
       "      status  appearances  introduced introduced_month   eyes   hair  gender  \n",
       "8293   alive          3.0         NaN              NaN  green  black  female  \n",
       "9378   alive          4.0         NaN              NaN  green  black  female  \n",
       "10168  alive          5.0         NaN              NaN  brown  black    male  \n",
       "16363  alive          NaN         NaN              NaN  black   bald    male  \n",
       "16367  alive          NaN         NaN              NaN  hazel   bald    male  "
      ]
     },
     "execution_count": 5,
     "metadata": {},
     "output_type": "execute_result"
    }
   ],
   "source": [
    "df[(df['introduced'].isnull()) & (df['orientation'] !='straight')]"
   ]
  },
  {
   "cell_type": "markdown",
   "metadata": {},
   "source": [
    "#### Trouble shooting null data points to find out if we can extrapolate data"
   ]
  },
  {
   "cell_type": "code",
   "execution_count": 6,
   "metadata": {},
   "outputs": [
    {
     "data": {
      "text/plain": [
       "['Ja Kyee Lrurt']"
      ]
     },
     "execution_count": 6,
     "metadata": {},
     "output_type": "execute_result"
    }
   ],
   "source": [
    "find_lrurt = [ x for x in df['name'].values if 'Lrurt' in x ]\n",
    "find_lrurt"
   ]
  },
  {
   "cell_type": "code",
   "execution_count": 7,
   "metadata": {},
   "outputs": [
    {
     "data": {
      "text/plain": [
       "['Cornelius Webb',\n",
       " 'Webber (Institute)',\n",
       " 'Stella Webb',\n",
       " 'Perry Webb',\n",
       " 'Cassandra Webb']"
      ]
     },
     "execution_count": 7,
     "metadata": {},
     "output_type": "execute_result"
    }
   ],
   "source": [
    "find_webb = [ x for x in df['name'].values if 'Webb' in x ]\n",
    "find_webb"
   ]
  },
  {
   "cell_type": "code",
   "execution_count": 8,
   "metadata": {},
   "outputs": [
    {
     "data": {
      "text/html": [
       "<div>\n",
       "<style scoped>\n",
       "    .dataframe tbody tr th:only-of-type {\n",
       "        vertical-align: middle;\n",
       "    }\n",
       "\n",
       "    .dataframe tbody tr th {\n",
       "        vertical-align: top;\n",
       "    }\n",
       "\n",
       "    .dataframe thead th {\n",
       "        text-align: right;\n",
       "    }\n",
       "</style>\n",
       "<table border=\"1\" class=\"dataframe\">\n",
       "  <thead>\n",
       "    <tr style=\"text-align: right;\">\n",
       "      <th></th>\n",
       "      <th>id</th>\n",
       "      <th>name</th>\n",
       "      <th>identity</th>\n",
       "      <th>alignment</th>\n",
       "      <th>orientation</th>\n",
       "      <th>status</th>\n",
       "      <th>appearances</th>\n",
       "      <th>introduced</th>\n",
       "      <th>introduced_month</th>\n",
       "      <th>eyes</th>\n",
       "      <th>hair</th>\n",
       "      <th>gender</th>\n",
       "    </tr>\n",
       "  </thead>\n",
       "  <tbody>\n",
       "    <tr>\n",
       "      <th>1480</th>\n",
       "      <td>311938</td>\n",
       "      <td>Cornelius Webb</td>\n",
       "      <td>NaN</td>\n",
       "      <td>bad</td>\n",
       "      <td>straight</td>\n",
       "      <td>dead</td>\n",
       "      <td>1.0</td>\n",
       "      <td>1969.0</td>\n",
       "      <td>Dec.</td>\n",
       "      <td>NaN</td>\n",
       "      <td>NaN</td>\n",
       "      <td>male</td>\n",
       "    </tr>\n",
       "    <tr>\n",
       "      <th>3013</th>\n",
       "      <td>638331</td>\n",
       "      <td>Webber (Institute)</td>\n",
       "      <td>public</td>\n",
       "      <td>bad</td>\n",
       "      <td>straight</td>\n",
       "      <td>alive</td>\n",
       "      <td>1.0</td>\n",
       "      <td>1994.0</td>\n",
       "      <td>Jun.</td>\n",
       "      <td>NaN</td>\n",
       "      <td>bald</td>\n",
       "      <td>male</td>\n",
       "    </tr>\n",
       "    <tr>\n",
       "      <th>6876</th>\n",
       "      <td>704480</td>\n",
       "      <td>Stella Webb</td>\n",
       "      <td>single</td>\n",
       "      <td>bad</td>\n",
       "      <td>straight</td>\n",
       "      <td>dead</td>\n",
       "      <td>2.0</td>\n",
       "      <td>NaN</td>\n",
       "      <td>NaN</td>\n",
       "      <td>blue</td>\n",
       "      <td>brown</td>\n",
       "      <td>female</td>\n",
       "    </tr>\n",
       "    <tr>\n",
       "      <th>10168</th>\n",
       "      <td>19642</td>\n",
       "      <td>Perry Webb</td>\n",
       "      <td>single</td>\n",
       "      <td>good</td>\n",
       "      <td>gay</td>\n",
       "      <td>alive</td>\n",
       "      <td>5.0</td>\n",
       "      <td>NaN</td>\n",
       "      <td>NaN</td>\n",
       "      <td>brown</td>\n",
       "      <td>black</td>\n",
       "      <td>male</td>\n",
       "    </tr>\n",
       "    <tr>\n",
       "      <th>14623</th>\n",
       "      <td>2069</td>\n",
       "      <td>Cassandra Webb</td>\n",
       "      <td>public</td>\n",
       "      <td>good</td>\n",
       "      <td>straight</td>\n",
       "      <td>dead</td>\n",
       "      <td>58.0</td>\n",
       "      <td>1980.0</td>\n",
       "      <td>Nov.</td>\n",
       "      <td>grey</td>\n",
       "      <td>black</td>\n",
       "      <td>female</td>\n",
       "    </tr>\n",
       "  </tbody>\n",
       "</table>\n",
       "</div>"
      ],
      "text/plain": [
       "           id                name identity alignment orientation status  \\\n",
       "1480   311938      Cornelius Webb      NaN       bad    straight   dead   \n",
       "3013   638331  Webber (Institute)   public       bad    straight  alive   \n",
       "6876   704480         Stella Webb   single       bad    straight   dead   \n",
       "10168   19642          Perry Webb   single      good         gay  alive   \n",
       "14623    2069      Cassandra Webb   public      good    straight   dead   \n",
       "\n",
       "       appearances  introduced introduced_month   eyes   hair  gender  \n",
       "1480           1.0      1969.0             Dec.    NaN    NaN    male  \n",
       "3013           1.0      1994.0             Jun.    NaN   bald    male  \n",
       "6876           2.0         NaN              NaN   blue  brown  female  \n",
       "10168          5.0         NaN              NaN  brown  black    male  \n",
       "14623         58.0      1980.0             Nov.   grey  black  female  "
      ]
     },
     "execution_count": 8,
     "metadata": {},
     "output_type": "execute_result"
    }
   ],
   "source": [
    "df[df['name'].apply(lambda x: x in find_webb)]"
   ]
  },
  {
   "cell_type": "code",
   "execution_count": 9,
   "metadata": {},
   "outputs": [],
   "source": [
    "find_kimura = [ x for x in df['name'].values if 'Kimura' in x ]"
   ]
  },
  {
   "cell_type": "code",
   "execution_count": 10,
   "metadata": {},
   "outputs": [
    {
     "data": {
      "text/html": [
       "<div>\n",
       "<style scoped>\n",
       "    .dataframe tbody tr th:only-of-type {\n",
       "        vertical-align: middle;\n",
       "    }\n",
       "\n",
       "    .dataframe tbody tr th {\n",
       "        vertical-align: top;\n",
       "    }\n",
       "\n",
       "    .dataframe thead th {\n",
       "        text-align: right;\n",
       "    }\n",
       "</style>\n",
       "<table border=\"1\" class=\"dataframe\">\n",
       "  <thead>\n",
       "    <tr style=\"text-align: right;\">\n",
       "      <th></th>\n",
       "      <th>id</th>\n",
       "      <th>name</th>\n",
       "      <th>identity</th>\n",
       "      <th>alignment</th>\n",
       "      <th>orientation</th>\n",
       "      <th>status</th>\n",
       "      <th>appearances</th>\n",
       "      <th>introduced</th>\n",
       "      <th>introduced_month</th>\n",
       "      <th>eyes</th>\n",
       "      <th>hair</th>\n",
       "      <th>gender</th>\n",
       "    </tr>\n",
       "  </thead>\n",
       "  <tbody>\n",
       "    <tr>\n",
       "      <th>5440</th>\n",
       "      <td>410060</td>\n",
       "      <td>Asano Kimura</td>\n",
       "      <td>NaN</td>\n",
       "      <td>good</td>\n",
       "      <td>straight</td>\n",
       "      <td>dead</td>\n",
       "      <td>2.0</td>\n",
       "      <td>1982.0</td>\n",
       "      <td>Sep.</td>\n",
       "      <td>brown</td>\n",
       "      <td>black</td>\n",
       "      <td>male</td>\n",
       "    </tr>\n",
       "    <tr>\n",
       "      <th>8293</th>\n",
       "      <td>667458</td>\n",
       "      <td>Ren Kimura</td>\n",
       "      <td>public</td>\n",
       "      <td>good</td>\n",
       "      <td>gay</td>\n",
       "      <td>alive</td>\n",
       "      <td>3.0</td>\n",
       "      <td>NaN</td>\n",
       "      <td>NaN</td>\n",
       "      <td>green</td>\n",
       "      <td>black</td>\n",
       "      <td>female</td>\n",
       "    </tr>\n",
       "    <tr>\n",
       "      <th>13333</th>\n",
       "      <td>41144</td>\n",
       "      <td>Kimura</td>\n",
       "      <td>public</td>\n",
       "      <td>NaN</td>\n",
       "      <td>straight</td>\n",
       "      <td>alive</td>\n",
       "      <td>18.0</td>\n",
       "      <td>2006.0</td>\n",
       "      <td>Dec.</td>\n",
       "      <td>green</td>\n",
       "      <td>black</td>\n",
       "      <td>female</td>\n",
       "    </tr>\n",
       "  </tbody>\n",
       "</table>\n",
       "</div>"
      ],
      "text/plain": [
       "           id          name identity alignment orientation status  \\\n",
       "5440   410060  Asano Kimura      NaN      good    straight   dead   \n",
       "8293   667458    Ren Kimura   public      good         gay  alive   \n",
       "13333   41144        Kimura   public       NaN    straight  alive   \n",
       "\n",
       "       appearances  introduced introduced_month   eyes   hair  gender  \n",
       "5440           2.0      1982.0             Sep.  brown  black    male  \n",
       "8293           3.0         NaN              NaN  green  black  female  \n",
       "13333         18.0      2006.0             Dec.  green  black  female  "
      ]
     },
     "execution_count": 10,
     "metadata": {},
     "output_type": "execute_result"
    }
   ],
   "source": [
    "df[df['name'].apply(lambda x: x in find_kimura)]"
   ]
  },
  {
   "cell_type": "markdown",
   "metadata": {},
   "source": [
    "#### Creating an assumption Kate Bishop's neighbors were introduced the same year as her"
   ]
  },
  {
   "cell_type": "code",
   "execution_count": 11,
   "metadata": {},
   "outputs": [
    {
     "data": {
      "text/html": [
       "<div>\n",
       "<style scoped>\n",
       "    .dataframe tbody tr th:only-of-type {\n",
       "        vertical-align: middle;\n",
       "    }\n",
       "\n",
       "    .dataframe tbody tr th {\n",
       "        vertical-align: top;\n",
       "    }\n",
       "\n",
       "    .dataframe thead th {\n",
       "        text-align: right;\n",
       "    }\n",
       "</style>\n",
       "<table border=\"1\" class=\"dataframe\">\n",
       "  <thead>\n",
       "    <tr style=\"text-align: right;\">\n",
       "      <th></th>\n",
       "      <th>id</th>\n",
       "      <th>name</th>\n",
       "      <th>identity</th>\n",
       "      <th>alignment</th>\n",
       "      <th>orientation</th>\n",
       "      <th>status</th>\n",
       "      <th>appearances</th>\n",
       "      <th>introduced</th>\n",
       "      <th>introduced_month</th>\n",
       "      <th>eyes</th>\n",
       "      <th>hair</th>\n",
       "      <th>gender</th>\n",
       "    </tr>\n",
       "  </thead>\n",
       "  <tbody>\n",
       "    <tr>\n",
       "      <th>14940</th>\n",
       "      <td>6635</td>\n",
       "      <td>Katherine Bishop</td>\n",
       "      <td>public</td>\n",
       "      <td>good</td>\n",
       "      <td>straight</td>\n",
       "      <td>alive</td>\n",
       "      <td>122.0</td>\n",
       "      <td>2005.0</td>\n",
       "      <td>Apr.</td>\n",
       "      <td>blue</td>\n",
       "      <td>black</td>\n",
       "      <td>female</td>\n",
       "    </tr>\n",
       "  </tbody>\n",
       "</table>\n",
       "</div>"
      ],
      "text/plain": [
       "         id              name identity alignment orientation status  \\\n",
       "14940  6635  Katherine Bishop   public      good    straight  alive   \n",
       "\n",
       "       appearances  introduced introduced_month  eyes   hair  gender  \n",
       "14940        122.0      2005.0             Apr.  blue  black  female  "
      ]
     },
     "execution_count": 11,
     "metadata": {},
     "output_type": "execute_result"
    }
   ],
   "source": [
    "df[df['name']=='Katherine Bishop']"
   ]
  },
  {
   "cell_type": "markdown",
   "metadata": {},
   "source": [
    "#### Googled Values for Introduction Dates of remaining null values"
   ]
  },
  {
   "cell_type": "code",
   "execution_count": 12,
   "metadata": {},
   "outputs": [],
   "source": [
    "df.at[[16363, 16367], 'introduced'] = 2005"
   ]
  },
  {
   "cell_type": "code",
   "execution_count": 13,
   "metadata": {},
   "outputs": [],
   "source": [
    "df.at[[8293], 'introduced'] = 2013"
   ]
  },
  {
   "cell_type": "code",
   "execution_count": 14,
   "metadata": {},
   "outputs": [],
   "source": [
    "df.at[[10168], 'introduced'] = 1939"
   ]
  },
  {
   "cell_type": "code",
   "execution_count": 15,
   "metadata": {},
   "outputs": [],
   "source": [
    "df.at[[9378], 'introduced'] = 2014"
   ]
  },
  {
   "cell_type": "code",
   "execution_count": 16,
   "metadata": {},
   "outputs": [
    {
     "data": {
      "text/plain": [
       "2005.0"
      ]
     },
     "execution_count": 16,
     "metadata": {},
     "output_type": "execute_result"
    }
   ],
   "source": [
    "df.iloc[16363]['introduced'] "
   ]
  },
  {
   "cell_type": "markdown",
   "metadata": {},
   "source": [
    "### Finding unique gender types"
   ]
  },
  {
   "cell_type": "code",
   "execution_count": 17,
   "metadata": {},
   "outputs": [
    {
     "data": {
      "text/plain": [
       "array(['male', 'female', nan, 'agender', 'genderfluid'], dtype=object)"
      ]
     },
     "execution_count": 17,
     "metadata": {},
     "output_type": "execute_result"
    }
   ],
   "source": [
    "df['gender'].unique()"
   ]
  },
  {
   "cell_type": "code",
   "execution_count": 18,
   "metadata": {},
   "outputs": [
    {
     "data": {
      "text/plain": [
       "array(['straight', 'gay', 'trans', 'bi', 'genderfluid', 'pansexual'],\n",
       "      dtype=object)"
      ]
     },
     "execution_count": 18,
     "metadata": {},
     "output_type": "execute_result"
    }
   ],
   "source": [
    "df['orientation'].unique()"
   ]
  },
  {
   "cell_type": "code",
   "execution_count": 19,
   "metadata": {},
   "outputs": [
    {
     "data": {
      "text/plain": [
       "0"
      ]
     },
     "execution_count": 19,
     "metadata": {},
     "output_type": "execute_result"
    }
   ],
   "source": [
    "len(df[df['orientation'].isnull()])"
   ]
  },
  {
   "cell_type": "code",
   "execution_count": 20,
   "metadata": {},
   "outputs": [
    {
     "data": {
      "text/plain": [
       "89"
      ]
     },
     "execution_count": 20,
     "metadata": {},
     "output_type": "execute_result"
    }
   ],
   "source": [
    "queer = df[df['orientation'] != 'straight']\n",
    "len(queer)"
   ]
  },
  {
   "cell_type": "code",
   "execution_count": 21,
   "metadata": {},
   "outputs": [
    {
     "data": {
      "text/plain": [
       "0.5434782608695652"
      ]
     },
     "execution_count": 21,
     "metadata": {},
     "output_type": "execute_result"
    }
   ],
   "source": [
    "# Percentage of queer marvel characters\n",
    "\n",
    "len(queer)/len(df) *100"
   ]
  },
  {
   "cell_type": "code",
   "execution_count": 22,
   "metadata": {},
   "outputs": [
    {
     "data": {
      "text/plain": [
       "40"
      ]
     },
     "execution_count": 22,
     "metadata": {},
     "output_type": "execute_result"
    }
   ],
   "source": [
    "queer_females = df[(df['orientation'] != 'straight') & (df['gender'] == 'female')]\n",
    "len(queer_females)"
   ]
  },
  {
   "cell_type": "code",
   "execution_count": 23,
   "metadata": {},
   "outputs": [
    {
     "data": {
      "text/html": [
       "<div>\n",
       "<style scoped>\n",
       "    .dataframe tbody tr th:only-of-type {\n",
       "        vertical-align: middle;\n",
       "    }\n",
       "\n",
       "    .dataframe tbody tr th {\n",
       "        vertical-align: top;\n",
       "    }\n",
       "\n",
       "    .dataframe thead th {\n",
       "        text-align: right;\n",
       "    }\n",
       "</style>\n",
       "<table border=\"1\" class=\"dataframe\">\n",
       "  <thead>\n",
       "    <tr style=\"text-align: right;\">\n",
       "      <th></th>\n",
       "      <th>id</th>\n",
       "      <th>name</th>\n",
       "      <th>identity</th>\n",
       "      <th>alignment</th>\n",
       "      <th>orientation</th>\n",
       "      <th>status</th>\n",
       "      <th>appearances</th>\n",
       "      <th>introduced</th>\n",
       "      <th>introduced_month</th>\n",
       "      <th>eyes</th>\n",
       "      <th>hair</th>\n",
       "      <th>gender</th>\n",
       "    </tr>\n",
       "  </thead>\n",
       "  <tbody>\n",
       "    <tr>\n",
       "      <th>14156</th>\n",
       "      <td>23853</td>\n",
       "      <td>Xavin</td>\n",
       "      <td>secret</td>\n",
       "      <td>good</td>\n",
       "      <td>genderfluid</td>\n",
       "      <td>alive</td>\n",
       "      <td>33.0</td>\n",
       "      <td>2005.0</td>\n",
       "      <td>Oct.</td>\n",
       "      <td>brown</td>\n",
       "      <td>brown</td>\n",
       "      <td>genderfluid</td>\n",
       "    </tr>\n",
       "    <tr>\n",
       "      <th>15218</th>\n",
       "      <td>2042</td>\n",
       "      <td>Loki Laufeyson</td>\n",
       "      <td>single</td>\n",
       "      <td>neutral</td>\n",
       "      <td>bi</td>\n",
       "      <td>alive</td>\n",
       "      <td>532.0</td>\n",
       "      <td>1949.0</td>\n",
       "      <td>Aug.</td>\n",
       "      <td>green</td>\n",
       "      <td>black</td>\n",
       "      <td>genderfluid</td>\n",
       "    </tr>\n",
       "  </tbody>\n",
       "</table>\n",
       "</div>"
      ],
      "text/plain": [
       "          id            name identity alignment  orientation status  \\\n",
       "14156  23853           Xavin   secret      good  genderfluid  alive   \n",
       "15218   2042  Loki Laufeyson   single   neutral           bi  alive   \n",
       "\n",
       "       appearances  introduced introduced_month   eyes   hair       gender  \n",
       "14156         33.0      2005.0             Oct.  brown  brown  genderfluid  \n",
       "15218        532.0      1949.0             Aug.  green  black  genderfluid  "
      ]
     },
     "execution_count": 23,
     "metadata": {},
     "output_type": "execute_result"
    }
   ],
   "source": [
    "queer_nonbin = df[(df['orientation'] != 'straight') & (df['gender'] != 'female') & (df['gender'] != 'male')]\n",
    "queer_nonbin"
   ]
  },
  {
   "cell_type": "code",
   "execution_count": 24,
   "metadata": {},
   "outputs": [
    {
     "data": {
      "text/plain": [
       "901"
      ]
     },
     "execution_count": 24,
     "metadata": {},
     "output_type": "execute_result"
    }
   ],
   "source": [
    "nonbin = df[(df['gender'] != 'female') & (df['gender'] != 'male')]\n",
    "len(nonbin)"
   ]
  },
  {
   "cell_type": "markdown",
   "metadata": {},
   "source": [
    "#### there is actually a lot of missing gender data. 901 is a lot. To continue for next time!"
   ]
  },
  {
   "cell_type": "markdown",
   "metadata": {},
   "source": [
    "### Functions that will be used repeatedly"
   ]
  },
  {
   "cell_type": "code",
   "execution_count": 267,
   "metadata": {},
   "outputs": [],
   "source": [
    "# code to make stacked bars from dataframe\n",
    "def plot_stacked_info(df_nums):\n",
    "    ax = df_nums.plot(kind='bar', stacked=True, figsize=(18.5, 10.5))\n",
    "    ax.set_ylabel('Number Of Queer Characters by Gender Introduced')\n",
    "    ax.set_xlabel('Decade End')\n",
    "    loc_x = ax.get_xticks()\n",
    "    ave_bar = [p.get_width()/5 for p in ax.patches]\n",
    "    for loc, i in zip(loc_x,range(len(df_nums))):\n",
    "        plt.text(x = loc - ave_bar[0], y = sum(df_nums.iloc[i].values)+0.1, s = str(round(sum(df_nums.iloc[i].values)/16376*100, 2))\\\n",
    "                 , size = 10)\n",
    "        \n",
    "    plt.title(\"Marvel Comics Characters by Decade\")\n",
    "\n",
    "    plt.savefig('Marvel'+str(len(df_nums))+'.png')\n",
    "    plt.show()"
   ]
  },
  {
   "cell_type": "code",
   "execution_count": 203,
   "metadata": {},
   "outputs": [
    {
     "data": {
      "text/plain": [
       "dict_items([(1940, [1939.0]), (1950, [1940.0, 1943.0, 1948.0, 1949.0]), (1960, []), (1970, [1960.0, 1964.0, 1965.0]), (1980, [1972.0, 1973.0, 1975.0, 1976.0, 1977.0, 1978.0, 1979.0]), (1990, [1980.0, 1981.0, 1982.0, 1984.0, 1987.0, 1988.0, 1989.0]), (2000, [1990.0, 1991.0, 1992.0, 1994.0, 1995.0, 1997.0, 1998.0]), (2010, [2000.0, 2001.0, 2002.0, 2003.0, 2004.0, 2005.0, 2006.0, 2007.0, 2008.0, 2009.0]), (2020, [2010.0, 2011.0, 2012.0, 2013.0, 2014.0])])"
      ]
     },
     "execution_count": 203,
     "metadata": {},
     "output_type": "execute_result"
    }
   ],
   "source": [
    "# this function is for binning for the stacked bar graph\n",
    "def inRanges(data,maxValues):\n",
    "    \"\"\"Sorts elements of data into bins that have a max-value. Max-values are\n",
    "    given by the list maxValues which holds the explusive upper bound of the bins.\"\"\"\n",
    "    d = {k:[] for k in maxValues} # init all keys to empty lists\n",
    "    for n in data:\n",
    "        n = float(n)\n",
    "        try:\n",
    "            key = min([x for x in maxValues if x > n]) # get key\n",
    "            d[key].append(n) # add number\n",
    "        except:\n",
    "            print(n)\n",
    "    return d"
   ]
  },
  {
   "cell_type": "code",
   "execution_count": 268,
   "metadata": {},
   "outputs": [
    {
     "data": {
      "image/png": "[encoded data removed]",
      "text/plain": [
       "<Figure size 1332x756 with 1 Axes>"
      ]
     },
     "metadata": {},
     "output_type": "display_data"
    }
   ],
   "source": [
    "plot_stacked_info(df_dec)"
   ]
  },
  {
   "cell_type": "code",
   "execution_count": 269,
   "metadata": {},
   "outputs": [
    {
     "data": {
      "image/png": "[encoded data removed]",
      "text/plain": [
       "<Figure size 1332x756 with 1 Axes>"
      ]
     },
     "metadata": {},
     "output_type": "display_data"
    }
   ],
   "source": [
    "plot_stacked_info(df_numes)"
   ]
  },
  {
   "cell_type": "code",
   "execution_count": 27,
   "metadata": {},
   "outputs": [],
   "source": [
    "# code to make masks\n",
    "def make_mask_of_data (df, column, criteria, not_=False):\n",
    "    if not_ == True:\n",
    "        mask = df[column] != criteria\n",
    "       \n",
    "    else:\n",
    "        mask = df[column] == criteria\n",
    "        \n",
    "    return mask"
   ]
  },
  {
   "cell_type": "code",
   "execution_count": 28,
   "metadata": {},
   "outputs": [],
   "source": [
    "# code to make x and y data points for graphing from counts of columns\n",
    "def def_x_and_y(df_, column):\n",
    "    x = df_[column].unique()\n",
    "    y = df_.groupby([column])[column].count()\n",
    "    y['nan'] = df_[df_[column].isnull()]['id'].count()\n",
    "    \n",
    "    return(x,y)"
   ]
  },
  {
   "cell_type": "markdown",
   "metadata": {},
   "source": [
    "#### MASKS FOR DATA"
   ]
  },
  {
   "cell_type": "code",
   "execution_count": 29,
   "metadata": {},
   "outputs": [],
   "source": [
    "# queermask\n",
    "queer_mask = make_mask_of_data(df, 'orientation', 'straight', not_=True)"
   ]
  },
  {
   "cell_type": "code",
   "execution_count": 30,
   "metadata": {},
   "outputs": [],
   "source": [
    "# malemask\n",
    "_male = make_mask_of_data(df, 'gender', 'male')"
   ]
  },
  {
   "cell_type": "code",
   "execution_count": 73,
   "metadata": {},
   "outputs": [],
   "source": [
    "# queer and male\n",
    "queer_male_sample = df[queer_mask & _male]"
   ]
  },
  {
   "cell_type": "code",
   "execution_count": 85,
   "metadata": {},
   "outputs": [],
   "source": [
    "# queer and male stack\n",
    "xq_male, yq_male = def_x_and_y(queer_male_sample, 'introduced')"
   ]
  },
  {
   "cell_type": "code",
   "execution_count": 86,
   "metadata": {},
   "outputs": [],
   "source": [
    "# non binary and queer\n",
    "nonbin_sample = df[queer_mask & (df['gender'] != 'male') & (df['gender'] != 'female')]\n",
    "xnb, ynb = def_x_and_y(nonbin_sample, 'introduced')"
   ]
  },
  {
   "cell_type": "code",
   "execution_count": 87,
   "metadata": {},
   "outputs": [],
   "source": [
    "# femalemask\n",
    "_female = make_mask_of_data(df, 'gender', 'female')"
   ]
  },
  {
   "cell_type": "code",
   "execution_count": 88,
   "metadata": {},
   "outputs": [],
   "source": [
    "# df of queer female masks\n",
    "queer_female_sample = df[queer_mask & _female]\n"
   ]
  },
  {
   "cell_type": "code",
   "execution_count": 89,
   "metadata": {},
   "outputs": [],
   "source": [
    "# creating x and y values \n",
    "xq_female, yq_female = def_x_and_y(queer_female_sample, 'introduced')"
   ]
  },
  {
   "cell_type": "code",
   "execution_count": 70,
   "metadata": {},
   "outputs": [],
   "source": [
    "# making dummy variables of all the data points\n",
    "lengths_= [(xq_female, yq_female),(xnb, ynb), (xq_male, yq_male) ]\n",
    "x_values = []\n",
    "for x in lengths_:\n",
    "    for val in x[0]:\n",
    "        if val not in x_values:\n",
    "            try: \n",
    "                x_values.append(float(val))\n",
    "            except:\n",
    "                print(val, x)\n",
    "            \n",
    "x_values =sorted(x_values, key = lambda x: float(x))"
   ]
  },
  {
   "cell_type": "code",
   "execution_count": 90,
   "metadata": {},
   "outputs": [],
   "source": [
    "# female dummy variables (x values)\n",
    "for x in x_values:\n",
    "    if x not in pd.Series(yq_female).index:\n",
    "        s3 = pd.Series([0], index=[x])\n",
    "        yq_female = yq_female.append(s3)\n"
   ]
  },
  {
   "cell_type": "code",
   "execution_count": 92,
   "metadata": {},
   "outputs": [],
   "source": [
    "# non-binary dummy variables\n",
    "ynb\n",
    "for x in x_values:\n",
    "    if x not in ynb.index:\n",
    "        s3 = pd.Series([0], index=[x])\n",
    "        ynb = ynb.append(s3)\n"
   ]
  },
  {
   "cell_type": "code",
   "execution_count": 93,
   "metadata": {},
   "outputs": [],
   "source": [
    "# male queer dummy variables\n",
    "yq_male\n",
    "for x in x_values:\n",
    "    if x not in yq_male.index:\n",
    "        s3 = pd.Series([0], index=[x])\n",
    "        yq_male = yq_male.append(s3) "
   ]
  },
  {
   "cell_type": "code",
   "execution_count": 94,
   "metadata": {},
   "outputs": [],
   "source": [
    "# solidifying the dataframe with focused data created\n",
    "df_numes = pd.DataFrame([yq_female, ynb, yq_male], index = ['Queer Female', 'NonBinary', 'Queer Male']).T"
   ]
  },
  {
   "cell_type": "code",
   "execution_count": 95,
   "metadata": {},
   "outputs": [
    {
     "data": {
      "text/html": [
       "<div>\n",
       "<style scoped>\n",
       "    .dataframe tbody tr th:only-of-type {\n",
       "        vertical-align: middle;\n",
       "    }\n",
       "\n",
       "    .dataframe tbody tr th {\n",
       "        vertical-align: top;\n",
       "    }\n",
       "\n",
       "    .dataframe thead th {\n",
       "        text-align: right;\n",
       "    }\n",
       "</style>\n",
       "<table border=\"1\" class=\"dataframe\">\n",
       "  <thead>\n",
       "    <tr style=\"text-align: right;\">\n",
       "      <th></th>\n",
       "      <th>Queer Female</th>\n",
       "      <th>NonBinary</th>\n",
       "      <th>Queer Male</th>\n",
       "    </tr>\n",
       "  </thead>\n",
       "  <tbody>\n",
       "    <tr>\n",
       "      <th>1948.0</th>\n",
       "      <td>1</td>\n",
       "      <td>0</td>\n",
       "      <td>0</td>\n",
       "    </tr>\n",
       "    <tr>\n",
       "      <th>1964.0</th>\n",
       "      <td>1</td>\n",
       "      <td>0</td>\n",
       "      <td>0</td>\n",
       "    </tr>\n",
       "    <tr>\n",
       "      <th>1972.0</th>\n",
       "      <td>1</td>\n",
       "      <td>0</td>\n",
       "      <td>0</td>\n",
       "    </tr>\n",
       "    <tr>\n",
       "      <th>1973.0</th>\n",
       "      <td>2</td>\n",
       "      <td>0</td>\n",
       "      <td>0</td>\n",
       "    </tr>\n",
       "    <tr>\n",
       "      <th>1976.0</th>\n",
       "      <td>1</td>\n",
       "      <td>0</td>\n",
       "      <td>0</td>\n",
       "    </tr>\n",
       "    <tr>\n",
       "      <th>1978.0</th>\n",
       "      <td>1</td>\n",
       "      <td>0</td>\n",
       "      <td>0</td>\n",
       "    </tr>\n",
       "    <tr>\n",
       "      <th>1979.0</th>\n",
       "      <td>1</td>\n",
       "      <td>0</td>\n",
       "      <td>1</td>\n",
       "    </tr>\n",
       "    <tr>\n",
       "      <th>1980.0</th>\n",
       "      <td>1</td>\n",
       "      <td>0</td>\n",
       "      <td>0</td>\n",
       "    </tr>\n",
       "    <tr>\n",
       "      <th>1981.0</th>\n",
       "      <td>1</td>\n",
       "      <td>0</td>\n",
       "      <td>0</td>\n",
       "    </tr>\n",
       "    <tr>\n",
       "      <th>1982.0</th>\n",
       "      <td>1</td>\n",
       "      <td>0</td>\n",
       "      <td>1</td>\n",
       "    </tr>\n",
       "    <tr>\n",
       "      <th>1984.0</th>\n",
       "      <td>1</td>\n",
       "      <td>0</td>\n",
       "      <td>1</td>\n",
       "    </tr>\n",
       "    <tr>\n",
       "      <th>1988.0</th>\n",
       "      <td>1</td>\n",
       "      <td>0</td>\n",
       "      <td>0</td>\n",
       "    </tr>\n",
       "    <tr>\n",
       "      <th>1991.0</th>\n",
       "      <td>1</td>\n",
       "      <td>0</td>\n",
       "      <td>2</td>\n",
       "    </tr>\n",
       "    <tr>\n",
       "      <th>1992.0</th>\n",
       "      <td>2</td>\n",
       "      <td>0</td>\n",
       "      <td>0</td>\n",
       "    </tr>\n",
       "    <tr>\n",
       "      <th>1994.0</th>\n",
       "      <td>1</td>\n",
       "      <td>0</td>\n",
       "      <td>0</td>\n",
       "    </tr>\n",
       "    <tr>\n",
       "      <th>1995.0</th>\n",
       "      <td>1</td>\n",
       "      <td>0</td>\n",
       "      <td>0</td>\n",
       "    </tr>\n",
       "    <tr>\n",
       "      <th>1998.0</th>\n",
       "      <td>1</td>\n",
       "      <td>0</td>\n",
       "      <td>0</td>\n",
       "    </tr>\n",
       "    <tr>\n",
       "      <th>2000.0</th>\n",
       "      <td>1</td>\n",
       "      <td>0</td>\n",
       "      <td>0</td>\n",
       "    </tr>\n",
       "    <tr>\n",
       "      <th>2001.0</th>\n",
       "      <td>2</td>\n",
       "      <td>0</td>\n",
       "      <td>5</td>\n",
       "    </tr>\n",
       "    <tr>\n",
       "      <th>2002.0</th>\n",
       "      <td>1</td>\n",
       "      <td>0</td>\n",
       "      <td>0</td>\n",
       "    </tr>\n",
       "    <tr>\n",
       "      <th>2003.0</th>\n",
       "      <td>2</td>\n",
       "      <td>0</td>\n",
       "      <td>5</td>\n",
       "    </tr>\n",
       "    <tr>\n",
       "      <th>2004.0</th>\n",
       "      <td>2</td>\n",
       "      <td>0</td>\n",
       "      <td>0</td>\n",
       "    </tr>\n",
       "    <tr>\n",
       "      <th>2005.0</th>\n",
       "      <td>1</td>\n",
       "      <td>1</td>\n",
       "      <td>5</td>\n",
       "    </tr>\n",
       "    <tr>\n",
       "      <th>2007.0</th>\n",
       "      <td>2</td>\n",
       "      <td>0</td>\n",
       "      <td>0</td>\n",
       "    </tr>\n",
       "    <tr>\n",
       "      <th>2008.0</th>\n",
       "      <td>1</td>\n",
       "      <td>0</td>\n",
       "      <td>1</td>\n",
       "    </tr>\n",
       "    <tr>\n",
       "      <th>2009.0</th>\n",
       "      <td>1</td>\n",
       "      <td>0</td>\n",
       "      <td>1</td>\n",
       "    </tr>\n",
       "    <tr>\n",
       "      <th>2010.0</th>\n",
       "      <td>2</td>\n",
       "      <td>0</td>\n",
       "      <td>2</td>\n",
       "    </tr>\n",
       "    <tr>\n",
       "      <th>2011.0</th>\n",
       "      <td>1</td>\n",
       "      <td>0</td>\n",
       "      <td>3</td>\n",
       "    </tr>\n",
       "    <tr>\n",
       "      <th>2012.0</th>\n",
       "      <td>1</td>\n",
       "      <td>0</td>\n",
       "      <td>3</td>\n",
       "    </tr>\n",
       "    <tr>\n",
       "      <th>2013.0</th>\n",
       "      <td>3</td>\n",
       "      <td>0</td>\n",
       "      <td>2</td>\n",
       "    </tr>\n",
       "    <tr>\n",
       "      <th>2014.0</th>\n",
       "      <td>1</td>\n",
       "      <td>0</td>\n",
       "      <td>0</td>\n",
       "    </tr>\n",
       "    <tr>\n",
       "      <th>nan</th>\n",
       "      <td>0</td>\n",
       "      <td>0</td>\n",
       "      <td>0</td>\n",
       "    </tr>\n",
       "    <tr>\n",
       "      <th>1939.0</th>\n",
       "      <td>0</td>\n",
       "      <td>0</td>\n",
       "      <td>1</td>\n",
       "    </tr>\n",
       "    <tr>\n",
       "      <th>1940.0</th>\n",
       "      <td>0</td>\n",
       "      <td>0</td>\n",
       "      <td>1</td>\n",
       "    </tr>\n",
       "    <tr>\n",
       "      <th>1943.0</th>\n",
       "      <td>0</td>\n",
       "      <td>0</td>\n",
       "      <td>1</td>\n",
       "    </tr>\n",
       "    <tr>\n",
       "      <th>1949.0</th>\n",
       "      <td>0</td>\n",
       "      <td>1</td>\n",
       "      <td>0</td>\n",
       "    </tr>\n",
       "    <tr>\n",
       "      <th>1960.0</th>\n",
       "      <td>0</td>\n",
       "      <td>0</td>\n",
       "      <td>1</td>\n",
       "    </tr>\n",
       "    <tr>\n",
       "      <th>1965.0</th>\n",
       "      <td>0</td>\n",
       "      <td>0</td>\n",
       "      <td>1</td>\n",
       "    </tr>\n",
       "    <tr>\n",
       "      <th>1975.0</th>\n",
       "      <td>0</td>\n",
       "      <td>0</td>\n",
       "      <td>1</td>\n",
       "    </tr>\n",
       "    <tr>\n",
       "      <th>1977.0</th>\n",
       "      <td>0</td>\n",
       "      <td>0</td>\n",
       "      <td>1</td>\n",
       "    </tr>\n",
       "    <tr>\n",
       "      <th>1987.0</th>\n",
       "      <td>0</td>\n",
       "      <td>0</td>\n",
       "      <td>1</td>\n",
       "    </tr>\n",
       "    <tr>\n",
       "      <th>1989.0</th>\n",
       "      <td>0</td>\n",
       "      <td>0</td>\n",
       "      <td>1</td>\n",
       "    </tr>\n",
       "    <tr>\n",
       "      <th>1990.0</th>\n",
       "      <td>0</td>\n",
       "      <td>0</td>\n",
       "      <td>1</td>\n",
       "    </tr>\n",
       "    <tr>\n",
       "      <th>1997.0</th>\n",
       "      <td>0</td>\n",
       "      <td>0</td>\n",
       "      <td>1</td>\n",
       "    </tr>\n",
       "    <tr>\n",
       "      <th>2006.0</th>\n",
       "      <td>0</td>\n",
       "      <td>0</td>\n",
       "      <td>4</td>\n",
       "    </tr>\n",
       "  </tbody>\n",
       "</table>\n",
       "</div>"
      ],
      "text/plain": [
       "        Queer Female  NonBinary  Queer Male\n",
       "1948.0             1          0           0\n",
       "1964.0             1          0           0\n",
       "1972.0             1          0           0\n",
       "1973.0             2          0           0\n",
       "1976.0             1          0           0\n",
       "1978.0             1          0           0\n",
       "1979.0             1          0           1\n",
       "1980.0             1          0           0\n",
       "1981.0             1          0           0\n",
       "1982.0             1          0           1\n",
       "1984.0             1          0           1\n",
       "1988.0             1          0           0\n",
       "1991.0             1          0           2\n",
       "1992.0             2          0           0\n",
       "1994.0             1          0           0\n",
       "1995.0             1          0           0\n",
       "1998.0             1          0           0\n",
       "2000.0             1          0           0\n",
       "2001.0             2          0           5\n",
       "2002.0             1          0           0\n",
       "2003.0             2          0           5\n",
       "2004.0             2          0           0\n",
       "2005.0             1          1           5\n",
       "2007.0             2          0           0\n",
       "2008.0             1          0           1\n",
       "2009.0             1          0           1\n",
       "2010.0             2          0           2\n",
       "2011.0             1          0           3\n",
       "2012.0             1          0           3\n",
       "2013.0             3          0           2\n",
       "2014.0             1          0           0\n",
       "nan                0          0           0\n",
       "1939.0             0          0           1\n",
       "1940.0             0          0           1\n",
       "1943.0             0          0           1\n",
       "1949.0             0          1           0\n",
       "1960.0             0          0           1\n",
       "1965.0             0          0           1\n",
       "1975.0             0          0           1\n",
       "1977.0             0          0           1\n",
       "1987.0             0          0           1\n",
       "1989.0             0          0           1\n",
       "1990.0             0          0           1\n",
       "1997.0             0          0           1\n",
       "2006.0             0          0           4"
      ]
     },
     "execution_count": 95,
     "metadata": {},
     "output_type": "execute_result"
    }
   ],
   "source": [
    "df_numes"
   ]
  },
  {
   "cell_type": "code",
   "execution_count": null,
   "metadata": {},
   "outputs": [],
   "source": [
    "df_numes.drop(['nan'], axis=0, inplace=True)\n",
    "df_numes"
   ]
  },
  {
   "cell_type": "code",
   "execution_count": null,
   "metadata": {},
   "outputs": [],
   "source": [
    "df_numes.sort_index(inplace=True)"
   ]
  },
  {
   "cell_type": "code",
   "execution_count": null,
   "metadata": {},
   "outputs": [],
   "source": [
    "# creating bins for data and sorting values according to bins\n",
    "columns_dec = list(range(1940, 2030, 10))\n",
    "sort_ =  inRanges(df_numes.index, columns_dec)\n"
   ]
  },
  {
   "cell_type": "code",
   "execution_count": null,
   "metadata": {},
   "outputs": [],
   "source": [
    "# fancy dictionary of bins made in previous cell\n",
    "def make_bins_dict(bins_range, sort_dict, df_):\n",
    "    dec_df = defaultdict(dict)\n",
    "\n",
    "    for key, value in sort_dict.items():\n",
    "        for col in df_.columns:\n",
    "            sum_key = 0\n",
    "            for val in value:\n",
    "                sum_key += df_.loc[val][col]\n",
    "            dec_df[key].update({col: sum_key})\n",
    "\n",
    "df_dec = make_bins_dict(columns_dec, sort_, df_numes)"
   ]
  },
  {
   "cell_type": "code",
   "execution_count": null,
   "metadata": {},
   "outputs": [],
   "source": [
    "# transposed df to prep for plotting\n",
    "df_dec = pd.DataFrame(dec_df).T\n",
    "df_dec"
   ]
  },
  {
   "cell_type": "code",
   "execution_count": null,
   "metadata": {},
   "outputs": [],
   "source": [
    "# plot of queer characters by decade\n",
    "plot_stacked_info(df_dec)"
   ]
  },
  {
   "cell_type": "code",
   "execution_count": null,
   "metadata": {},
   "outputs": [],
   "source": [
    "# plot of queer characters by year\n",
    "plot_stacked_info(df_numes)"
   ]
  }
 ],
 "metadata": {
  "kernelspec": {
   "display_name": "Python 3",
   "language": "python",
   "name": "python3"
  },
  "language_info": {
   "codemirror_mode": {
    "name": "ipython",
    "version": 3
   },
   "file_extension": ".py",
   "mimetype": "text/x-python",
   "name": "python",
   "nbconvert_exporter": "python",
   "pygments_lexer": "ipython3",
   "version": "3.7.3"
  }
 },
 "nbformat": 4,
 "nbformat_minor": 2
}
