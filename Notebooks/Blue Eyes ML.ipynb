{
 "cells": [
  {
   "cell_type": "markdown",
   "metadata": {},
   "source": [
    "## Should this Marvel Character have Blue Eyes?"
   ]
  },
  {
   "cell_type": "markdown",
   "metadata": {},
   "source": [
    "#### import libraries"
   ]
  },
  {
   "cell_type": "code",
   "execution_count": 1,
   "metadata": {},
   "outputs": [],
   "source": [
    "import pandas as pd\n",
    "import seaborn as sns\n",
    "%matplotlib inline\n",
    "import numpy as np\n",
    "import matplotlib.pyplot as plt\n",
    "from sklearn.model_selection import train_test_split\n",
    "from sklearn.model_selection import cross_val_score\n",
    "from sklearn.linear_model import LogisticRegression\n",
    "import sklearn.linear_model as linear_model\n",
    "from sklearn.metrics import mean_squared_error\n",
    "from sklearn.metrics import precision_recall_fscore_support\n"
   ]
  },
  {
   "cell_type": "markdown",
   "metadata": {},
   "source": [
    "### Data Cleaning and Organizing"
   ]
  },
  {
   "cell_type": "code",
   "execution_count": 2,
   "metadata": {},
   "outputs": [
    {
     "data": {
      "text/html": [
       "<div>\n",
       "<style scoped>\n",
       "    .dataframe tbody tr th:only-of-type {\n",
       "        vertical-align: middle;\n",
       "    }\n",
       "\n",
       "    .dataframe tbody tr th {\n",
       "        vertical-align: top;\n",
       "    }\n",
       "\n",
       "    .dataframe thead th {\n",
       "        text-align: right;\n",
       "    }\n",
       "</style>\n",
       "<table border=\"1\" class=\"dataframe\">\n",
       "  <thead>\n",
       "    <tr style=\"text-align: right;\">\n",
       "      <th></th>\n",
       "      <th>id</th>\n",
       "      <th>name</th>\n",
       "      <th>identity</th>\n",
       "      <th>alignment</th>\n",
       "      <th>orientation</th>\n",
       "      <th>status</th>\n",
       "      <th>appearances</th>\n",
       "      <th>introduced</th>\n",
       "      <th>introduced_month</th>\n",
       "      <th>eyes</th>\n",
       "      <th>hair</th>\n",
       "      <th>gender</th>\n",
       "    </tr>\n",
       "  </thead>\n",
       "  <tbody>\n",
       "    <tr>\n",
       "      <th>0</th>\n",
       "      <td>461528</td>\n",
       "      <td>Bardak</td>\n",
       "      <td>single</td>\n",
       "      <td>bad</td>\n",
       "      <td>straight</td>\n",
       "      <td>dead</td>\n",
       "      <td>1.0</td>\n",
       "      <td>1939.0</td>\n",
       "      <td>Dec.</td>\n",
       "      <td>NaN</td>\n",
       "      <td>brown</td>\n",
       "      <td>male</td>\n",
       "    </tr>\n",
       "    <tr>\n",
       "      <th>1</th>\n",
       "      <td>657451</td>\n",
       "      <td>Bends (Masked Raider)</td>\n",
       "      <td>single</td>\n",
       "      <td>bad</td>\n",
       "      <td>straight</td>\n",
       "      <td>dead</td>\n",
       "      <td>1.0</td>\n",
       "      <td>1939.0</td>\n",
       "      <td>Oct.</td>\n",
       "      <td>NaN</td>\n",
       "      <td>NaN</td>\n",
       "      <td>male</td>\n",
       "    </tr>\n",
       "    <tr>\n",
       "      <th>2</th>\n",
       "      <td>437129</td>\n",
       "      <td>Blackie Ross</td>\n",
       "      <td>single</td>\n",
       "      <td>bad</td>\n",
       "      <td>straight</td>\n",
       "      <td>alive</td>\n",
       "      <td>1.0</td>\n",
       "      <td>1939.0</td>\n",
       "      <td>Dec.</td>\n",
       "      <td>NaN</td>\n",
       "      <td>black</td>\n",
       "      <td>male</td>\n",
       "    </tr>\n",
       "    <tr>\n",
       "      <th>3</th>\n",
       "      <td>642971</td>\n",
       "      <td>Bleck</td>\n",
       "      <td>single</td>\n",
       "      <td>neutral</td>\n",
       "      <td>straight</td>\n",
       "      <td>dead</td>\n",
       "      <td>1.0</td>\n",
       "      <td>1939.0</td>\n",
       "      <td>Oct.</td>\n",
       "      <td>NaN</td>\n",
       "      <td>NaN</td>\n",
       "      <td>male</td>\n",
       "    </tr>\n",
       "    <tr>\n",
       "      <th>4</th>\n",
       "      <td>437029</td>\n",
       "      <td>Cal Brunder</td>\n",
       "      <td>single</td>\n",
       "      <td>bad</td>\n",
       "      <td>straight</td>\n",
       "      <td>alive</td>\n",
       "      <td>1.0</td>\n",
       "      <td>1939.0</td>\n",
       "      <td>Oct.</td>\n",
       "      <td>NaN</td>\n",
       "      <td>NaN</td>\n",
       "      <td>male</td>\n",
       "    </tr>\n",
       "  </tbody>\n",
       "</table>\n",
       "</div>"
      ],
      "text/plain": [
       "       id                   name identity alignment orientation status  \\\n",
       "0  461528                 Bardak   single       bad    straight   dead   \n",
       "1  657451  Bends (Masked Raider)   single       bad    straight   dead   \n",
       "2  437129           Blackie Ross   single       bad    straight  alive   \n",
       "3  642971                  Bleck   single   neutral    straight   dead   \n",
       "4  437029            Cal Brunder   single       bad    straight  alive   \n",
       "\n",
       "   appearances  introduced introduced_month eyes   hair gender  \n",
       "0          1.0      1939.0             Dec.  NaN  brown   male  \n",
       "1          1.0      1939.0             Oct.  NaN    NaN   male  \n",
       "2          1.0      1939.0             Dec.  NaN  black   male  \n",
       "3          1.0      1939.0             Oct.  NaN    NaN   male  \n",
       "4          1.0      1939.0             Oct.  NaN    NaN   male  "
      ]
     },
     "execution_count": 2,
     "metadata": {},
     "output_type": "execute_result"
    }
   ],
   "source": [
    "df = pd.read_csv('../input/marvel-comics-character-dataset - marvel-wikia-data.csv')\n",
    "df.head()"
   ]
  },
  {
   "cell_type": "code",
   "execution_count": 3,
   "metadata": {},
   "outputs": [
    {
     "data": {
      "text/html": [
       "<div>\n",
       "<style scoped>\n",
       "    .dataframe tbody tr th:only-of-type {\n",
       "        vertical-align: middle;\n",
       "    }\n",
       "\n",
       "    .dataframe tbody tr th {\n",
       "        vertical-align: top;\n",
       "    }\n",
       "\n",
       "    .dataframe thead th {\n",
       "        text-align: right;\n",
       "    }\n",
       "</style>\n",
       "<table border=\"1\" class=\"dataframe\">\n",
       "  <thead>\n",
       "    <tr style=\"text-align: right;\">\n",
       "      <th></th>\n",
       "      <th>id</th>\n",
       "      <th>name</th>\n",
       "      <th>identity</th>\n",
       "      <th>alignment</th>\n",
       "      <th>orientation</th>\n",
       "      <th>status</th>\n",
       "      <th>appearances</th>\n",
       "      <th>introduced</th>\n",
       "      <th>introduced_month</th>\n",
       "      <th>eyes</th>\n",
       "      <th>hair</th>\n",
       "      <th>gender</th>\n",
       "    </tr>\n",
       "  </thead>\n",
       "  <tbody>\n",
       "    <tr>\n",
       "      <th>76</th>\n",
       "      <td>437867</td>\n",
       "      <td>Diane Carson</td>\n",
       "      <td>public</td>\n",
       "      <td>good</td>\n",
       "      <td>straight</td>\n",
       "      <td>alive</td>\n",
       "      <td>1.0</td>\n",
       "      <td>1940.0</td>\n",
       "      <td>Jan.</td>\n",
       "      <td>blue</td>\n",
       "      <td>blond</td>\n",
       "      <td>female</td>\n",
       "    </tr>\n",
       "    <tr>\n",
       "      <th>727</th>\n",
       "      <td>495227</td>\n",
       "      <td>Hercules (Captain America Past Life)</td>\n",
       "      <td>secret</td>\n",
       "      <td>good</td>\n",
       "      <td>straight</td>\n",
       "      <td>alive</td>\n",
       "      <td>1.0</td>\n",
       "      <td>1944.0</td>\n",
       "      <td>May.</td>\n",
       "      <td>blue</td>\n",
       "      <td>blond</td>\n",
       "      <td>male</td>\n",
       "    </tr>\n",
       "    <tr>\n",
       "      <th>855</th>\n",
       "      <td>708966</td>\n",
       "      <td>Nick Finelli</td>\n",
       "      <td>public</td>\n",
       "      <td>bad</td>\n",
       "      <td>straight</td>\n",
       "      <td>alive</td>\n",
       "      <td>1.0</td>\n",
       "      <td>1945.0</td>\n",
       "      <td>Sep.</td>\n",
       "      <td>blue</td>\n",
       "      <td>black</td>\n",
       "      <td>male</td>\n",
       "    </tr>\n",
       "    <tr>\n",
       "      <th>859</th>\n",
       "      <td>505245</td>\n",
       "      <td>Percy Walker</td>\n",
       "      <td>public</td>\n",
       "      <td>good</td>\n",
       "      <td>straight</td>\n",
       "      <td>alive</td>\n",
       "      <td>1.0</td>\n",
       "      <td>1945.0</td>\n",
       "      <td>Jan.</td>\n",
       "      <td>blue</td>\n",
       "      <td>blond</td>\n",
       "      <td>male</td>\n",
       "    </tr>\n",
       "    <tr>\n",
       "      <th>885</th>\n",
       "      <td>754718</td>\n",
       "      <td>Arch Murdock</td>\n",
       "      <td>single</td>\n",
       "      <td>bad</td>\n",
       "      <td>straight</td>\n",
       "      <td>alive</td>\n",
       "      <td>1.0</td>\n",
       "      <td>1946.0</td>\n",
       "      <td>Dec.</td>\n",
       "      <td>blue</td>\n",
       "      <td>red</td>\n",
       "      <td>male</td>\n",
       "    </tr>\n",
       "  </tbody>\n",
       "</table>\n",
       "</div>"
      ],
      "text/plain": [
       "         id                                  name identity alignment  \\\n",
       "76   437867                          Diane Carson   public      good   \n",
       "727  495227  Hercules (Captain America Past Life)   secret      good   \n",
       "855  708966                          Nick Finelli   public       bad   \n",
       "859  505245                          Percy Walker   public      good   \n",
       "885  754718                          Arch Murdock   single       bad   \n",
       "\n",
       "    orientation status  appearances  introduced introduced_month  eyes   hair  \\\n",
       "76     straight  alive          1.0      1940.0             Jan.  blue  blond   \n",
       "727    straight  alive          1.0      1944.0             May.  blue  blond   \n",
       "855    straight  alive          1.0      1945.0             Sep.  blue  black   \n",
       "859    straight  alive          1.0      1945.0             Jan.  blue  blond   \n",
       "885    straight  alive          1.0      1946.0             Dec.  blue    red   \n",
       "\n",
       "     gender  \n",
       "76   female  \n",
       "727    male  \n",
       "855    male  \n",
       "859    male  \n",
       "885    male  "
      ]
     },
     "execution_count": 3,
     "metadata": {},
     "output_type": "execute_result"
    }
   ],
   "source": [
    "df[df['eyes'] == 'blue'].head()"
   ]
  },
  {
   "cell_type": "code",
   "execution_count": 4,
   "metadata": {},
   "outputs": [
    {
     "data": {
      "text/plain": [
       "9767"
      ]
     },
     "execution_count": 4,
     "metadata": {},
     "output_type": "execute_result"
    }
   ],
   "source": [
    "len(df[df['eyes'].isnull()])"
   ]
  },
  {
   "cell_type": "code",
   "execution_count": 5,
   "metadata": {},
   "outputs": [
    {
     "data": {
      "text/plain": [
       "6609"
      ]
     },
     "execution_count": 5,
     "metadata": {},
     "output_type": "execute_result"
    }
   ],
   "source": [
    "len(df[df['eyes'].notnull()])"
   ]
  },
  {
   "cell_type": "code",
   "execution_count": 6,
   "metadata": {},
   "outputs": [
    {
     "data": {
      "text/plain": [
       "eyes\n",
       "amber                10\n",
       "black               555\n",
       "black eyeballs        3\n",
       "blue               1962\n",
       "brown              1924\n",
       "compound              1\n",
       "gold                 14\n",
       "green               613\n",
       "grey                 95\n",
       "hazel                76\n",
       "magenta               2\n",
       "multiple              7\n",
       "no                    7\n",
       "one eye              21\n",
       "orange               25\n",
       "pink                 21\n",
       "purple               31\n",
       "red                 508\n",
       "silver               12\n",
       "variable             49\n",
       "violet               11\n",
       "white               400\n",
       "yellow              256\n",
       "yellow eyeballs       6\n",
       "Name: id, dtype: int64"
      ]
     },
     "execution_count": 6,
     "metadata": {},
     "output_type": "execute_result"
    }
   ],
   "source": [
    "df.groupby(['eyes'])['id'].count()"
   ]
  },
  {
   "cell_type": "code",
   "execution_count": 7,
   "metadata": {},
   "outputs": [],
   "source": [
    "# code for blue and not blue"
   ]
  },
  {
   "cell_type": "code",
   "execution_count": 8,
   "metadata": {},
   "outputs": [],
   "source": [
    "df['blue_eyes']= df['eyes']"
   ]
  },
  {
   "cell_type": "code",
   "execution_count": 9,
   "metadata": {},
   "outputs": [],
   "source": [
    "df['blue_eyes'] = df['blue_eyes'].where(df['blue_eyes'].notnull(), -1)"
   ]
  },
  {
   "cell_type": "code",
   "execution_count": 10,
   "metadata": {},
   "outputs": [
    {
     "data": {
      "text/html": [
       "<div>\n",
       "<style scoped>\n",
       "    .dataframe tbody tr th:only-of-type {\n",
       "        vertical-align: middle;\n",
       "    }\n",
       "\n",
       "    .dataframe tbody tr th {\n",
       "        vertical-align: top;\n",
       "    }\n",
       "\n",
       "    .dataframe thead th {\n",
       "        text-align: right;\n",
       "    }\n",
       "</style>\n",
       "<table border=\"1\" class=\"dataframe\">\n",
       "  <thead>\n",
       "    <tr style=\"text-align: right;\">\n",
       "      <th></th>\n",
       "      <th>id</th>\n",
       "      <th>name</th>\n",
       "      <th>identity</th>\n",
       "      <th>alignment</th>\n",
       "      <th>orientation</th>\n",
       "      <th>status</th>\n",
       "      <th>appearances</th>\n",
       "      <th>introduced</th>\n",
       "      <th>introduced_month</th>\n",
       "      <th>eyes</th>\n",
       "      <th>hair</th>\n",
       "      <th>gender</th>\n",
       "      <th>blue_eyes</th>\n",
       "    </tr>\n",
       "  </thead>\n",
       "  <tbody>\n",
       "    <tr>\n",
       "      <th>0</th>\n",
       "      <td>461528</td>\n",
       "      <td>Bardak</td>\n",
       "      <td>single</td>\n",
       "      <td>bad</td>\n",
       "      <td>straight</td>\n",
       "      <td>dead</td>\n",
       "      <td>1.0</td>\n",
       "      <td>1939.0</td>\n",
       "      <td>Dec.</td>\n",
       "      <td>NaN</td>\n",
       "      <td>brown</td>\n",
       "      <td>male</td>\n",
       "      <td>-1</td>\n",
       "    </tr>\n",
       "    <tr>\n",
       "      <th>1</th>\n",
       "      <td>657451</td>\n",
       "      <td>Bends (Masked Raider)</td>\n",
       "      <td>single</td>\n",
       "      <td>bad</td>\n",
       "      <td>straight</td>\n",
       "      <td>dead</td>\n",
       "      <td>1.0</td>\n",
       "      <td>1939.0</td>\n",
       "      <td>Oct.</td>\n",
       "      <td>NaN</td>\n",
       "      <td>NaN</td>\n",
       "      <td>male</td>\n",
       "      <td>-1</td>\n",
       "    </tr>\n",
       "    <tr>\n",
       "      <th>2</th>\n",
       "      <td>437129</td>\n",
       "      <td>Blackie Ross</td>\n",
       "      <td>single</td>\n",
       "      <td>bad</td>\n",
       "      <td>straight</td>\n",
       "      <td>alive</td>\n",
       "      <td>1.0</td>\n",
       "      <td>1939.0</td>\n",
       "      <td>Dec.</td>\n",
       "      <td>NaN</td>\n",
       "      <td>black</td>\n",
       "      <td>male</td>\n",
       "      <td>-1</td>\n",
       "    </tr>\n",
       "    <tr>\n",
       "      <th>3</th>\n",
       "      <td>642971</td>\n",
       "      <td>Bleck</td>\n",
       "      <td>single</td>\n",
       "      <td>neutral</td>\n",
       "      <td>straight</td>\n",
       "      <td>dead</td>\n",
       "      <td>1.0</td>\n",
       "      <td>1939.0</td>\n",
       "      <td>Oct.</td>\n",
       "      <td>NaN</td>\n",
       "      <td>NaN</td>\n",
       "      <td>male</td>\n",
       "      <td>-1</td>\n",
       "    </tr>\n",
       "    <tr>\n",
       "      <th>4</th>\n",
       "      <td>437029</td>\n",
       "      <td>Cal Brunder</td>\n",
       "      <td>single</td>\n",
       "      <td>bad</td>\n",
       "      <td>straight</td>\n",
       "      <td>alive</td>\n",
       "      <td>1.0</td>\n",
       "      <td>1939.0</td>\n",
       "      <td>Oct.</td>\n",
       "      <td>NaN</td>\n",
       "      <td>NaN</td>\n",
       "      <td>male</td>\n",
       "      <td>-1</td>\n",
       "    </tr>\n",
       "  </tbody>\n",
       "</table>\n",
       "</div>"
      ],
      "text/plain": [
       "       id                   name identity alignment orientation status  \\\n",
       "0  461528                 Bardak   single       bad    straight   dead   \n",
       "1  657451  Bends (Masked Raider)   single       bad    straight   dead   \n",
       "2  437129           Blackie Ross   single       bad    straight  alive   \n",
       "3  642971                  Bleck   single   neutral    straight   dead   \n",
       "4  437029            Cal Brunder   single       bad    straight  alive   \n",
       "\n",
       "   appearances  introduced introduced_month eyes   hair gender blue_eyes  \n",
       "0          1.0      1939.0             Dec.  NaN  brown   male        -1  \n",
       "1          1.0      1939.0             Oct.  NaN    NaN   male        -1  \n",
       "2          1.0      1939.0             Dec.  NaN  black   male        -1  \n",
       "3          1.0      1939.0             Oct.  NaN    NaN   male        -1  \n",
       "4          1.0      1939.0             Oct.  NaN    NaN   male        -1  "
      ]
     },
     "execution_count": 10,
     "metadata": {},
     "output_type": "execute_result"
    }
   ],
   "source": [
    "prediction_df = df[df['blue_eyes'] == -1].copy()\n",
    "prediction_df.head()"
   ]
  },
  {
   "cell_type": "code",
   "execution_count": null,
   "metadata": {},
   "outputs": [],
   "source": [
    "# Checking for null values below in order to organize the data. "
   ]
  },
  {
   "cell_type": "code",
   "execution_count": 11,
   "metadata": {},
   "outputs": [
    {
     "name": "stdout",
     "output_type": "stream",
     "text": [
      "<class 'pandas.core.frame.DataFrame'>\n",
      "Int64Index: 9767 entries, 0 to 16375\n",
      "Data columns (total 13 columns):\n",
      "id                  9767 non-null int64\n",
      "name                9767 non-null object\n",
      "identity            6772 non-null object\n",
      "alignment           7763 non-null object\n",
      "orientation         9767 non-null object\n",
      "status              9764 non-null object\n",
      "appearances         9021 non-null float64\n",
      "introduced          9349 non-null float64\n",
      "introduced_month    9349 non-null object\n",
      "eyes                0 non-null object\n",
      "hair                5814 non-null object\n",
      "gender              9067 non-null object\n",
      "blue_eyes           9767 non-null object\n",
      "dtypes: float64(2), int64(1), object(10)\n",
      "memory usage: 1.0+ MB\n"
     ]
    }
   ],
   "source": [
    "prediction_df.info()"
   ]
  },
  {
   "cell_type": "code",
   "execution_count": 12,
   "metadata": {},
   "outputs": [],
   "source": [
    "prediction_df.drop(columns = ['eyes', 'blue_eyes'], inplace=True)"
   ]
  },
  {
   "cell_type": "code",
   "execution_count": 13,
   "metadata": {},
   "outputs": [],
   "source": [
    "import random\n",
    "id_ = random.sample(set(prediction_df.index),1)[0]\n",
    "data_ = prediction_df.loc[id_]"
   ]
  },
  {
   "cell_type": "code",
   "execution_count": 14,
   "metadata": {},
   "outputs": [
    {
     "data": {
      "text/plain": [
       "10836"
      ]
     },
     "execution_count": 14,
     "metadata": {},
     "output_type": "execute_result"
    }
   ],
   "source": [
    "id_"
   ]
  },
  {
   "cell_type": "code",
   "execution_count": 15,
   "metadata": {},
   "outputs": [
    {
     "data": {
      "text/plain": [
       "{'id': 269113,\n",
       " 'name': 'Madame Death',\n",
       " 'identity': 'secret',\n",
       " 'alignment': 'bad',\n",
       " 'orientation': 'straight',\n",
       " 'status': 'dead',\n",
       " 'appearances': 7.0,\n",
       " 'introduced': 1946.0,\n",
       " 'introduced_month': 'Dec.',\n",
       " 'hair': 'black',\n",
       " 'gender': 'female'}"
      ]
     },
     "execution_count": 15,
     "metadata": {},
     "output_type": "execute_result"
    }
   ],
   "source": [
    "data_.to_dict()"
   ]
  },
  {
   "cell_type": "code",
   "execution_count": 16,
   "metadata": {},
   "outputs": [],
   "source": [
    "name = data_.pop('name')"
   ]
  },
  {
   "cell_type": "code",
   "execution_count": 17,
   "metadata": {},
   "outputs": [
    {
     "data": {
      "text/plain": [
       "'Madame Death'"
      ]
     },
     "execution_count": 17,
     "metadata": {},
     "output_type": "execute_result"
    }
   ],
   "source": [
    "name"
   ]
  },
  {
   "cell_type": "code",
   "execution_count": 18,
   "metadata": {},
   "outputs": [
    {
     "data": {
      "text/html": [
       "<div>\n",
       "<style scoped>\n",
       "    .dataframe tbody tr th:only-of-type {\n",
       "        vertical-align: middle;\n",
       "    }\n",
       "\n",
       "    .dataframe tbody tr th {\n",
       "        vertical-align: top;\n",
       "    }\n",
       "\n",
       "    .dataframe thead th {\n",
       "        text-align: right;\n",
       "    }\n",
       "</style>\n",
       "<table border=\"1\" class=\"dataframe\">\n",
       "  <thead>\n",
       "    <tr style=\"text-align: right;\">\n",
       "      <th></th>\n",
       "      <th>id</th>\n",
       "      <th>name</th>\n",
       "      <th>identity</th>\n",
       "      <th>alignment</th>\n",
       "      <th>orientation</th>\n",
       "      <th>status</th>\n",
       "      <th>appearances</th>\n",
       "      <th>introduced</th>\n",
       "      <th>introduced_month</th>\n",
       "      <th>hair</th>\n",
       "      <th>gender</th>\n",
       "    </tr>\n",
       "  </thead>\n",
       "  <tbody>\n",
       "    <tr>\n",
       "      <th>0</th>\n",
       "      <td>461528</td>\n",
       "      <td>Bardak</td>\n",
       "      <td>single</td>\n",
       "      <td>bad</td>\n",
       "      <td>straight</td>\n",
       "      <td>dead</td>\n",
       "      <td>1.0</td>\n",
       "      <td>1939.0</td>\n",
       "      <td>Dec.</td>\n",
       "      <td>brown</td>\n",
       "      <td>male</td>\n",
       "    </tr>\n",
       "    <tr>\n",
       "      <th>1</th>\n",
       "      <td>657451</td>\n",
       "      <td>Bends (Masked Raider)</td>\n",
       "      <td>single</td>\n",
       "      <td>bad</td>\n",
       "      <td>straight</td>\n",
       "      <td>dead</td>\n",
       "      <td>1.0</td>\n",
       "      <td>1939.0</td>\n",
       "      <td>Oct.</td>\n",
       "      <td>NaN</td>\n",
       "      <td>male</td>\n",
       "    </tr>\n",
       "    <tr>\n",
       "      <th>2</th>\n",
       "      <td>437129</td>\n",
       "      <td>Blackie Ross</td>\n",
       "      <td>single</td>\n",
       "      <td>bad</td>\n",
       "      <td>straight</td>\n",
       "      <td>alive</td>\n",
       "      <td>1.0</td>\n",
       "      <td>1939.0</td>\n",
       "      <td>Dec.</td>\n",
       "      <td>black</td>\n",
       "      <td>male</td>\n",
       "    </tr>\n",
       "    <tr>\n",
       "      <th>3</th>\n",
       "      <td>642971</td>\n",
       "      <td>Bleck</td>\n",
       "      <td>single</td>\n",
       "      <td>neutral</td>\n",
       "      <td>straight</td>\n",
       "      <td>dead</td>\n",
       "      <td>1.0</td>\n",
       "      <td>1939.0</td>\n",
       "      <td>Oct.</td>\n",
       "      <td>NaN</td>\n",
       "      <td>male</td>\n",
       "    </tr>\n",
       "    <tr>\n",
       "      <th>4</th>\n",
       "      <td>437029</td>\n",
       "      <td>Cal Brunder</td>\n",
       "      <td>single</td>\n",
       "      <td>bad</td>\n",
       "      <td>straight</td>\n",
       "      <td>alive</td>\n",
       "      <td>1.0</td>\n",
       "      <td>1939.0</td>\n",
       "      <td>Oct.</td>\n",
       "      <td>NaN</td>\n",
       "      <td>male</td>\n",
       "    </tr>\n",
       "  </tbody>\n",
       "</table>\n",
       "</div>"
      ],
      "text/plain": [
       "       id                   name identity alignment orientation status  \\\n",
       "0  461528                 Bardak   single       bad    straight   dead   \n",
       "1  657451  Bends (Masked Raider)   single       bad    straight   dead   \n",
       "2  437129           Blackie Ross   single       bad    straight  alive   \n",
       "3  642971                  Bleck   single   neutral    straight   dead   \n",
       "4  437029            Cal Brunder   single       bad    straight  alive   \n",
       "\n",
       "   appearances  introduced introduced_month   hair gender  \n",
       "0          1.0      1939.0             Dec.  brown   male  \n",
       "1          1.0      1939.0             Oct.    NaN   male  \n",
       "2          1.0      1939.0             Dec.  black   male  \n",
       "3          1.0      1939.0             Oct.    NaN   male  \n",
       "4          1.0      1939.0             Oct.    NaN   male  "
      ]
     },
     "execution_count": 18,
     "metadata": {},
     "output_type": "execute_result"
    }
   ],
   "source": [
    "prediction_df.head()"
   ]
  },
  {
   "cell_type": "code",
   "execution_count": 19,
   "metadata": {},
   "outputs": [],
   "source": [
    "prediction_df.to_csv('prediction_data.csv')"
   ]
  },
  {
   "cell_type": "code",
   "execution_count": 20,
   "metadata": {},
   "outputs": [],
   "source": [
    "df.drop(prediction_df.index, inplace=True)"
   ]
  },
  {
   "cell_type": "code",
   "execution_count": null,
   "metadata": {},
   "outputs": [],
   "source": [
    "## continue to check for null values. I decide that I'll replace null with -1 to signify incomplete data"
   ]
  },
  {
   "cell_type": "code",
   "execution_count": 21,
   "metadata": {},
   "outputs": [
    {
     "name": "stdout",
     "output_type": "stream",
     "text": [
      "<class 'pandas.core.frame.DataFrame'>\n",
      "Int64Index: 6609 entries, 76 to 16373\n",
      "Data columns (total 13 columns):\n",
      "id                  6609 non-null int64\n",
      "name                6609 non-null object\n",
      "identity            5834 non-null object\n",
      "alignment           5801 non-null object\n",
      "orientation         6609 non-null object\n",
      "status              6609 non-null object\n",
      "appearances         6259 non-null float64\n",
      "introduced          6212 non-null float64\n",
      "introduced_month    6212 non-null object\n",
      "eyes                6609 non-null object\n",
      "hair                6298 non-null object\n",
      "gender              6455 non-null object\n",
      "blue_eyes           6609 non-null object\n",
      "dtypes: float64(2), int64(1), object(10)\n",
      "memory usage: 722.9+ KB\n"
     ]
    }
   ],
   "source": [
    "df.info()"
   ]
  },
  {
   "cell_type": "code",
   "execution_count": null,
   "metadata": {},
   "outputs": [],
   "source": [
    "## I one-hot encode blues eyes as 0, not blue as 1 and then drop text. "
   ]
  },
  {
   "cell_type": "code",
   "execution_count": 22,
   "metadata": {},
   "outputs": [],
   "source": [
    "df['blue_eyes'].where(df['blue_eyes'] == 'blue', 0, inplace=True)"
   ]
  },
  {
   "cell_type": "code",
   "execution_count": 23,
   "metadata": {},
   "outputs": [],
   "source": [
    "df['blue_eyes'].where(df['blue_eyes'] != 'blue', 1, inplace=True)"
   ]
  },
  {
   "cell_type": "code",
   "execution_count": 24,
   "metadata": {},
   "outputs": [
    {
     "data": {
      "text/html": [
       "<div>\n",
       "<style scoped>\n",
       "    .dataframe tbody tr th:only-of-type {\n",
       "        vertical-align: middle;\n",
       "    }\n",
       "\n",
       "    .dataframe tbody tr th {\n",
       "        vertical-align: top;\n",
       "    }\n",
       "\n",
       "    .dataframe thead th {\n",
       "        text-align: right;\n",
       "    }\n",
       "</style>\n",
       "<table border=\"1\" class=\"dataframe\">\n",
       "  <thead>\n",
       "    <tr style=\"text-align: right;\">\n",
       "      <th></th>\n",
       "      <th>id</th>\n",
       "      <th>name</th>\n",
       "      <th>identity</th>\n",
       "      <th>alignment</th>\n",
       "      <th>orientation</th>\n",
       "      <th>status</th>\n",
       "      <th>appearances</th>\n",
       "      <th>introduced</th>\n",
       "      <th>introduced_month</th>\n",
       "      <th>eyes</th>\n",
       "      <th>hair</th>\n",
       "      <th>gender</th>\n",
       "      <th>blue_eyes</th>\n",
       "    </tr>\n",
       "  </thead>\n",
       "  <tbody>\n",
       "    <tr>\n",
       "      <th>76</th>\n",
       "      <td>437867</td>\n",
       "      <td>Diane Carson</td>\n",
       "      <td>public</td>\n",
       "      <td>good</td>\n",
       "      <td>straight</td>\n",
       "      <td>alive</td>\n",
       "      <td>1.0</td>\n",
       "      <td>1940.0</td>\n",
       "      <td>Jan.</td>\n",
       "      <td>blue</td>\n",
       "      <td>blond</td>\n",
       "      <td>female</td>\n",
       "      <td>1</td>\n",
       "    </tr>\n",
       "    <tr>\n",
       "      <th>91</th>\n",
       "      <td>448489</td>\n",
       "      <td>Green Terror (3Xs Foe)</td>\n",
       "      <td>secret</td>\n",
       "      <td>bad</td>\n",
       "      <td>straight</td>\n",
       "      <td>alive</td>\n",
       "      <td>1.0</td>\n",
       "      <td>1940.0</td>\n",
       "      <td>Mar.</td>\n",
       "      <td>green</td>\n",
       "      <td>green</td>\n",
       "      <td>male</td>\n",
       "      <td>0</td>\n",
       "    </tr>\n",
       "    <tr>\n",
       "      <th>164</th>\n",
       "      <td>441633</td>\n",
       "      <td>Zoor</td>\n",
       "      <td>single</td>\n",
       "      <td>bad</td>\n",
       "      <td>straight</td>\n",
       "      <td>alive</td>\n",
       "      <td>1.0</td>\n",
       "      <td>1940.0</td>\n",
       "      <td>Jul.</td>\n",
       "      <td>red</td>\n",
       "      <td>bald</td>\n",
       "      <td>male</td>\n",
       "      <td>0</td>\n",
       "    </tr>\n",
       "    <tr>\n",
       "      <th>165</th>\n",
       "      <td>90942</td>\n",
       "      <td>Ak</td>\n",
       "      <td>single</td>\n",
       "      <td>good</td>\n",
       "      <td>straight</td>\n",
       "      <td>dead</td>\n",
       "      <td>1.0</td>\n",
       "      <td>1941.0</td>\n",
       "      <td>Mar.</td>\n",
       "      <td>one eye</td>\n",
       "      <td>NaN</td>\n",
       "      <td>male</td>\n",
       "      <td>0</td>\n",
       "    </tr>\n",
       "    <tr>\n",
       "      <th>188</th>\n",
       "      <td>468107</td>\n",
       "      <td>Doctor Howard</td>\n",
       "      <td>secret</td>\n",
       "      <td>bad</td>\n",
       "      <td>straight</td>\n",
       "      <td>alive</td>\n",
       "      <td>1.0</td>\n",
       "      <td>1941.0</td>\n",
       "      <td>Dec.</td>\n",
       "      <td>black</td>\n",
       "      <td>NaN</td>\n",
       "      <td>male</td>\n",
       "      <td>0</td>\n",
       "    </tr>\n",
       "  </tbody>\n",
       "</table>\n",
       "</div>"
      ],
      "text/plain": [
       "         id                    name identity alignment orientation status  \\\n",
       "76   437867            Diane Carson   public      good    straight  alive   \n",
       "91   448489  Green Terror (3Xs Foe)   secret       bad    straight  alive   \n",
       "164  441633                    Zoor   single       bad    straight  alive   \n",
       "165   90942                      Ak   single      good    straight   dead   \n",
       "188  468107           Doctor Howard   secret       bad    straight  alive   \n",
       "\n",
       "     appearances  introduced introduced_month     eyes   hair  gender  \\\n",
       "76           1.0      1940.0             Jan.     blue  blond  female   \n",
       "91           1.0      1940.0             Mar.    green  green    male   \n",
       "164          1.0      1940.0             Jul.      red   bald    male   \n",
       "165          1.0      1941.0             Mar.  one eye    NaN    male   \n",
       "188          1.0      1941.0             Dec.    black    NaN    male   \n",
       "\n",
       "    blue_eyes  \n",
       "76          1  \n",
       "91          0  \n",
       "164         0  \n",
       "165         0  \n",
       "188         0  "
      ]
     },
     "execution_count": 24,
     "metadata": {},
     "output_type": "execute_result"
    }
   ],
   "source": [
    "df.head()"
   ]
  },
  {
   "cell_type": "code",
   "execution_count": 25,
   "metadata": {},
   "outputs": [
    {
     "data": {
      "text/html": [
       "<div>\n",
       "<style scoped>\n",
       "    .dataframe tbody tr th:only-of-type {\n",
       "        vertical-align: middle;\n",
       "    }\n",
       "\n",
       "    .dataframe tbody tr th {\n",
       "        vertical-align: top;\n",
       "    }\n",
       "\n",
       "    .dataframe thead th {\n",
       "        text-align: right;\n",
       "    }\n",
       "</style>\n",
       "<table border=\"1\" class=\"dataframe\">\n",
       "  <thead>\n",
       "    <tr style=\"text-align: right;\">\n",
       "      <th></th>\n",
       "      <th>id</th>\n",
       "      <th>name</th>\n",
       "      <th>identity</th>\n",
       "      <th>alignment</th>\n",
       "      <th>orientation</th>\n",
       "      <th>status</th>\n",
       "      <th>appearances</th>\n",
       "      <th>introduced</th>\n",
       "      <th>introduced_month</th>\n",
       "      <th>eyes</th>\n",
       "      <th>hair</th>\n",
       "      <th>gender</th>\n",
       "      <th>blue_eyes</th>\n",
       "    </tr>\n",
       "  </thead>\n",
       "  <tbody>\n",
       "    <tr>\n",
       "      <th>76</th>\n",
       "      <td>437867</td>\n",
       "      <td>Diane Carson</td>\n",
       "      <td>public</td>\n",
       "      <td>good</td>\n",
       "      <td>straight</td>\n",
       "      <td>alive</td>\n",
       "      <td>1.0</td>\n",
       "      <td>1940.0</td>\n",
       "      <td>Jan.</td>\n",
       "      <td>blue</td>\n",
       "      <td>blond</td>\n",
       "      <td>female</td>\n",
       "      <td>1</td>\n",
       "    </tr>\n",
       "    <tr>\n",
       "      <th>727</th>\n",
       "      <td>495227</td>\n",
       "      <td>Hercules (Captain America Past Life)</td>\n",
       "      <td>secret</td>\n",
       "      <td>good</td>\n",
       "      <td>straight</td>\n",
       "      <td>alive</td>\n",
       "      <td>1.0</td>\n",
       "      <td>1944.0</td>\n",
       "      <td>May.</td>\n",
       "      <td>blue</td>\n",
       "      <td>blond</td>\n",
       "      <td>male</td>\n",
       "      <td>1</td>\n",
       "    </tr>\n",
       "    <tr>\n",
       "      <th>855</th>\n",
       "      <td>708966</td>\n",
       "      <td>Nick Finelli</td>\n",
       "      <td>public</td>\n",
       "      <td>bad</td>\n",
       "      <td>straight</td>\n",
       "      <td>alive</td>\n",
       "      <td>1.0</td>\n",
       "      <td>1945.0</td>\n",
       "      <td>Sep.</td>\n",
       "      <td>blue</td>\n",
       "      <td>black</td>\n",
       "      <td>male</td>\n",
       "      <td>1</td>\n",
       "    </tr>\n",
       "    <tr>\n",
       "      <th>859</th>\n",
       "      <td>505245</td>\n",
       "      <td>Percy Walker</td>\n",
       "      <td>public</td>\n",
       "      <td>good</td>\n",
       "      <td>straight</td>\n",
       "      <td>alive</td>\n",
       "      <td>1.0</td>\n",
       "      <td>1945.0</td>\n",
       "      <td>Jan.</td>\n",
       "      <td>blue</td>\n",
       "      <td>blond</td>\n",
       "      <td>male</td>\n",
       "      <td>1</td>\n",
       "    </tr>\n",
       "    <tr>\n",
       "      <th>885</th>\n",
       "      <td>754718</td>\n",
       "      <td>Arch Murdock</td>\n",
       "      <td>single</td>\n",
       "      <td>bad</td>\n",
       "      <td>straight</td>\n",
       "      <td>alive</td>\n",
       "      <td>1.0</td>\n",
       "      <td>1946.0</td>\n",
       "      <td>Dec.</td>\n",
       "      <td>blue</td>\n",
       "      <td>red</td>\n",
       "      <td>male</td>\n",
       "      <td>1</td>\n",
       "    </tr>\n",
       "  </tbody>\n",
       "</table>\n",
       "</div>"
      ],
      "text/plain": [
       "         id                                  name identity alignment  \\\n",
       "76   437867                          Diane Carson   public      good   \n",
       "727  495227  Hercules (Captain America Past Life)   secret      good   \n",
       "855  708966                          Nick Finelli   public       bad   \n",
       "859  505245                          Percy Walker   public      good   \n",
       "885  754718                          Arch Murdock   single       bad   \n",
       "\n",
       "    orientation status  appearances  introduced introduced_month  eyes   hair  \\\n",
       "76     straight  alive          1.0      1940.0             Jan.  blue  blond   \n",
       "727    straight  alive          1.0      1944.0             May.  blue  blond   \n",
       "855    straight  alive          1.0      1945.0             Sep.  blue  black   \n",
       "859    straight  alive          1.0      1945.0             Jan.  blue  blond   \n",
       "885    straight  alive          1.0      1946.0             Dec.  blue    red   \n",
       "\n",
       "     gender blue_eyes  \n",
       "76   female         1  \n",
       "727    male         1  \n",
       "855    male         1  \n",
       "859    male         1  \n",
       "885    male         1  "
      ]
     },
     "execution_count": 25,
     "metadata": {},
     "output_type": "execute_result"
    }
   ],
   "source": [
    "df[df['blue_eyes'] == 1].head()"
   ]
  },
  {
   "cell_type": "code",
   "execution_count": null,
   "metadata": {},
   "outputs": [],
   "source": []
  },
  {
   "cell_type": "code",
   "execution_count": 26,
   "metadata": {},
   "outputs": [],
   "source": [
    "df.drop(columns=['eyes'], inplace=True)"
   ]
  },
  {
   "cell_type": "markdown",
   "metadata": {},
   "source": [
    "#### One Hot encoding of Features"
   ]
  },
  {
   "cell_type": "code",
   "execution_count": 27,
   "metadata": {},
   "outputs": [],
   "source": [
    "# distributions and sampling"
   ]
  },
  {
   "cell_type": "code",
   "execution_count": 28,
   "metadata": {},
   "outputs": [
    {
     "data": {
      "text/plain": [
       "array(['public', 'secret', 'single', nan, 'known to authorities'],\n",
       "      dtype=object)"
      ]
     },
     "execution_count": 28,
     "metadata": {},
     "output_type": "execute_result"
    }
   ],
   "source": [
    "df['identity'].unique()"
   ]
  },
  {
   "cell_type": "code",
   "execution_count": 29,
   "metadata": {},
   "outputs": [
    {
     "data": {
      "text/plain": [
       "Index(['id', 'name', 'identity', 'alignment', 'orientation', 'status',\n",
       "       'appearances', 'introduced', 'introduced_month', 'hair', 'gender',\n",
       "       'blue_eyes'],\n",
       "      dtype='object')"
      ]
     },
     "execution_count": 29,
     "metadata": {},
     "output_type": "execute_result"
    }
   ],
   "source": [
    "df.columns"
   ]
  },
  {
   "cell_type": "code",
   "execution_count": 30,
   "metadata": {},
   "outputs": [],
   "source": [
    "columns_to_encode = ['identity', 'alignment', 'orientation', 'status',\n",
    "        'introduced_month',  'hair',\n",
    "       'gender', ]\n",
    "         "
   ]
  },
  {
   "cell_type": "code",
   "execution_count": 31,
   "metadata": {},
   "outputs": [],
   "source": [
    "def encode_map_dict(names):\n",
    "    counts_map = [(y, x+1) for x, y in enumerate(names) ]\n",
    "    co_maps = dict(counts_map)\n",
    "    return(co_maps)\n",
    "\n",
    "def make_unique_sets_encoding(column, df_f):\n",
    "    list_feature_list=df_f[column].unique()\n",
    "    diction_ = encode_map_dict(list_feature_list)\n",
    "    return encode_map_dict(list_feature_list)\n",
    "\n",
    "def encode_columns(df_f, columns):\n",
    "    for x in columns:\n",
    "        x_name = str(x) + '_num'\n",
    "        dict_x = make_unique_sets_encoding(x, df_f)\n",
    "        df_f[x_name]= df_f[x].map(dict_x);\n",
    "        \n",
    "        \n",
    "encode_columns(df, columns_to_encode)\n"
   ]
  },
  {
   "cell_type": "code",
   "execution_count": 32,
   "metadata": {},
   "outputs": [],
   "source": [
    "# Predictions work flow\n",
    "encode_columns(prediction_df, columns_to_encode)\n",
    "prediction_df.drop(columns=columns_to_encode, inplace=True)"
   ]
  },
  {
   "cell_type": "code",
   "execution_count": null,
   "metadata": {},
   "outputs": [],
   "source": [
    "# more cleaning of null values after encoding. "
   ]
  },
  {
   "cell_type": "code",
   "execution_count": 33,
   "metadata": {},
   "outputs": [
    {
     "name": "stdout",
     "output_type": "stream",
     "text": [
      "<class 'pandas.core.frame.DataFrame'>\n",
      "Int64Index: 9767 entries, 0 to 16375\n",
      "Data columns (total 11 columns):\n",
      "id                      9767 non-null int64\n",
      "name                    9767 non-null object\n",
      "appearances             9021 non-null float64\n",
      "introduced              9349 non-null float64\n",
      "identity_num            9767 non-null int64\n",
      "alignment_num           9767 non-null int64\n",
      "orientation_num         9767 non-null int64\n",
      "status_num              9767 non-null int64\n",
      "introduced_month_num    9767 non-null int64\n",
      "hair_num                9767 non-null int64\n",
      "gender_num              9767 non-null int64\n",
      "dtypes: float64(2), int64(8), object(1)\n",
      "memory usage: 1.2+ MB\n"
     ]
    }
   ],
   "source": [
    "prediction_df.info()"
   ]
  },
  {
   "cell_type": "code",
   "execution_count": 34,
   "metadata": {},
   "outputs": [
    {
     "name": "stdout",
     "output_type": "stream",
     "text": [
      "<class 'pandas.core.frame.DataFrame'>\n",
      "Int64Index: 9767 entries, 0 to 16375\n",
      "Data columns (total 11 columns):\n",
      "id                      9767 non-null int64\n",
      "name                    9767 non-null object\n",
      "appearances             9767 non-null float64\n",
      "introduced              9767 non-null float64\n",
      "identity_num            9767 non-null int64\n",
      "alignment_num           9767 non-null int64\n",
      "orientation_num         9767 non-null int64\n",
      "status_num              9767 non-null int64\n",
      "introduced_month_num    9767 non-null int64\n",
      "hair_num                9767 non-null int64\n",
      "gender_num              9767 non-null int64\n",
      "dtypes: float64(2), int64(8), object(1)\n",
      "memory usage: 1.2+ MB\n"
     ]
    }
   ],
   "source": [
    "prediction_df['appearances'] = prediction_df['appearances'].where(prediction_df['appearances'].notnull(), -1)\n",
    "prediction_df['introduced'] = prediction_df['introduced'].where(prediction_df['introduced'].notnull(), -1)\n",
    "prediction_df.info()"
   ]
  },
  {
   "cell_type": "code",
   "execution_count": 35,
   "metadata": {},
   "outputs": [],
   "source": [
    "df.drop(columns=columns_to_encode, inplace=True)"
   ]
  },
  {
   "cell_type": "code",
   "execution_count": 36,
   "metadata": {},
   "outputs": [
    {
     "data": {
      "text/html": [
       "<div>\n",
       "<style scoped>\n",
       "    .dataframe tbody tr th:only-of-type {\n",
       "        vertical-align: middle;\n",
       "    }\n",
       "\n",
       "    .dataframe tbody tr th {\n",
       "        vertical-align: top;\n",
       "    }\n",
       "\n",
       "    .dataframe thead th {\n",
       "        text-align: right;\n",
       "    }\n",
       "</style>\n",
       "<table border=\"1\" class=\"dataframe\">\n",
       "  <thead>\n",
       "    <tr style=\"text-align: right;\">\n",
       "      <th></th>\n",
       "      <th>id</th>\n",
       "      <th>name</th>\n",
       "      <th>appearances</th>\n",
       "      <th>introduced</th>\n",
       "      <th>blue_eyes</th>\n",
       "      <th>identity_num</th>\n",
       "      <th>alignment_num</th>\n",
       "      <th>orientation_num</th>\n",
       "      <th>status_num</th>\n",
       "      <th>introduced_month_num</th>\n",
       "      <th>hair_num</th>\n",
       "      <th>gender_num</th>\n",
       "    </tr>\n",
       "  </thead>\n",
       "  <tbody>\n",
       "    <tr>\n",
       "      <th>76</th>\n",
       "      <td>437867</td>\n",
       "      <td>Diane Carson</td>\n",
       "      <td>1.0</td>\n",
       "      <td>1940.0</td>\n",
       "      <td>1</td>\n",
       "      <td>1</td>\n",
       "      <td>1</td>\n",
       "      <td>1</td>\n",
       "      <td>1</td>\n",
       "      <td>1</td>\n",
       "      <td>1</td>\n",
       "      <td>1</td>\n",
       "    </tr>\n",
       "    <tr>\n",
       "      <th>91</th>\n",
       "      <td>448489</td>\n",
       "      <td>Green Terror (3Xs Foe)</td>\n",
       "      <td>1.0</td>\n",
       "      <td>1940.0</td>\n",
       "      <td>0</td>\n",
       "      <td>2</td>\n",
       "      <td>2</td>\n",
       "      <td>1</td>\n",
       "      <td>1</td>\n",
       "      <td>2</td>\n",
       "      <td>2</td>\n",
       "      <td>2</td>\n",
       "    </tr>\n",
       "    <tr>\n",
       "      <th>164</th>\n",
       "      <td>441633</td>\n",
       "      <td>Zoor</td>\n",
       "      <td>1.0</td>\n",
       "      <td>1940.0</td>\n",
       "      <td>0</td>\n",
       "      <td>3</td>\n",
       "      <td>2</td>\n",
       "      <td>1</td>\n",
       "      <td>1</td>\n",
       "      <td>3</td>\n",
       "      <td>3</td>\n",
       "      <td>2</td>\n",
       "    </tr>\n",
       "    <tr>\n",
       "      <th>165</th>\n",
       "      <td>90942</td>\n",
       "      <td>Ak</td>\n",
       "      <td>1.0</td>\n",
       "      <td>1941.0</td>\n",
       "      <td>0</td>\n",
       "      <td>3</td>\n",
       "      <td>1</td>\n",
       "      <td>1</td>\n",
       "      <td>2</td>\n",
       "      <td>2</td>\n",
       "      <td>4</td>\n",
       "      <td>2</td>\n",
       "    </tr>\n",
       "    <tr>\n",
       "      <th>188</th>\n",
       "      <td>468107</td>\n",
       "      <td>Doctor Howard</td>\n",
       "      <td>1.0</td>\n",
       "      <td>1941.0</td>\n",
       "      <td>0</td>\n",
       "      <td>2</td>\n",
       "      <td>2</td>\n",
       "      <td>1</td>\n",
       "      <td>1</td>\n",
       "      <td>4</td>\n",
       "      <td>4</td>\n",
       "      <td>2</td>\n",
       "    </tr>\n",
       "  </tbody>\n",
       "</table>\n",
       "</div>"
      ],
      "text/plain": [
       "         id                    name  appearances  introduced blue_eyes  \\\n",
       "76   437867            Diane Carson          1.0      1940.0         1   \n",
       "91   448489  Green Terror (3Xs Foe)          1.0      1940.0         0   \n",
       "164  441633                    Zoor          1.0      1940.0         0   \n",
       "165   90942                      Ak          1.0      1941.0         0   \n",
       "188  468107           Doctor Howard          1.0      1941.0         0   \n",
       "\n",
       "     identity_num  alignment_num  orientation_num  status_num  \\\n",
       "76              1              1                1           1   \n",
       "91              2              2                1           1   \n",
       "164             3              2                1           1   \n",
       "165             3              1                1           2   \n",
       "188             2              2                1           1   \n",
       "\n",
       "     introduced_month_num  hair_num  gender_num  \n",
       "76                      1         1           1  \n",
       "91                      2         2           2  \n",
       "164                     3         3           2  \n",
       "165                     2         4           2  \n",
       "188                     4         4           2  "
      ]
     },
     "execution_count": 36,
     "metadata": {},
     "output_type": "execute_result"
    }
   ],
   "source": [
    "df.head()"
   ]
  },
  {
   "cell_type": "code",
   "execution_count": 37,
   "metadata": {},
   "outputs": [
    {
     "data": {
      "text/plain": [
       "6608"
      ]
     },
     "execution_count": 37,
     "metadata": {},
     "output_type": "execute_result"
    }
   ],
   "source": [
    "len(set(df['name']))"
   ]
  },
  {
   "cell_type": "code",
   "execution_count": 38,
   "metadata": {},
   "outputs": [
    {
     "data": {
      "text/html": [
       "<div>\n",
       "<style scoped>\n",
       "    .dataframe tbody tr th:only-of-type {\n",
       "        vertical-align: middle;\n",
       "    }\n",
       "\n",
       "    .dataframe tbody tr th {\n",
       "        vertical-align: top;\n",
       "    }\n",
       "\n",
       "    .dataframe thead th {\n",
       "        text-align: right;\n",
       "    }\n",
       "</style>\n",
       "<table border=\"1\" class=\"dataframe\">\n",
       "  <thead>\n",
       "    <tr style=\"text-align: right;\">\n",
       "      <th></th>\n",
       "      <th>id</th>\n",
       "      <th>appearances</th>\n",
       "      <th>introduced</th>\n",
       "      <th>identity_num</th>\n",
       "      <th>alignment_num</th>\n",
       "      <th>orientation_num</th>\n",
       "      <th>status_num</th>\n",
       "      <th>introduced_month_num</th>\n",
       "      <th>hair_num</th>\n",
       "      <th>gender_num</th>\n",
       "    </tr>\n",
       "  </thead>\n",
       "  <tbody>\n",
       "    <tr>\n",
       "      <th>count</th>\n",
       "      <td>6609.000000</td>\n",
       "      <td>6259.000000</td>\n",
       "      <td>6212.000000</td>\n",
       "      <td>6609.000000</td>\n",
       "      <td>6609.000000</td>\n",
       "      <td>6609.000000</td>\n",
       "      <td>6609.000000</td>\n",
       "      <td>6609.000000</td>\n",
       "      <td>6609.000000</td>\n",
       "      <td>6609.000000</td>\n",
       "    </tr>\n",
       "    <tr>\n",
       "      <th>mean</th>\n",
       "      <td>244882.017249</td>\n",
       "      <td>35.046174</td>\n",
       "      <td>1989.934321</td>\n",
       "      <td>2.082917</td>\n",
       "      <td>2.057497</td>\n",
       "      <td>1.017854</td>\n",
       "      <td>1.257679</td>\n",
       "      <td>6.796338</td>\n",
       "      <td>5.145408</td>\n",
       "      <td>1.760781</td>\n",
       "    </tr>\n",
       "    <tr>\n",
       "      <th>std</th>\n",
       "      <td>255472.488726</td>\n",
       "      <td>148.299852</td>\n",
       "      <td>16.816747</td>\n",
       "      <td>0.940300</td>\n",
       "      <td>0.996373</td>\n",
       "      <td>0.197554</td>\n",
       "      <td>0.437389</td>\n",
       "      <td>3.685295</td>\n",
       "      <td>3.108589</td>\n",
       "      <td>0.579199</td>\n",
       "    </tr>\n",
       "    <tr>\n",
       "      <th>min</th>\n",
       "      <td>1025.000000</td>\n",
       "      <td>1.000000</td>\n",
       "      <td>1939.000000</td>\n",
       "      <td>1.000000</td>\n",
       "      <td>1.000000</td>\n",
       "      <td>1.000000</td>\n",
       "      <td>1.000000</td>\n",
       "      <td>1.000000</td>\n",
       "      <td>1.000000</td>\n",
       "      <td>1.000000</td>\n",
       "    </tr>\n",
       "    <tr>\n",
       "      <th>25%</th>\n",
       "      <td>16052.000000</td>\n",
       "      <td>2.000000</td>\n",
       "      <td>1978.000000</td>\n",
       "      <td>1.000000</td>\n",
       "      <td>1.000000</td>\n",
       "      <td>1.000000</td>\n",
       "      <td>1.000000</td>\n",
       "      <td>4.000000</td>\n",
       "      <td>3.000000</td>\n",
       "      <td>1.000000</td>\n",
       "    </tr>\n",
       "    <tr>\n",
       "      <th>50%</th>\n",
       "      <td>116225.000000</td>\n",
       "      <td>6.000000</td>\n",
       "      <td>1993.000000</td>\n",
       "      <td>2.000000</td>\n",
       "      <td>2.000000</td>\n",
       "      <td>1.000000</td>\n",
       "      <td>1.000000</td>\n",
       "      <td>7.000000</td>\n",
       "      <td>5.000000</td>\n",
       "      <td>2.000000</td>\n",
       "    </tr>\n",
       "    <tr>\n",
       "      <th>75%</th>\n",
       "      <td>488902.000000</td>\n",
       "      <td>19.000000</td>\n",
       "      <td>2004.000000</td>\n",
       "      <td>2.000000</td>\n",
       "      <td>3.000000</td>\n",
       "      <td>1.000000</td>\n",
       "      <td>2.000000</td>\n",
       "      <td>10.000000</td>\n",
       "      <td>6.000000</td>\n",
       "      <td>2.000000</td>\n",
       "    </tr>\n",
       "    <tr>\n",
       "      <th>max</th>\n",
       "      <td>755108.000000</td>\n",
       "      <td>4043.000000</td>\n",
       "      <td>2013.000000</td>\n",
       "      <td>5.000000</td>\n",
       "      <td>4.000000</td>\n",
       "      <td>6.000000</td>\n",
       "      <td>2.000000</td>\n",
       "      <td>13.000000</td>\n",
       "      <td>22.000000</td>\n",
       "      <td>5.000000</td>\n",
       "    </tr>\n",
       "  </tbody>\n",
       "</table>\n",
       "</div>"
      ],
      "text/plain": [
       "                  id  appearances   introduced  identity_num  alignment_num  \\\n",
       "count    6609.000000  6259.000000  6212.000000   6609.000000    6609.000000   \n",
       "mean   244882.017249    35.046174  1989.934321      2.082917       2.057497   \n",
       "std    255472.488726   148.299852    16.816747      0.940300       0.996373   \n",
       "min      1025.000000     1.000000  1939.000000      1.000000       1.000000   \n",
       "25%     16052.000000     2.000000  1978.000000      1.000000       1.000000   \n",
       "50%    116225.000000     6.000000  1993.000000      2.000000       2.000000   \n",
       "75%    488902.000000    19.000000  2004.000000      2.000000       3.000000   \n",
       "max    755108.000000  4043.000000  2013.000000      5.000000       4.000000   \n",
       "\n",
       "       orientation_num   status_num  introduced_month_num     hair_num  \\\n",
       "count      6609.000000  6609.000000           6609.000000  6609.000000   \n",
       "mean          1.017854     1.257679              6.796338     5.145408   \n",
       "std           0.197554     0.437389              3.685295     3.108589   \n",
       "min           1.000000     1.000000              1.000000     1.000000   \n",
       "25%           1.000000     1.000000              4.000000     3.000000   \n",
       "50%           1.000000     1.000000              7.000000     5.000000   \n",
       "75%           1.000000     2.000000             10.000000     6.000000   \n",
       "max           6.000000     2.000000             13.000000    22.000000   \n",
       "\n",
       "        gender_num  \n",
       "count  6609.000000  \n",
       "mean      1.760781  \n",
       "std       0.579199  \n",
       "min       1.000000  \n",
       "25%       1.000000  \n",
       "50%       2.000000  \n",
       "75%       2.000000  \n",
       "max       5.000000  "
      ]
     },
     "execution_count": 38,
     "metadata": {},
     "output_type": "execute_result"
    }
   ],
   "source": [
    "df.describe()"
   ]
  },
  {
   "cell_type": "code",
   "execution_count": 39,
   "metadata": {},
   "outputs": [
    {
     "name": "stdout",
     "output_type": "stream",
     "text": [
      "<class 'pandas.core.frame.DataFrame'>\n",
      "Int64Index: 6609 entries, 76 to 16373\n",
      "Data columns (total 12 columns):\n",
      "id                      6609 non-null int64\n",
      "name                    6609 non-null object\n",
      "appearances             6259 non-null float64\n",
      "introduced              6212 non-null float64\n",
      "blue_eyes               6609 non-null object\n",
      "identity_num            6609 non-null int64\n",
      "alignment_num           6609 non-null int64\n",
      "orientation_num         6609 non-null int64\n",
      "status_num              6609 non-null int64\n",
      "introduced_month_num    6609 non-null int64\n",
      "hair_num                6609 non-null int64\n",
      "gender_num              6609 non-null int64\n",
      "dtypes: float64(2), int64(8), object(2)\n",
      "memory usage: 671.2+ KB\n"
     ]
    }
   ],
   "source": [
    "df.info()"
   ]
  },
  {
   "cell_type": "code",
   "execution_count": 40,
   "metadata": {},
   "outputs": [],
   "source": [
    "### Getting rid of null values"
   ]
  },
  {
   "cell_type": "code",
   "execution_count": 41,
   "metadata": {},
   "outputs": [],
   "source": [
    "df['appearances'] = df['appearances'].where(df['appearances'].notnull(), -1)"
   ]
  },
  {
   "cell_type": "code",
   "execution_count": 42,
   "metadata": {},
   "outputs": [],
   "source": [
    "df['introduced'] = df['introduced'].where(df['introduced'].notnull(), -1)"
   ]
  },
  {
   "cell_type": "code",
   "execution_count": null,
   "metadata": {},
   "outputs": [],
   "source": [
    "# no null values!"
   ]
  },
  {
   "cell_type": "code",
   "execution_count": 43,
   "metadata": {},
   "outputs": [
    {
     "name": "stdout",
     "output_type": "stream",
     "text": [
      "<class 'pandas.core.frame.DataFrame'>\n",
      "Int64Index: 6609 entries, 76 to 16373\n",
      "Data columns (total 12 columns):\n",
      "id                      6609 non-null int64\n",
      "name                    6609 non-null object\n",
      "appearances             6609 non-null float64\n",
      "introduced              6609 non-null float64\n",
      "blue_eyes               6609 non-null object\n",
      "identity_num            6609 non-null int64\n",
      "alignment_num           6609 non-null int64\n",
      "orientation_num         6609 non-null int64\n",
      "status_num              6609 non-null int64\n",
      "introduced_month_num    6609 non-null int64\n",
      "hair_num                6609 non-null int64\n",
      "gender_num              6609 non-null int64\n",
      "dtypes: float64(2), int64(8), object(2)\n",
      "memory usage: 671.2+ KB\n"
     ]
    }
   ],
   "source": [
    "df.info()"
   ]
  },
  {
   "cell_type": "code",
   "execution_count": 44,
   "metadata": {},
   "outputs": [],
   "source": [
    "names_comics = df['name']\n",
    "df.drop(columns=['name'], inplace=True)"
   ]
  },
  {
   "cell_type": "code",
   "execution_count": 45,
   "metadata": {},
   "outputs": [],
   "source": [
    "df.to_csv('blue_eyes_data.csv')"
   ]
  },
  {
   "cell_type": "markdown",
   "metadata": {},
   "source": [
    "## Training and Testing"
   ]
  },
  {
   "cell_type": "code",
   "execution_count": 46,
   "metadata": {},
   "outputs": [],
   "source": [
    "# correlation matrices"
   ]
  },
  {
   "cell_type": "code",
   "execution_count": 47,
   "metadata": {},
   "outputs": [
    {
     "data": {
      "image/png": "[encoded data removed]",
      "text/plain": [
       "<Figure size 360x288 with 2 Axes>"
      ]
     },
     "metadata": {
      "needs_background": "light"
     },
     "output_type": "display_data"
    }
   ],
   "source": [
    "fig1, ax = plt.subplots(1,1, figsize=(5,4))\n",
    "corr = df.corr().round(2)\n",
    "ax = sns.heatmap(corr, annot=True,cmap='Reds',\n",
    "            xticklabels=corr.columns.values,\n",
    "            yticklabels=corr.columns.values,ax = ax )\n",
    "\n",
    "plt.savefig('correlationMatrix')"
   ]
  },
  {
   "cell_type": "code",
   "execution_count": 48,
   "metadata": {},
   "outputs": [],
   "source": [
    "import random\n",
    "random.seed(42)"
   ]
  },
  {
   "cell_type": "code",
   "execution_count": 49,
   "metadata": {},
   "outputs": [],
   "source": [
    "# pick 1962 random samples from NON-Blue entries"
   ]
  },
  {
   "cell_type": "code",
   "execution_count": 50,
   "metadata": {},
   "outputs": [],
   "source": [
    "random_index = random.sample(set(df[df['blue_eyes']==0].index), 1962)"
   ]
  },
  {
   "cell_type": "code",
   "execution_count": 51,
   "metadata": {},
   "outputs": [],
   "source": [
    "blue_eyes_index = df[df['blue_eyes']==1].index"
   ]
  },
  {
   "cell_type": "code",
   "execution_count": 52,
   "metadata": {},
   "outputs": [],
   "source": [
    "training_data = df.loc[random_index].append(df.loc[blue_eyes_index])"
   ]
  },
  {
   "cell_type": "code",
   "execution_count": 53,
   "metadata": {},
   "outputs": [],
   "source": [
    "target_variable = training_data['blue_eyes']\n",
    "training_data.drop(columns=['blue_eyes'], inplace=True)"
   ]
  },
  {
   "cell_type": "code",
   "execution_count": 54,
   "metadata": {},
   "outputs": [],
   "source": [
    "feat_X_train, X_test, feat_y_train,y_test = train_test_split(training_data, target_variable, \n",
    "                                                             test_size=0.33, random_state=42)"
   ]
  },
  {
   "cell_type": "code",
   "execution_count": 55,
   "metadata": {},
   "outputs": [],
   "source": [
    "# baseline ML algorithm"
   ]
  },
  {
   "cell_type": "code",
   "execution_count": 56,
   "metadata": {},
   "outputs": [],
   "source": [
    "blues_base = y_test.copy()"
   ]
  },
  {
   "cell_type": "code",
   "execution_count": 57,
   "metadata": {},
   "outputs": [],
   "source": [
    "# supposedly only 17% of people in the world have blue eyes, so we random say %17 of testing has blue eyes\n",
    "blues_test = random.sample(set(y_test.index), int(len(y_test)*.17))"
   ]
  },
  {
   "cell_type": "code",
   "execution_count": 58,
   "metadata": {},
   "outputs": [],
   "source": [
    "blues_base.loc[blues_test] = 1"
   ]
  },
  {
   "cell_type": "code",
   "execution_count": 59,
   "metadata": {},
   "outputs": [],
   "source": [
    "blues_base.loc[~blues_base.isin(blues_test)] = 0"
   ]
  },
  {
   "cell_type": "code",
   "execution_count": 60,
   "metadata": {},
   "outputs": [
    {
     "data": {
      "text/plain": [
       "0.4888030888030888"
      ]
     },
     "execution_count": 60,
     "metadata": {},
     "output_type": "execute_result"
    }
   ],
   "source": [
    "mean_squared_error( y_test, blues_base,)"
   ]
  },
  {
   "cell_type": "code",
   "execution_count": 62,
   "metadata": {},
   "outputs": [],
   "source": [
    "mean_sq_er_base = mean_squared_error( y_test, blues_base,)"
   ]
  },
  {
   "cell_type": "code",
   "execution_count": 63,
   "metadata": {},
   "outputs": [
    {
     "data": {
      "text/plain": [
       "array([0])"
      ]
     },
     "execution_count": 63,
     "metadata": {},
     "output_type": "execute_result"
    }
   ],
   "source": [
    "blues_base.unique()"
   ]
  },
  {
   "cell_type": "code",
   "execution_count": 64,
   "metadata": {},
   "outputs": [],
   "source": [
    "y_test = y_test.astype(int)"
   ]
  },
  {
   "cell_type": "code",
   "execution_count": 65,
   "metadata": {},
   "outputs": [
    {
     "name": "stderr",
     "output_type": "stream",
     "text": [
      "/Users/shhuds/env/lib/python3.7/site-packages/sklearn/metrics/_classification.py:1272: UndefinedMetricWarning: Precision and F-score are ill-defined and being set to 0.0 in labels with no predicted samples. Use `zero_division` parameter to control this behavior.\n",
      "  _warn_prf(average, modifier, msg_start, len(result))\n"
     ]
    },
    {
     "data": {
      "text/plain": [
       "(array([0.51119691, 0.        ]),\n",
       " array([1., 0.]),\n",
       " array([0.67654573, 0.        ]),\n",
       " array([662, 633]))"
      ]
     },
     "execution_count": 65,
     "metadata": {},
     "output_type": "execute_result"
    }
   ],
   "source": [
    "precision_recall_fscore_support(y_test,blues_base)"
   ]
  },
  {
   "cell_type": "code",
   "execution_count": 85,
   "metadata": {},
   "outputs": [
    {
     "data": {
      "text/plain": [
       "0.0"
      ]
     },
     "execution_count": 85,
     "metadata": {},
     "output_type": "execute_result"
    }
   ],
   "source": [
    "from sklearn.metrics import f1_score\n",
    "f1_score(y_test, blues_base, labels=np.unique(blues_base))"
   ]
  },
  {
   "cell_type": "code",
   "execution_count": 66,
   "metadata": {},
   "outputs": [
    {
     "data": {
      "text/plain": [
       "0.5111969111969112"
      ]
     },
     "execution_count": 66,
     "metadata": {},
     "output_type": "execute_result"
    }
   ],
   "source": [
    "len(blues_base[blues_base == y_test])/(len(blues_base))"
   ]
  },
  {
   "cell_type": "code",
   "execution_count": 67,
   "metadata": {},
   "outputs": [
    {
     "data": {
      "text/plain": [
       "0.5111969111969112"
      ]
     },
     "execution_count": 67,
     "metadata": {},
     "output_type": "execute_result"
    }
   ],
   "source": [
    "len(y_test[blues_base == y_test])/(len(y_test))"
   ]
  },
  {
   "cell_type": "markdown",
   "metadata": {},
   "source": [
    "### Logistic Regression"
   ]
  },
  {
   "cell_type": "code",
   "execution_count": 68,
   "metadata": {},
   "outputs": [
    {
     "name": "stderr",
     "output_type": "stream",
     "text": [
      "/Users/shhuds/env/lib/python3.7/site-packages/scipy/optimize/linesearch.py:466: LineSearchWarning: The line search algorithm did not converge\n",
      "  warn('The line search algorithm did not converge', LineSearchWarning)\n",
      "/Users/shhuds/env/lib/python3.7/site-packages/scipy/optimize/linesearch.py:314: LineSearchWarning: The line search algorithm did not converge\n",
      "  warn('The line search algorithm did not converge', LineSearchWarning)\n",
      "/Users/shhuds/env/lib/python3.7/site-packages/scipy/optimize/linesearch.py:466: LineSearchWarning: The line search algorithm did not converge\n",
      "  warn('The line search algorithm did not converge', LineSearchWarning)\n",
      "/Users/shhuds/env/lib/python3.7/site-packages/scipy/optimize/linesearch.py:314: LineSearchWarning: The line search algorithm did not converge\n",
      "  warn('The line search algorithm did not converge', LineSearchWarning)\n",
      "/Users/shhuds/env/lib/python3.7/site-packages/scipy/optimize/linesearch.py:466: LineSearchWarning: The line search algorithm did not converge\n",
      "  warn('The line search algorithm did not converge', LineSearchWarning)\n",
      "/Users/shhuds/env/lib/python3.7/site-packages/scipy/optimize/linesearch.py:314: LineSearchWarning: The line search algorithm did not converge\n",
      "  warn('The line search algorithm did not converge', LineSearchWarning)\n",
      "/Users/shhuds/env/lib/python3.7/site-packages/scipy/optimize/linesearch.py:466: LineSearchWarning: The line search algorithm did not converge\n",
      "  warn('The line search algorithm did not converge', LineSearchWarning)\n",
      "/Users/shhuds/env/lib/python3.7/site-packages/scipy/optimize/linesearch.py:314: LineSearchWarning: The line search algorithm did not converge\n",
      "  warn('The line search algorithm did not converge', LineSearchWarning)\n",
      "/Users/shhuds/env/lib/python3.7/site-packages/scipy/optimize/linesearch.py:466: LineSearchWarning: The line search algorithm did not converge\n",
      "  warn('The line search algorithm did not converge', LineSearchWarning)\n",
      "/Users/shhuds/env/lib/python3.7/site-packages/scipy/optimize/linesearch.py:314: LineSearchWarning: The line search algorithm did not converge\n",
      "  warn('The line search algorithm did not converge', LineSearchWarning)\n",
      "/Users/shhuds/env/lib/python3.7/site-packages/scipy/optimize/linesearch.py:466: LineSearchWarning: The line search algorithm did not converge\n",
      "  warn('The line search algorithm did not converge', LineSearchWarning)\n",
      "/Users/shhuds/env/lib/python3.7/site-packages/scipy/optimize/linesearch.py:314: LineSearchWarning: The line search algorithm did not converge\n",
      "  warn('The line search algorithm did not converge', LineSearchWarning)\n",
      "/Users/shhuds/env/lib/python3.7/site-packages/scipy/optimize/linesearch.py:466: LineSearchWarning: The line search algorithm did not converge\n",
      "  warn('The line search algorithm did not converge', LineSearchWarning)\n",
      "/Users/shhuds/env/lib/python3.7/site-packages/scipy/optimize/linesearch.py:314: LineSearchWarning: The line search algorithm did not converge\n",
      "  warn('The line search algorithm did not converge', LineSearchWarning)\n",
      "/Users/shhuds/env/lib/python3.7/site-packages/scipy/optimize/linesearch.py:466: LineSearchWarning: The line search algorithm did not converge\n",
      "  warn('The line search algorithm did not converge', LineSearchWarning)\n",
      "/Users/shhuds/env/lib/python3.7/site-packages/scipy/optimize/linesearch.py:314: LineSearchWarning: The line search algorithm did not converge\n",
      "  warn('The line search algorithm did not converge', LineSearchWarning)\n",
      "/Users/shhuds/env/lib/python3.7/site-packages/sklearn/utils/optimize.py:212: ConvergenceWarning: newton-cg failed to converge. Increase the number of iterations.\n",
      "  \"number of iterations.\", ConvergenceWarning)\n"
     ]
    }
   ],
   "source": [
    "feat_y_train = feat_y_train.astype(int)\n",
    "clf = LogisticRegression(random_state=0, solver='newton-cg').fit(feat_X_train, feat_y_train);\n"
   ]
  },
  {
   "cell_type": "code",
   "execution_count": 69,
   "metadata": {},
   "outputs": [],
   "source": [
    "blue_pred = clf.predict(X_test);"
   ]
  },
  {
   "cell_type": "code",
   "execution_count": 70,
   "metadata": {},
   "outputs": [
    {
     "data": {
      "text/plain": [
       "0.6077220077220077"
      ]
     },
     "execution_count": 70,
     "metadata": {},
     "output_type": "execute_result"
    }
   ],
   "source": [
    "len(blue_pred[blue_pred==y_test])/len(blue_pred)"
   ]
  },
  {
   "cell_type": "code",
   "execution_count": 71,
   "metadata": {},
   "outputs": [
    {
     "data": {
      "text/plain": [
       "0.39227799227799226"
      ]
     },
     "execution_count": 71,
     "metadata": {},
     "output_type": "execute_result"
    }
   ],
   "source": [
    "mean_squared_error(blue_pred, y_test)"
   ]
  },
  {
   "cell_type": "code",
   "execution_count": 72,
   "metadata": {},
   "outputs": [
    {
     "data": {
      "text/plain": [
       "0.39227799227799226"
      ]
     },
     "execution_count": 72,
     "metadata": {},
     "output_type": "execute_result"
    }
   ],
   "source": [
    "mean_squared_error(y_test, blue_pred)"
   ]
  },
  {
   "cell_type": "code",
   "execution_count": 73,
   "metadata": {},
   "outputs": [
    {
     "data": {
      "text/plain": [
       "(array([0.61846154, 0.59689922]),\n",
       " array([0.60725076, 0.60821485]),\n",
       " array([0.61280488, 0.60250391]),\n",
       " array([662, 633]))"
      ]
     },
     "execution_count": 73,
     "metadata": {},
     "output_type": "execute_result"
    }
   ],
   "source": [
    "precision_recall_fscore_support(y_test, blue_pred)"
   ]
  },
  {
   "cell_type": "code",
   "execution_count": 74,
   "metadata": {},
   "outputs": [
    {
     "data": {
      "text/plain": [
       "0.6077220077220077"
      ]
     },
     "execution_count": 74,
     "metadata": {},
     "output_type": "execute_result"
    }
   ],
   "source": [
    "clf.score(X_test, y_test)"
   ]
  },
  {
   "cell_type": "markdown",
   "metadata": {},
   "source": [
    "## Naive Bayes"
   ]
  },
  {
   "cell_type": "code",
   "execution_count": 75,
   "metadata": {},
   "outputs": [
    {
     "data": {
      "text/plain": [
       "(array([0.52219532, 0.73214286]),\n",
       " array([0.97734139, 0.06477093]),\n",
       " array([0.68069437, 0.11901306]),\n",
       " array([662, 633]))"
      ]
     },
     "execution_count": 75,
     "metadata": {},
     "output_type": "execute_result"
    }
   ],
   "source": [
    "from sklearn.naive_bayes import GaussianNB\n",
    "gnb = GaussianNB()\n",
    "\n",
    "gnb.fit(feat_X_train, feat_y_train)\n",
    "\n",
    "blue_pred_gnb = gnb.predict(X_test)\n",
    "\n",
    "precision_recall_fscore_support(y_test, blue_pred_gnb)"
   ]
  },
  {
   "cell_type": "code",
   "execution_count": 76,
   "metadata": {},
   "outputs": [
    {
     "data": {
      "text/plain": [
       "0.46872586872586874"
      ]
     },
     "execution_count": 76,
     "metadata": {},
     "output_type": "execute_result"
    }
   ],
   "source": [
    "mean_squared_error(blue_pred_gnb, y_test)"
   ]
  },
  {
   "cell_type": "code",
   "execution_count": 77,
   "metadata": {},
   "outputs": [
    {
     "data": {
      "text/plain": [
       "0.5312741312741313"
      ]
     },
     "execution_count": 77,
     "metadata": {},
     "output_type": "execute_result"
    }
   ],
   "source": [
    "len(blue_pred_gnb[blue_pred_gnb == y_test])/(len(blue_pred_gnb))"
   ]
  },
  {
   "cell_type": "markdown",
   "metadata": {},
   "source": [
    "## RandomForest"
   ]
  },
  {
   "cell_type": "code",
   "execution_count": 78,
   "metadata": {},
   "outputs": [],
   "source": [
    "from sklearn.ensemble import RandomForestClassifier"
   ]
  },
  {
   "cell_type": "code",
   "execution_count": 79,
   "metadata": {},
   "outputs": [],
   "source": [
    "model = RandomForestClassifier(n_estimators=100, max_depth=3,\n",
    "                             random_state=0)\n",
    "model.fit(feat_X_train, feat_y_train)  \n",
    "blue_pred = clf.predict(X_test);"
   ]
  },
  {
   "cell_type": "code",
   "execution_count": 80,
   "metadata": {},
   "outputs": [
    {
     "data": {
      "text/plain": [
       "(array([0.52219532, 0.73214286]),\n",
       " array([0.97734139, 0.06477093]),\n",
       " array([0.68069437, 0.11901306]),\n",
       " array([662, 633]))"
      ]
     },
     "execution_count": 80,
     "metadata": {},
     "output_type": "execute_result"
    }
   ],
   "source": [
    "precision_recall_fscore_support(y_test, blue_pred_gnb)"
   ]
  },
  {
   "cell_type": "code",
   "execution_count": 81,
   "metadata": {},
   "outputs": [
    {
     "data": {
      "text/plain": [
       "0.39227799227799226"
      ]
     },
     "execution_count": 81,
     "metadata": {},
     "output_type": "execute_result"
    }
   ],
   "source": [
    "mean_squared_error(blue_pred, y_test)"
   ]
  },
  {
   "cell_type": "code",
   "execution_count": 82,
   "metadata": {},
   "outputs": [
    {
     "data": {
      "text/plain": [
       "0.6077220077220077"
      ]
     },
     "execution_count": 82,
     "metadata": {},
     "output_type": "execute_result"
    }
   ],
   "source": [
    "len(blue_pred[blue_pred == y_test])/(len(blue_pred))"
   ]
  },
  {
   "cell_type": "code",
   "execution_count": null,
   "metadata": {},
   "outputs": [],
   "source": []
  },
  {
   "cell_type": "code",
   "execution_count": 83,
   "metadata": {},
   "outputs": [],
   "source": [
    "# test various ML for best RSME or ROC_AUC "
   ]
  },
  {
   "cell_type": "markdown",
   "metadata": {},
   "source": [
    "# pickle the model"
   ]
  },
  {
   "cell_type": "code",
   "execution_count": null,
   "metadata": {},
   "outputs": [],
   "source": [
    "# Random Forest model\n",
    "import pickle\n",
    "\n",
    "filename = 'finalized_model.sav'\n",
    "pickle.dump(model, open(filename, 'wb'))"
   ]
  },
  {
   "cell_type": "code",
   "execution_count": null,
   "metadata": {},
   "outputs": [],
   "source": [
    "# pick best ML algorithm and code for deployment"
   ]
  },
  {
   "cell_type": "code",
   "execution_count": null,
   "metadata": {},
   "outputs": [],
   "source": [
    "# flask and dockerize code for a fun web app or combine with other code for a fun API"
   ]
  }
 ],
 "metadata": {
  "kernelspec": {
   "display_name": "Python 3",
   "language": "python",
   "name": "python3"
  },
  "language_info": {
   "codemirror_mode": {
    "name": "ipython",
    "version": 3
   },
   "file_extension": ".py",
   "mimetype": "text/x-python",
   "name": "python",
   "nbconvert_exporter": "python",
   "pygments_lexer": "ipython3",
   "version": "3.7.6"
  }
 },
 "nbformat": 4,
 "nbformat_minor": 2
}
